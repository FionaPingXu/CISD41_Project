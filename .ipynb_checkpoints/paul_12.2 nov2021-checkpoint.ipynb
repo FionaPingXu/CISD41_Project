{
 "cells": [
  {
   "cell_type": "markdown",
   "id": "a630a0f8",
   "metadata": {},
   "source": [
    "<div style=\"text-align:center\">\n",
    "    \n",
    "# Examining Unemployment and Education in the United States\n",
    "\n",
    "### Mt. SAC CISD 41 Capstone Project Fall 2021\n",
    "\n",
    "#### By\n",
    "    \n",
    "#### Paul Sandeen, \"Fiona\" Ping Xu, Ping Ju \n",
    "    \n",
    "</div>\n"
   ]
  },
  {
   "cell_type": "markdown",
   "id": "1f90b7a7",
   "metadata": {},
   "source": [
    "## Introduction"
   ]
  },
  {
   "cell_type": "markdown",
   "id": "5099f8d8",
   "metadata": {},
   "source": [
    "This project examines the connection between unemployment and education level on a county-by-county basis in all 50 states in the United States of America. The data for unemployment and education will first be evaluated seperately, then combined together to look for correlations in education level and unemployment.\n",
    "\n",
    "A step-by-step methodolgy will be taken to import the data, inspect the data, clean the data, perform an exploratory data analysis, graph the data, and apply statistical methods to analyze the data. All procedures will be performed with the Python programming language and associated libraries."
   ]
  },
  {
   "cell_type": "markdown",
   "id": "31d24df4",
   "metadata": {},
   "source": [
    "## Intended Audience"
   ]
  },
  {
   "cell_type": "markdown",
   "id": "06fc133b",
   "metadata": {},
   "source": [
    "This project is intended for students, educators, and anyone interested in a deeper understanding in how education and unemployment are associated in the United States. The ability to read and understand computer programs written in Python is required. Familiarity with fundamental statistical concepts and the ability to interpret grahphs is assumed."
   ]
  },
  {
   "cell_type": "markdown",
   "id": "be231c1c",
   "metadata": {},
   "source": [
    "## Tools Used"
   ]
  },
  {
   "cell_type": "markdown",
   "id": "8c1851bb",
   "metadata": {},
   "source": [
    "This project uses the Python programming language running in the Anaconda environment. \n",
    "\n",
    "Associated Python libraries used for data analysis: Numpy, pandas, Matplotlib, Seaborn.\n",
    "\n",
    "The project was composed as a Jupyter Notebook."
   ]
  },
  {
   "cell_type": "markdown",
   "id": "1f63b5ba",
   "metadata": {},
   "source": [
    "## DataSet Source"
   ]
  },
  {
   "cell_type": "markdown",
   "id": "31274872",
   "metadata": {},
   "source": [
    "The original dataset for both education level and unemployment is located at:\n",
    "\n",
    "\"USA Unemployment & Education Level\"\n",
    "\n",
    "https://www.kaggle.com/valbauman/student-engagement-online-learning-supplement/version/3?select=UIC_codes.csv\n",
    "\n",
    "The dataset is maintained by: Val Bauman\n",
    "\n",
    "The files used for the project: UIC_codes.csv, education.csv, unemployment.csv"
   ]
  },
  {
   "cell_type": "markdown",
   "id": "99cbca11",
   "metadata": {},
   "source": [
    "## Definitions"
   ]
  },
  {
   "cell_type": "markdown",
   "id": "cfdbab8a",
   "metadata": {},
   "source": [
    "The terms City, Suburb, Town and Rural areas are defined as follows:\n",
    "\n",
    "City is a large town, and it usually has the largest civilian labor force. The dataset provider described city as large-in a metro area with at least 1 million residents or more.\n",
    "\n",
    "Suburb is the residential area of city or town, and it usually has the second largest civilian labor force; it is a micropolitan area adjacent to a large metro area.\n",
    "\n",
    "Town is usually describing an urban area which is bigger than a village, but it is smaller than a city. A town is a noncore area adjacent to a small metro with a population of at least 2,500 residents.\n",
    "\n",
    "Rural areas are characterized by a large open land, countryside or farming community. Rural areas are often on the outskirts of  a large metro area."
   ]
  },
  {
   "cell_type": "markdown",
   "id": "1f81ddad",
   "metadata": {},
   "source": [
    "## Asking the appropriate questions"
   ]
  },
  {
   "cell_type": "markdown",
   "id": "f041c791",
   "metadata": {},
   "source": [
    "This project will attempt to answer the following questions:\n",
    "\n",
    "1\\. Even with states having low or moderate unemployment rates, are there counties with unusually high or low unemployment? (Paul)\n",
    "\n",
    "2\\. A charity organization wants to explore which communities have residents that need help in completing their high school education. Which communities should they look at to do the most good? (Paul)\n",
    "\n",
    "3\\. Does low unemployment correlate better with having a bachelor's degree (or higher) or just a high school diploma? (Paul)\n",
    "\n",
    "4\\. Which years have the highest and lowest unemployment rate over the course of 21 years? (Fiona)\n",
    "\n",
    "5\\. Which states contribute the most and the least for the unemployment change from year 2019 to 2020? (Fiona)\n",
    "\n",
    "6\\. Is there a significant change regarding percentages of people completing different diplomas between year 2000 and year 2015-2019? (Fiona)\n",
    "\n",
    "7\\. What is the correlation between the adults with less than a high school diploma 2000 and unemployment rate in the year of 2000? (Ping)\n",
    "\n",
    "8\\. What will happen if the adults completing some college or even completing a bachelor's degree or higher 2000? (Ping)\n",
    "\n",
    "9\\. How has civilian labor force changed in City/Suburb/Town/Rural areas from 2000, 2010 and 2020? (Ping)\n",
    "\n"
   ]
  },
  {
   "cell_type": "markdown",
   "id": "226ef691",
   "metadata": {},
   "source": [
    "## Import the Required Libraries\n"
   ]
  },
  {
   "cell_type": "code",
   "execution_count": 1,
   "id": "74954e13",
   "metadata": {},
   "outputs": [
    {
     "data": {
      "text/html": [
       "        <script type=\"text/javascript\">\n",
       "        window.PlotlyConfig = {MathJaxConfig: 'local'};\n",
       "        if (window.MathJax) {MathJax.Hub.Config({SVG: {font: \"STIX-Web\"}});}\n",
       "        if (typeof require !== 'undefined') {\n",
       "        require.undef(\"plotly\");\n",
       "        requirejs.config({\n",
       "            paths: {\n",
       "                'plotly': ['https://cdn.plot.ly/plotly-2.4.2.min']\n",
       "            }\n",
       "        });\n",
       "        require(['plotly'], function(Plotly) {\n",
       "            window._Plotly = Plotly;\n",
       "        });\n",
       "        }\n",
       "        </script>\n",
       "        "
      ]
     },
     "metadata": {},
     "output_type": "display_data"
    }
   ],
   "source": [
    "# Import the numpy and pandas libraries for data analysis methods\n",
    "import numpy as np\n",
    "import pandas as pd\n",
    "\n",
    "# Import the Matplotlib and Seaborn libraries to create plots\n",
    "import matplotlib.pyplot as plt\n",
    "import seaborn as sns\n",
    "\n",
    "# Import libraries required for Choropleth Map plots\n",
    "import plotly.graph_objs as go\n",
    "from plotly.offline import init_notebook_mode, iplot\n",
    "init_notebook_mode(connected=True)\n",
    "\n",
    "# Import the warnings library and disable warnings from being printed in the Jupyter notebook\n",
    "import warnings\n",
    "warnings.filterwarnings('ignore')\n",
    "\n",
    "# Display plots inside the Jupypter nodebook\n",
    "%matplotlib inline\n",
    "\n",
    "# Import the Z-test libraries used for statistical analysis\n",
    "from statsmodels.stats.weightstats import ztest\n",
    "\n",
    "# Import the Python Scipy Statistics library\n",
    "import scipy.stats as stats\n",
    "\n",
    "# Import the SciPy Pearson r module\n",
    "from scipy.stats import pearsonr\n",
    "\n",
    "# Imprt the libraries for the Chi-squared test\n",
    "from scipy.stats import chi2_contingency\n",
    "from scipy.stats import chi2\n"
   ]
  },
  {
   "cell_type": "markdown",
   "id": "d9fec323",
   "metadata": {},
   "source": [
    "## Import the Data"
   ]
  },
  {
   "cell_type": "code",
   "execution_count": 2,
   "id": "1203f1c6",
   "metadata": {},
   "outputs": [],
   "source": [
    "# Import the unemployment data from the unemployment.csv file\n",
    "df_unemployment = pd.read_csv('data/unemployment.csv', sep=',')\n",
    "\n",
    "# Import the education data from the education.csv file\n",
    "df_education = pd.read_csv('data/education.csv', sep=',')\n",
    "\n",
    "# Import the UIC data from the UIC_codes.csv file\n",
    "df_uic = pd.read_csv('data/UIC_codes.csv', sep=',')"
   ]
  },
  {
   "cell_type": "markdown",
   "id": "fa94fb2b",
   "metadata": {},
   "source": [
    "## Inspect data (head, tail, info, dtype, etc.)\n"
   ]
  },
  {
   "cell_type": "code",
   "execution_count": 3,
   "id": "357b7883",
   "metadata": {},
   "outputs": [
    {
     "name": "stdout",
     "output_type": "stream",
     "text": [
      "unemployement.csv:\n",
      "shape (rows, columns): (3275, 93) \n",
      "\n",
      "<class 'pandas.core.frame.DataFrame'>\n",
      "RangeIndex: 3275 entries, 0 to 3274\n",
      "Data columns (total 93 columns):\n",
      " #   Column                                     Non-Null Count  Dtype  \n",
      "---  ------                                     --------------  -----  \n",
      " 0   FIPS_Code                                  3275 non-null   int64  \n",
      " 1   State                                      3275 non-null   object \n",
      " 2   Area_name                                  3275 non-null   object \n",
      " 3   Rural_urban_continuum_code_2013            3219 non-null   float64\n",
      " 4   Urban_influence_code_2013                  3219 non-null   float64\n",
      " 5   City/Suburb/Town/Rural                     3219 non-null   object \n",
      " 6   Metro_2013                                 3222 non-null   float64\n",
      " 7   Civilian_labor_force_2000                  3270 non-null   object \n",
      " 8   Employed_2000                              3270 non-null   object \n",
      " 9   Unemployed_2000                            3270 non-null   object \n",
      " 10  Unemployment_rate_2000                     3270 non-null   float64\n",
      " 11  Civilian_labor_force_2001                  3270 non-null   object \n",
      " 12  Employed_2001                              3270 non-null   object \n",
      " 13  Unemployed_2001                            3270 non-null   object \n",
      " 14  Unemployment_rate_2001                     3270 non-null   float64\n",
      " 15  Civilian_labor_force_2002                  3270 non-null   object \n",
      " 16  Employed_2002                              3270 non-null   object \n",
      " 17  Unemployed_2002                            3270 non-null   object \n",
      " 18  Unemployment_rate_2002                     3270 non-null   float64\n",
      " 19  Civilian_labor_force_2003                  3270 non-null   object \n",
      " 20  Employed_2003                              3270 non-null   object \n",
      " 21  Unemployed_2003                            3270 non-null   object \n",
      " 22  Unemployment_rate_2003                     3270 non-null   float64\n",
      " 23  Civilian_labor_force_2004                  3270 non-null   object \n",
      " 24  Employed_2004                              3270 non-null   object \n",
      " 25  Unemployed_2004                            3270 non-null   object \n",
      " 26  Unemployment_rate_2004                     3270 non-null   float64\n",
      " 27  Civilian_labor_force_2005                  3263 non-null   object \n",
      " 28  Employed_2005                              3263 non-null   object \n",
      " 29  Unemployed_2005                            3263 non-null   object \n",
      " 30  Unemployment_rate_2005                     3263 non-null   float64\n",
      " 31  Civilian_labor_force_2006                  3263 non-null   object \n",
      " 32  Employed_2006                              3263 non-null   object \n",
      " 33  Unemployed_2006                            3263 non-null   object \n",
      " 34  Unemployment_rate_2006                     3263 non-null   float64\n",
      " 35  Civilian_labor_force_2007                  3270 non-null   object \n",
      " 36  Employed_2007                              3270 non-null   object \n",
      " 37  Unemployed_2007                            3270 non-null   object \n",
      " 38  Unemployment_rate_2007                     3270 non-null   float64\n",
      " 39  Civilian_labor_force_2008                  3270 non-null   object \n",
      " 40  Employed_2008                              3270 non-null   object \n",
      " 41  Unemployed_2008                            3270 non-null   object \n",
      " 42  Unemployment_rate_2008                     3270 non-null   float64\n",
      " 43  Civilian_labor_force_2009                  3270 non-null   object \n",
      " 44  Employed_2009                              3270 non-null   object \n",
      " 45  Unemployed_2009                            3270 non-null   object \n",
      " 46  Unemployment_rate_2009                     3270 non-null   float64\n",
      " 47  Civilian_labor_force_2010                  3272 non-null   object \n",
      " 48  Employed_2010                              3272 non-null   object \n",
      " 49  Unemployed_2010                            3272 non-null   object \n",
      " 50  Unemployment_rate_2010                     3272 non-null   float64\n",
      " 51  Civilian_labor_force_2011                  3272 non-null   object \n",
      " 52  Employed_2011                              3272 non-null   object \n",
      " 53  Unemployed_2011                            3272 non-null   object \n",
      " 54  Unemployment_rate_2011                     3272 non-null   float64\n",
      " 55  Civilian_labor_force_2012                  3272 non-null   object \n",
      " 56  Employed_2012                              3272 non-null   object \n",
      " 57  Unemployed_2012                            3272 non-null   object \n",
      " 58  Unemployment_rate_2012                     3272 non-null   float64\n",
      " 59  Civilian_labor_force_2013                  3272 non-null   object \n",
      " 60  Employed_2013                              3272 non-null   object \n",
      " 61  Unemployed_2013                            3272 non-null   object \n",
      " 62  Unemployment_rate_2013                     3272 non-null   float64\n",
      " 63  Civilian_labor_force_2014                  3272 non-null   object \n",
      " 64  Employed_2014                              3272 non-null   object \n",
      " 65  Unemployed_2014                            3272 non-null   object \n",
      " 66  Unemployment_rate_2014                     3272 non-null   float64\n",
      " 67  Civilian_labor_force_2015                  3272 non-null   object \n",
      " 68  Employed_2015                              3272 non-null   object \n",
      " 69  Unemployed_2015                            3272 non-null   object \n",
      " 70  Unemployment_rate_2015                     3272 non-null   float64\n",
      " 71  Civilian_labor_force_2016                  3272 non-null   object \n",
      " 72  Employed_2016                              3272 non-null   object \n",
      " 73  Unemployed_2016                            3272 non-null   object \n",
      " 74  Unemployment_rate_2016                     3272 non-null   float64\n",
      " 75  Civilian_labor_force_2017                  3272 non-null   object \n",
      " 76  Employed_2017                              3272 non-null   object \n",
      " 77  Unemployed_2017                            3272 non-null   object \n",
      " 78  Unemployment_rate_2017                     3272 non-null   float64\n",
      " 79  Civilian_labor_force_2018                  3272 non-null   object \n",
      " 80  Employed_2018                              3272 non-null   object \n",
      " 81  Unemployed_2018                            3272 non-null   object \n",
      " 82  Unemployment_rate_2018                     3272 non-null   float64\n",
      " 83  Civilian_labor_force_2019                  3272 non-null   object \n",
      " 84  Employed_2019                              3272 non-null   object \n",
      " 85  Unemployed_2019                            3272 non-null   object \n",
      " 86  Unemployment_rate_2019                     3272 non-null   float64\n",
      " 87  Civilian_labor_force_2020                  3193 non-null   object \n",
      " 88  Employed_2020                              3193 non-null   object \n",
      " 89  Unemployed_2020                            3193 non-null   object \n",
      " 90  Unemployment_rate_2020                     3193 non-null   float64\n",
      " 91  Median_Household_Income_2019               3193 non-null   object \n",
      " 92  Med_HH_Income_Percent_of_State_Total_2019  3192 non-null   float64\n",
      "dtypes: float64(25), int64(1), object(67)\n",
      "memory usage: 2.3+ MB\n",
      "None\n"
     ]
    }
   ],
   "source": [
    "# Examine the data present in df_unemployment DataFrame using shape and info()\n",
    "print('unemployement.csv:')\n",
    "print('shape (rows, columns):', df_unemployment.shape, '\\n')\n",
    "print(df_unemployment.info(verbose=True, null_counts=True))"
   ]
  },
  {
   "cell_type": "markdown",
   "id": "68b571b1",
   "metadata": {},
   "source": [
    "**Conclusion:** The unemployment dataset has 93 columns and 3,275 rows of data. With so much data to work with, finding interesting patterns should not be a problem. The problem is that numerical data (such as the number of people unemployed in the year 2000) is stored as an object (a Python string), not as an integer or float. The data will have to be converted from strings to numbers to be usable.\n",
    "\n",
    "Also, the column names have an underscore character (_) which should be removed."
   ]
  },
  {
   "cell_type": "code",
   "execution_count": 4,
   "id": "83036fc8",
   "metadata": {},
   "outputs": [
    {
     "data": {
      "text/html": [
       "<div>\n",
       "<style scoped>\n",
       "    .dataframe tbody tr th:only-of-type {\n",
       "        vertical-align: middle;\n",
       "    }\n",
       "\n",
       "    .dataframe tbody tr th {\n",
       "        vertical-align: top;\n",
       "    }\n",
       "\n",
       "    .dataframe thead th {\n",
       "        text-align: right;\n",
       "    }\n",
       "</style>\n",
       "<table border=\"1\" class=\"dataframe\">\n",
       "  <thead>\n",
       "    <tr style=\"text-align: right;\">\n",
       "      <th></th>\n",
       "      <th>FIPS_Code</th>\n",
       "      <th>State</th>\n",
       "      <th>Area_name</th>\n",
       "      <th>Rural_urban_continuum_code_2013</th>\n",
       "      <th>Urban_influence_code_2013</th>\n",
       "      <th>City/Suburb/Town/Rural</th>\n",
       "      <th>Metro_2013</th>\n",
       "      <th>Civilian_labor_force_2000</th>\n",
       "      <th>Employed_2000</th>\n",
       "      <th>Unemployed_2000</th>\n",
       "      <th>...</th>\n",
       "      <th>Civilian_labor_force_2019</th>\n",
       "      <th>Employed_2019</th>\n",
       "      <th>Unemployed_2019</th>\n",
       "      <th>Unemployment_rate_2019</th>\n",
       "      <th>Civilian_labor_force_2020</th>\n",
       "      <th>Employed_2020</th>\n",
       "      <th>Unemployed_2020</th>\n",
       "      <th>Unemployment_rate_2020</th>\n",
       "      <th>Median_Household_Income_2019</th>\n",
       "      <th>Med_HH_Income_Percent_of_State_Total_2019</th>\n",
       "    </tr>\n",
       "  </thead>\n",
       "  <tbody>\n",
       "    <tr>\n",
       "      <th>0</th>\n",
       "      <td>1007</td>\n",
       "      <td>AL</td>\n",
       "      <td>Bibb County, AL</td>\n",
       "      <td>1.0</td>\n",
       "      <td>1.0</td>\n",
       "      <td>City</td>\n",
       "      <td>1.0</td>\n",
       "      <td>8,623</td>\n",
       "      <td>8,160</td>\n",
       "      <td>463</td>\n",
       "      <td>...</td>\n",
       "      <td>8,639</td>\n",
       "      <td>8,371</td>\n",
       "      <td>268</td>\n",
       "      <td>3.1</td>\n",
       "      <td>8,640</td>\n",
       "      <td>8,067</td>\n",
       "      <td>573</td>\n",
       "      <td>6.6</td>\n",
       "      <td>47,918</td>\n",
       "      <td>92.6</td>\n",
       "    </tr>\n",
       "    <tr>\n",
       "      <th>1</th>\n",
       "      <td>1009</td>\n",
       "      <td>AL</td>\n",
       "      <td>Blount County, AL</td>\n",
       "      <td>1.0</td>\n",
       "      <td>1.0</td>\n",
       "      <td>City</td>\n",
       "      <td>1.0</td>\n",
       "      <td>25,266</td>\n",
       "      <td>24,375</td>\n",
       "      <td>891</td>\n",
       "      <td>...</td>\n",
       "      <td>25,196</td>\n",
       "      <td>24,516</td>\n",
       "      <td>680</td>\n",
       "      <td>2.7</td>\n",
       "      <td>24,661</td>\n",
       "      <td>23,653</td>\n",
       "      <td>1,008</td>\n",
       "      <td>4.1</td>\n",
       "      <td>52,902</td>\n",
       "      <td>102.2</td>\n",
       "    </tr>\n",
       "    <tr>\n",
       "      <th>2</th>\n",
       "      <td>1021</td>\n",
       "      <td>AL</td>\n",
       "      <td>Chilton County, AL</td>\n",
       "      <td>1.0</td>\n",
       "      <td>1.0</td>\n",
       "      <td>City</td>\n",
       "      <td>1.0</td>\n",
       "      <td>19,601</td>\n",
       "      <td>18,752</td>\n",
       "      <td>849</td>\n",
       "      <td>...</td>\n",
       "      <td>19,841</td>\n",
       "      <td>19,296</td>\n",
       "      <td>545</td>\n",
       "      <td>2.7</td>\n",
       "      <td>19,592</td>\n",
       "      <td>18,618</td>\n",
       "      <td>974</td>\n",
       "      <td>5.0</td>\n",
       "      <td>49,692</td>\n",
       "      <td>96.0</td>\n",
       "    </tr>\n",
       "    <tr>\n",
       "      <th>3</th>\n",
       "      <td>1073</td>\n",
       "      <td>AL</td>\n",
       "      <td>Jefferson County, AL</td>\n",
       "      <td>1.0</td>\n",
       "      <td>1.0</td>\n",
       "      <td>City</td>\n",
       "      <td>1.0</td>\n",
       "      <td>331,141</td>\n",
       "      <td>317,868</td>\n",
       "      <td>13,273</td>\n",
       "      <td>...</td>\n",
       "      <td>316,802</td>\n",
       "      <td>307,648</td>\n",
       "      <td>9,154</td>\n",
       "      <td>2.9</td>\n",
       "      <td>315,957</td>\n",
       "      <td>296,282</td>\n",
       "      <td>19,675</td>\n",
       "      <td>6.2</td>\n",
       "      <td>54,127</td>\n",
       "      <td>104.6</td>\n",
       "    </tr>\n",
       "    <tr>\n",
       "      <th>4</th>\n",
       "      <td>1115</td>\n",
       "      <td>AL</td>\n",
       "      <td>St. Clair County, AL</td>\n",
       "      <td>1.0</td>\n",
       "      <td>1.0</td>\n",
       "      <td>City</td>\n",
       "      <td>1.0</td>\n",
       "      <td>31,555</td>\n",
       "      <td>30,359</td>\n",
       "      <td>1,196</td>\n",
       "      <td>...</td>\n",
       "      <td>40,698</td>\n",
       "      <td>39,591</td>\n",
       "      <td>1,107</td>\n",
       "      <td>2.7</td>\n",
       "      <td>40,132</td>\n",
       "      <td>38,146</td>\n",
       "      <td>1,986</td>\n",
       "      <td>4.9</td>\n",
       "      <td>65,403</td>\n",
       "      <td>126.3</td>\n",
       "    </tr>\n",
       "  </tbody>\n",
       "</table>\n",
       "<p>5 rows × 93 columns</p>\n",
       "</div>"
      ],
      "text/plain": [
       "   FIPS_Code State             Area_name  Rural_urban_continuum_code_2013  \\\n",
       "0       1007    AL       Bibb County, AL                              1.0   \n",
       "1       1009    AL     Blount County, AL                              1.0   \n",
       "2       1021    AL    Chilton County, AL                              1.0   \n",
       "3       1073    AL  Jefferson County, AL                              1.0   \n",
       "4       1115    AL  St. Clair County, AL                              1.0   \n",
       "\n",
       "   Urban_influence_code_2013 City/Suburb/Town/Rural  Metro_2013  \\\n",
       "0                        1.0                   City         1.0   \n",
       "1                        1.0                   City         1.0   \n",
       "2                        1.0                   City         1.0   \n",
       "3                        1.0                   City         1.0   \n",
       "4                        1.0                   City         1.0   \n",
       "\n",
       "  Civilian_labor_force_2000 Employed_2000 Unemployed_2000  ...  \\\n",
       "0                     8,623         8,160             463  ...   \n",
       "1                    25,266        24,375             891  ...   \n",
       "2                    19,601        18,752             849  ...   \n",
       "3                   331,141       317,868          13,273  ...   \n",
       "4                    31,555        30,359           1,196  ...   \n",
       "\n",
       "   Civilian_labor_force_2019 Employed_2019 Unemployed_2019  \\\n",
       "0                      8,639         8,371             268   \n",
       "1                     25,196        24,516             680   \n",
       "2                     19,841        19,296             545   \n",
       "3                    316,802       307,648           9,154   \n",
       "4                     40,698        39,591           1,107   \n",
       "\n",
       "  Unemployment_rate_2019  Civilian_labor_force_2020 Employed_2020  \\\n",
       "0                    3.1                      8,640         8,067   \n",
       "1                    2.7                     24,661        23,653   \n",
       "2                    2.7                     19,592        18,618   \n",
       "3                    2.9                    315,957       296,282   \n",
       "4                    2.7                     40,132        38,146   \n",
       "\n",
       "  Unemployed_2020 Unemployment_rate_2020  Median_Household_Income_2019  \\\n",
       "0             573                    6.6                        47,918   \n",
       "1           1,008                    4.1                        52,902   \n",
       "2             974                    5.0                        49,692   \n",
       "3          19,675                    6.2                        54,127   \n",
       "4           1,986                    4.9                        65,403   \n",
       "\n",
       "  Med_HH_Income_Percent_of_State_Total_2019  \n",
       "0                                      92.6  \n",
       "1                                     102.2  \n",
       "2                                      96.0  \n",
       "3                                     104.6  \n",
       "4                                     126.3  \n",
       "\n",
       "[5 rows x 93 columns]"
      ]
     },
     "execution_count": 4,
     "metadata": {},
     "output_type": "execute_result"
    }
   ],
   "source": [
    "# Display the first five rows of df_unemployment\n",
    "df_unemployment.head()"
   ]
  },
  {
   "cell_type": "code",
   "execution_count": 5,
   "id": "33526773",
   "metadata": {
    "scrolled": false
   },
   "outputs": [
    {
     "name": "stdout",
     "output_type": "stream",
     "text": [
      "education.csv:\n",
      "shape (rows, columns): (3283, 48) \n",
      "\n",
      "<class 'pandas.core.frame.DataFrame'>\n",
      "RangeIndex: 3283 entries, 0 to 3282\n",
      "Data columns (total 48 columns):\n",
      " #   Column                                                                    Non-Null Count  Dtype  \n",
      "---  ------                                                                    --------------  -----  \n",
      " 0   FIPS Code                                                                 3283 non-null   int64  \n",
      " 1   State                                                                     3283 non-null   object \n",
      " 2   Area name                                                                 3283 non-null   object \n",
      " 3   2003 Rural-urban Continuum Code                                           3221 non-null   float64\n",
      " 4   2003 Urban Influence Code                                                 3221 non-null   float64\n",
      " 5   2013 Rural-urban Continuum Code                                           3221 non-null   float64\n",
      " 6   2013 Urban Influence Code                                                 3221 non-null   float64\n",
      " 7   City/Suburb/Town/Rural 2013                                               3221 non-null   object \n",
      " 8   Less than a high school diploma, 1970                                     3186 non-null   object \n",
      " 9   High school diploma only, 1970                                            3186 non-null   object \n",
      " 10  Some college (1-3 years), 1970                                            3186 non-null   object \n",
      " 11  Four years of college or higher, 1970                                     3186 non-null   object \n",
      " 12  Percent of adults with less than a high school diploma, 1970              3186 non-null   float64\n",
      " 13  Percent of adults with a high school diploma only, 1970                   3186 non-null   float64\n",
      " 14  Percent of adults completing some college (1-3 years), 1970               3186 non-null   float64\n",
      " 15  Percent of adults completing four years of college or higher, 1970        3186 non-null   float64\n",
      " 16  Less than a high school diploma, 1980                                     3267 non-null   object \n",
      " 17  High school diploma only, 1980                                            3267 non-null   object \n",
      " 18  Some college (1-3 years), 1980                                            3267 non-null   object \n",
      " 19  Four years of college or higher, 1980                                     3267 non-null   object \n",
      " 20  Percent of adults with less than a high school diploma, 1980              3267 non-null   float64\n",
      " 21  Percent of adults with a high school diploma only, 1980                   3267 non-null   float64\n",
      " 22  Percent of adults completing some college (1-3 years), 1980               3267 non-null   float64\n",
      " 23  Percent of adults completing four years of college or higher, 1980        3267 non-null   float64\n",
      " 24  Less than a high school diploma, 1990                                     3271 non-null   object \n",
      " 25  High school diploma only, 1990                                            3271 non-null   object \n",
      " 26  Some college or associate's degree, 1990                                  3271 non-null   object \n",
      " 27  Bachelor's degree or higher, 1990                                         3271 non-null   object \n",
      " 28  Percent of adults with less than a high school diploma, 1990              3271 non-null   float64\n",
      " 29  Percent of adults with a high school diploma only, 1990                   3271 non-null   float64\n",
      " 30  Percent of adults completing some college or associate's degree, 1990     3270 non-null   float64\n",
      " 31  Percent of adults with a bachelor's degree or higher, 1990                3271 non-null   float64\n",
      " 32  Less than a high school diploma, 2000                                     3272 non-null   object \n",
      " 33  High school diploma only, 2000                                            3272 non-null   object \n",
      " 34  Some college or associate's degree, 2000                                  3272 non-null   object \n",
      " 35  Bachelor's degree or higher, 2000                                         3272 non-null   object \n",
      " 36  Percent of adults with less than a high school diploma, 2000              3272 non-null   float64\n",
      " 37  Percent of adults with a high school diploma only, 2000                   3272 non-null   float64\n",
      " 38  Percent of adults completing some college or associate's degree, 2000     3272 non-null   float64\n",
      " 39  Percent of adults with a bachelor's degree or higher, 2000                3272 non-null   float64\n",
      " 40  Less than a high school diploma, 2015-19                                  3273 non-null   object \n",
      " 41  High school diploma only, 2015-19                                         3273 non-null   object \n",
      " 42  Some college or associate's degree, 2015-19                               3273 non-null   object \n",
      " 43  Bachelor's degree or higher, 2015-19                                      3273 non-null   object \n",
      " 44  Percent of adults with less than a high school diploma, 2015-19           3273 non-null   float64\n",
      " 45  Percent of adults with a high school diploma only, 2015-19                3273 non-null   float64\n",
      " 46  Percent of adults completing some college or associate's degree, 2015-19  3273 non-null   float64\n",
      " 47  Percent of adults with a bachelor's degree or higher, 2015-19             3273 non-null   float64\n",
      "dtypes: float64(24), int64(1), object(23)\n",
      "memory usage: 1.2+ MB\n",
      "None\n"
     ]
    }
   ],
   "source": [
    "# Examine the data present in df_education DataFrame using shape and info()\n",
    "print('education.csv:')\n",
    "print('shape (rows, columns):', df_education.shape, '\\n')\n",
    "print(df_education.info(verbose=True, null_counts=True))"
   ]
  },
  {
   "cell_type": "markdown",
   "id": "61d04b88",
   "metadata": {},
   "source": [
    " **Conclusion:** Much like the Unemployment dataset, the Education dataset has a lot of data (48 columns and 3285 rows). And again, much of the numeric data is stored as type object (a Python string) not an integer or float, so type conversion will be needed."
   ]
  },
  {
   "cell_type": "code",
   "execution_count": 6,
   "id": "8a8ab94a",
   "metadata": {},
   "outputs": [
    {
     "data": {
      "text/html": [
       "<div>\n",
       "<style scoped>\n",
       "    .dataframe tbody tr th:only-of-type {\n",
       "        vertical-align: middle;\n",
       "    }\n",
       "\n",
       "    .dataframe tbody tr th {\n",
       "        vertical-align: top;\n",
       "    }\n",
       "\n",
       "    .dataframe thead th {\n",
       "        text-align: right;\n",
       "    }\n",
       "</style>\n",
       "<table border=\"1\" class=\"dataframe\">\n",
       "  <thead>\n",
       "    <tr style=\"text-align: right;\">\n",
       "      <th></th>\n",
       "      <th>FIPS Code</th>\n",
       "      <th>State</th>\n",
       "      <th>Area name</th>\n",
       "      <th>2003 Rural-urban Continuum Code</th>\n",
       "      <th>2003 Urban Influence Code</th>\n",
       "      <th>2013 Rural-urban Continuum Code</th>\n",
       "      <th>2013 Urban Influence Code</th>\n",
       "      <th>City/Suburb/Town/Rural 2013</th>\n",
       "      <th>Less than a high school diploma, 1970</th>\n",
       "      <th>High school diploma only, 1970</th>\n",
       "      <th>...</th>\n",
       "      <th>Percent of adults completing some college or associate's degree, 2000</th>\n",
       "      <th>Percent of adults with a bachelor's degree or higher, 2000</th>\n",
       "      <th>Less than a high school diploma, 2015-19</th>\n",
       "      <th>High school diploma only, 2015-19</th>\n",
       "      <th>Some college or associate's degree, 2015-19</th>\n",
       "      <th>Bachelor's degree or higher, 2015-19</th>\n",
       "      <th>Percent of adults with less than a high school diploma, 2015-19</th>\n",
       "      <th>Percent of adults with a high school diploma only, 2015-19</th>\n",
       "      <th>Percent of adults completing some college or associate's degree, 2015-19</th>\n",
       "      <th>Percent of adults with a bachelor's degree or higher, 2015-19</th>\n",
       "    </tr>\n",
       "  </thead>\n",
       "  <tbody>\n",
       "    <tr>\n",
       "      <th>0</th>\n",
       "      <td>1007</td>\n",
       "      <td>AL</td>\n",
       "      <td>Bibb County</td>\n",
       "      <td>1.0</td>\n",
       "      <td>1.0</td>\n",
       "      <td>1.0</td>\n",
       "      <td>1.0</td>\n",
       "      <td>City</td>\n",
       "      <td>5,272</td>\n",
       "      <td>1,402</td>\n",
       "      <td>...</td>\n",
       "      <td>20.4</td>\n",
       "      <td>7.1</td>\n",
       "      <td>3,386</td>\n",
       "      <td>7,256</td>\n",
       "      <td>3,848</td>\n",
       "      <td>1,678</td>\n",
       "      <td>20.9</td>\n",
       "      <td>44.9</td>\n",
       "      <td>23.8</td>\n",
       "      <td>10.4</td>\n",
       "    </tr>\n",
       "    <tr>\n",
       "      <th>1</th>\n",
       "      <td>1009</td>\n",
       "      <td>AL</td>\n",
       "      <td>Blount County</td>\n",
       "      <td>1.0</td>\n",
       "      <td>1.0</td>\n",
       "      <td>1.0</td>\n",
       "      <td>1.0</td>\n",
       "      <td>City</td>\n",
       "      <td>10,677</td>\n",
       "      <td>3,440</td>\n",
       "      <td>...</td>\n",
       "      <td>24.8</td>\n",
       "      <td>9.6</td>\n",
       "      <td>7,763</td>\n",
       "      <td>13,299</td>\n",
       "      <td>13,519</td>\n",
       "      <td>5,210</td>\n",
       "      <td>19.5</td>\n",
       "      <td>33.4</td>\n",
       "      <td>34.0</td>\n",
       "      <td>13.1</td>\n",
       "    </tr>\n",
       "    <tr>\n",
       "      <th>2</th>\n",
       "      <td>1021</td>\n",
       "      <td>AL</td>\n",
       "      <td>Chilton County</td>\n",
       "      <td>1.0</td>\n",
       "      <td>1.0</td>\n",
       "      <td>1.0</td>\n",
       "      <td>1.0</td>\n",
       "      <td>City</td>\n",
       "      <td>10,285</td>\n",
       "      <td>2,805</td>\n",
       "      <td>...</td>\n",
       "      <td>20.5</td>\n",
       "      <td>9.9</td>\n",
       "      <td>5,474</td>\n",
       "      <td>13,348</td>\n",
       "      <td>7,401</td>\n",
       "      <td>3,823</td>\n",
       "      <td>18.2</td>\n",
       "      <td>44.4</td>\n",
       "      <td>24.6</td>\n",
       "      <td>12.7</td>\n",
       "    </tr>\n",
       "    <tr>\n",
       "      <th>3</th>\n",
       "      <td>1073</td>\n",
       "      <td>AL</td>\n",
       "      <td>Jefferson County</td>\n",
       "      <td>1.0</td>\n",
       "      <td>1.0</td>\n",
       "      <td>1.0</td>\n",
       "      <td>1.0</td>\n",
       "      <td>City</td>\n",
       "      <td>186,882</td>\n",
       "      <td>101,656</td>\n",
       "      <td>...</td>\n",
       "      <td>28.4</td>\n",
       "      <td>24.6</td>\n",
       "      <td>44,684</td>\n",
       "      <td>118,636</td>\n",
       "      <td>136,299</td>\n",
       "      <td>150,124</td>\n",
       "      <td>9.9</td>\n",
       "      <td>26.4</td>\n",
       "      <td>30.3</td>\n",
       "      <td>33.4</td>\n",
       "    </tr>\n",
       "    <tr>\n",
       "      <th>4</th>\n",
       "      <td>1115</td>\n",
       "      <td>AL</td>\n",
       "      <td>St. Clair County</td>\n",
       "      <td>1.0</td>\n",
       "      <td>1.0</td>\n",
       "      <td>1.0</td>\n",
       "      <td>1.0</td>\n",
       "      <td>City</td>\n",
       "      <td>10,304</td>\n",
       "      <td>3,540</td>\n",
       "      <td>...</td>\n",
       "      <td>25.6</td>\n",
       "      <td>11.1</td>\n",
       "      <td>9,488</td>\n",
       "      <td>21,849</td>\n",
       "      <td>20,207</td>\n",
       "      <td>9,880</td>\n",
       "      <td>15.4</td>\n",
       "      <td>35.6</td>\n",
       "      <td>32.9</td>\n",
       "      <td>16.1</td>\n",
       "    </tr>\n",
       "  </tbody>\n",
       "</table>\n",
       "<p>5 rows × 48 columns</p>\n",
       "</div>"
      ],
      "text/plain": [
       "   FIPS Code State         Area name  2003 Rural-urban Continuum Code  \\\n",
       "0       1007    AL       Bibb County                              1.0   \n",
       "1       1009    AL     Blount County                              1.0   \n",
       "2       1021    AL    Chilton County                              1.0   \n",
       "3       1073    AL  Jefferson County                              1.0   \n",
       "4       1115    AL  St. Clair County                              1.0   \n",
       "\n",
       "   2003 Urban Influence Code  2013 Rural-urban Continuum Code  \\\n",
       "0                        1.0                              1.0   \n",
       "1                        1.0                              1.0   \n",
       "2                        1.0                              1.0   \n",
       "3                        1.0                              1.0   \n",
       "4                        1.0                              1.0   \n",
       "\n",
       "   2013 Urban Influence Code City/Suburb/Town/Rural 2013  \\\n",
       "0                        1.0                        City   \n",
       "1                        1.0                        City   \n",
       "2                        1.0                        City   \n",
       "3                        1.0                        City   \n",
       "4                        1.0                        City   \n",
       "\n",
       "  Less than a high school diploma, 1970 High school diploma only, 1970  ...  \\\n",
       "0                                 5,272                          1,402  ...   \n",
       "1                                10,677                          3,440  ...   \n",
       "2                                10,285                          2,805  ...   \n",
       "3                               186,882                        101,656  ...   \n",
       "4                                10,304                          3,540  ...   \n",
       "\n",
       "  Percent of adults completing some college or associate's degree, 2000  \\\n",
       "0                                               20.4                      \n",
       "1                                               24.8                      \n",
       "2                                               20.5                      \n",
       "3                                               28.4                      \n",
       "4                                               25.6                      \n",
       "\n",
       "  Percent of adults with a bachelor's degree or higher, 2000  \\\n",
       "0                                                7.1           \n",
       "1                                                9.6           \n",
       "2                                                9.9           \n",
       "3                                               24.6           \n",
       "4                                               11.1           \n",
       "\n",
       "   Less than a high school diploma, 2015-19  \\\n",
       "0                                     3,386   \n",
       "1                                     7,763   \n",
       "2                                     5,474   \n",
       "3                                    44,684   \n",
       "4                                     9,488   \n",
       "\n",
       "   High school diploma only, 2015-19  \\\n",
       "0                              7,256   \n",
       "1                             13,299   \n",
       "2                             13,348   \n",
       "3                            118,636   \n",
       "4                             21,849   \n",
       "\n",
       "   Some college or associate's degree, 2015-19  \\\n",
       "0                                        3,848   \n",
       "1                                       13,519   \n",
       "2                                        7,401   \n",
       "3                                      136,299   \n",
       "4                                       20,207   \n",
       "\n",
       "   Bachelor's degree or higher, 2015-19  \\\n",
       "0                                 1,678   \n",
       "1                                 5,210   \n",
       "2                                 3,823   \n",
       "3                               150,124   \n",
       "4                                 9,880   \n",
       "\n",
       "  Percent of adults with less than a high school diploma, 2015-19  \\\n",
       "0                                               20.9                \n",
       "1                                               19.5                \n",
       "2                                               18.2                \n",
       "3                                                9.9                \n",
       "4                                               15.4                \n",
       "\n",
       "  Percent of adults with a high school diploma only, 2015-19  \\\n",
       "0                                               44.9           \n",
       "1                                               33.4           \n",
       "2                                               44.4           \n",
       "3                                               26.4           \n",
       "4                                               35.6           \n",
       "\n",
       "  Percent of adults completing some college or associate's degree, 2015-19  \\\n",
       "0                                               23.8                         \n",
       "1                                               34.0                         \n",
       "2                                               24.6                         \n",
       "3                                               30.3                         \n",
       "4                                               32.9                         \n",
       "\n",
       "  Percent of adults with a bachelor's degree or higher, 2015-19  \n",
       "0                                               10.4             \n",
       "1                                               13.1             \n",
       "2                                               12.7             \n",
       "3                                               33.4             \n",
       "4                                               16.1             \n",
       "\n",
       "[5 rows x 48 columns]"
      ]
     },
     "execution_count": 6,
     "metadata": {},
     "output_type": "execute_result"
    }
   ],
   "source": [
    "# Display the first five rows of df_education\n",
    "df_education.head()"
   ]
  },
  {
   "cell_type": "code",
   "execution_count": 7,
   "id": "1932b6da",
   "metadata": {},
   "outputs": [
    {
     "data": {
      "text/html": [
       "<div>\n",
       "<style scoped>\n",
       "    .dataframe tbody tr th:only-of-type {\n",
       "        vertical-align: middle;\n",
       "    }\n",
       "\n",
       "    .dataframe tbody tr th {\n",
       "        vertical-align: top;\n",
       "    }\n",
       "\n",
       "    .dataframe thead th {\n",
       "        text-align: right;\n",
       "    }\n",
       "</style>\n",
       "<table border=\"1\" class=\"dataframe\">\n",
       "  <thead>\n",
       "    <tr style=\"text-align: right;\">\n",
       "      <th></th>\n",
       "      <th>FIPS</th>\n",
       "      <th>State</th>\n",
       "      <th>County_Name</th>\n",
       "      <th>Population_2010</th>\n",
       "      <th>UIC_2013</th>\n",
       "      <th>Description</th>\n",
       "      <th>City/Suburb/Town/Rural</th>\n",
       "    </tr>\n",
       "  </thead>\n",
       "  <tbody>\n",
       "    <tr>\n",
       "      <th>0</th>\n",
       "      <td>1007</td>\n",
       "      <td>AL</td>\n",
       "      <td>Bibb County</td>\n",
       "      <td>22,915</td>\n",
       "      <td>1</td>\n",
       "      <td>Large-in a metro area with at least 1 million ...</td>\n",
       "      <td>City</td>\n",
       "    </tr>\n",
       "    <tr>\n",
       "      <th>1</th>\n",
       "      <td>1009</td>\n",
       "      <td>AL</td>\n",
       "      <td>Blount County</td>\n",
       "      <td>57,322</td>\n",
       "      <td>1</td>\n",
       "      <td>Large-in a metro area with at least 1 million ...</td>\n",
       "      <td>City</td>\n",
       "    </tr>\n",
       "    <tr>\n",
       "      <th>2</th>\n",
       "      <td>1021</td>\n",
       "      <td>AL</td>\n",
       "      <td>Chilton County</td>\n",
       "      <td>43,643</td>\n",
       "      <td>1</td>\n",
       "      <td>Large-in a metro area with at least 1 million ...</td>\n",
       "      <td>City</td>\n",
       "    </tr>\n",
       "    <tr>\n",
       "      <th>3</th>\n",
       "      <td>1073</td>\n",
       "      <td>AL</td>\n",
       "      <td>Jefferson County</td>\n",
       "      <td>658,466</td>\n",
       "      <td>1</td>\n",
       "      <td>Large-in a metro area with at least 1 million ...</td>\n",
       "      <td>City</td>\n",
       "    </tr>\n",
       "    <tr>\n",
       "      <th>4</th>\n",
       "      <td>1115</td>\n",
       "      <td>AL</td>\n",
       "      <td>St. Clair County</td>\n",
       "      <td>83,593</td>\n",
       "      <td>1</td>\n",
       "      <td>Large-in a metro area with at least 1 million ...</td>\n",
       "      <td>City</td>\n",
       "    </tr>\n",
       "  </tbody>\n",
       "</table>\n",
       "</div>"
      ],
      "text/plain": [
       "   FIPS State       County_Name Population_2010  UIC_2013  \\\n",
       "0  1007    AL       Bibb County          22,915         1   \n",
       "1  1009    AL     Blount County          57,322         1   \n",
       "2  1021    AL    Chilton County          43,643         1   \n",
       "3  1073    AL  Jefferson County         658,466         1   \n",
       "4  1115    AL  St. Clair County          83,593         1   \n",
       "\n",
       "                                         Description City/Suburb/Town/Rural  \n",
       "0  Large-in a metro area with at least 1 million ...                   City  \n",
       "1  Large-in a metro area with at least 1 million ...                   City  \n",
       "2  Large-in a metro area with at least 1 million ...                   City  \n",
       "3  Large-in a metro area with at least 1 million ...                   City  \n",
       "4  Large-in a metro area with at least 1 million ...                   City  "
      ]
     },
     "execution_count": 7,
     "metadata": {},
     "output_type": "execute_result"
    }
   ],
   "source": [
    "# Display the first five rows of df_UIC\n",
    "df_uic.head()"
   ]
  },
  {
   "cell_type": "code",
   "execution_count": 8,
   "id": "da924545",
   "metadata": {},
   "outputs": [
    {
     "name": "stdout",
     "output_type": "stream",
     "text": [
      "UIC.csv:\n",
      "shape (rows, columns): (3221, 7) \n",
      "\n",
      "<class 'pandas.core.frame.DataFrame'>\n",
      "RangeIndex: 3221 entries, 0 to 3220\n",
      "Data columns (total 7 columns):\n",
      " #   Column                  Non-Null Count  Dtype \n",
      "---  ------                  --------------  ----- \n",
      " 0   FIPS                    3221 non-null   int64 \n",
      " 1   State                   3221 non-null   object\n",
      " 2   County_Name             3221 non-null   object\n",
      " 3   Population_2010         3221 non-null   object\n",
      " 4   UIC_2013                3221 non-null   int64 \n",
      " 5   Description             3221 non-null   object\n",
      " 6   City/Suburb/Town/Rural  3221 non-null   object\n",
      "dtypes: int64(2), object(5)\n",
      "memory usage: 176.3+ KB\n",
      "None\n"
     ]
    }
   ],
   "source": [
    "# Examine the df_uic DataFrame using shape and info()\n",
    "print('UIC.csv:')\n",
    "print('shape (rows, columns):', df_uic.shape, '\\n')\n",
    "print(df_uic.info(verbose=True, null_counts=True))"
   ]
  },
  {
   "cell_type": "markdown",
   "id": "a510eb7c",
   "metadata": {},
   "source": [
    "## Organizing data"
   ]
  },
  {
   "cell_type": "code",
   "execution_count": 9,
   "id": "8a06ba71",
   "metadata": {},
   "outputs": [],
   "source": [
    "# Function #1\n",
    "# The df_unemployment and df_education DataFrames contains data from \n",
    "# Puerto Rico (PR) and District of Columbia (DC).\n",
    "# Ensure the data is only from the 50 US states\n",
    "def fifty_states(df):\n",
    "    states = ['AL', 'AK', 'AZ', 'AR', 'CA', 'CO', 'CT', 'DE', 'FL', 'GA', 'HI', 'ID',\n",
    "              'IL', 'IN', 'IA', 'KS', 'KY', 'LA', 'ME', 'MD', 'MA', 'MI', 'MN', 'MS', 'MO',\n",
    "              'MT', 'NE', 'NV', 'NH', 'NJ', 'NM', 'NY', 'NC', 'ND', 'OH', 'OK', 'OR', 'PA',\n",
    "              'RI', 'SC', 'SD', 'TN', 'TX', 'UT', 'VT', 'VA', 'WA', 'WV', 'WI', 'WY']\n",
    "    df_temp = df[df['State'].isin(states)]\n",
    "    return df_temp"
   ]
  },
  {
   "cell_type": "code",
   "execution_count": 10,
   "id": "56693a87",
   "metadata": {},
   "outputs": [
    {
     "data": {
      "text/html": [
       "<div>\n",
       "<style scoped>\n",
       "    .dataframe tbody tr th:only-of-type {\n",
       "        vertical-align: middle;\n",
       "    }\n",
       "\n",
       "    .dataframe tbody tr th {\n",
       "        vertical-align: top;\n",
       "    }\n",
       "\n",
       "    .dataframe thead th {\n",
       "        text-align: right;\n",
       "    }\n",
       "</style>\n",
       "<table border=\"1\" class=\"dataframe\">\n",
       "  <thead>\n",
       "    <tr style=\"text-align: right;\">\n",
       "      <th></th>\n",
       "      <th>State</th>\n",
       "      <th>Area_name</th>\n",
       "      <th>Rural_urban_continuum_code_2013</th>\n",
       "      <th>Urban_influence_code_2013</th>\n",
       "      <th>City/Suburb/Town/Rural</th>\n",
       "      <th>Metro_2013</th>\n",
       "      <th>Civilian_labor_force_2000</th>\n",
       "      <th>Employed_2000</th>\n",
       "      <th>Unemployed_2000</th>\n",
       "      <th>Unemployment_rate_2000</th>\n",
       "      <th>...</th>\n",
       "      <th>Civilian_labor_force_2019</th>\n",
       "      <th>Employed_2019</th>\n",
       "      <th>Unemployed_2019</th>\n",
       "      <th>Unemployment_rate_2019</th>\n",
       "      <th>Civilian_labor_force_2020</th>\n",
       "      <th>Employed_2020</th>\n",
       "      <th>Unemployed_2020</th>\n",
       "      <th>Unemployment_rate_2020</th>\n",
       "      <th>Median_Household_Income_2019</th>\n",
       "      <th>Med_HH_Income_Percent_of_State_Total_2019</th>\n",
       "    </tr>\n",
       "    <tr>\n",
       "      <th>FIPS_Code</th>\n",
       "      <th></th>\n",
       "      <th></th>\n",
       "      <th></th>\n",
       "      <th></th>\n",
       "      <th></th>\n",
       "      <th></th>\n",
       "      <th></th>\n",
       "      <th></th>\n",
       "      <th></th>\n",
       "      <th></th>\n",
       "      <th></th>\n",
       "      <th></th>\n",
       "      <th></th>\n",
       "      <th></th>\n",
       "      <th></th>\n",
       "      <th></th>\n",
       "      <th></th>\n",
       "      <th></th>\n",
       "      <th></th>\n",
       "      <th></th>\n",
       "      <th></th>\n",
       "    </tr>\n",
       "  </thead>\n",
       "  <tbody>\n",
       "    <tr>\n",
       "      <th>1007</th>\n",
       "      <td>AL</td>\n",
       "      <td>Bibb County, AL</td>\n",
       "      <td>1.0</td>\n",
       "      <td>1.0</td>\n",
       "      <td>City</td>\n",
       "      <td>1.0</td>\n",
       "      <td>8,623</td>\n",
       "      <td>8,160</td>\n",
       "      <td>463</td>\n",
       "      <td>5.4</td>\n",
       "      <td>...</td>\n",
       "      <td>8,639</td>\n",
       "      <td>8,371</td>\n",
       "      <td>268</td>\n",
       "      <td>3.1</td>\n",
       "      <td>8,640</td>\n",
       "      <td>8,067</td>\n",
       "      <td>573</td>\n",
       "      <td>6.6</td>\n",
       "      <td>47,918</td>\n",
       "      <td>92.6</td>\n",
       "    </tr>\n",
       "    <tr>\n",
       "      <th>1009</th>\n",
       "      <td>AL</td>\n",
       "      <td>Blount County, AL</td>\n",
       "      <td>1.0</td>\n",
       "      <td>1.0</td>\n",
       "      <td>City</td>\n",
       "      <td>1.0</td>\n",
       "      <td>25,266</td>\n",
       "      <td>24,375</td>\n",
       "      <td>891</td>\n",
       "      <td>3.5</td>\n",
       "      <td>...</td>\n",
       "      <td>25,196</td>\n",
       "      <td>24,516</td>\n",
       "      <td>680</td>\n",
       "      <td>2.7</td>\n",
       "      <td>24,661</td>\n",
       "      <td>23,653</td>\n",
       "      <td>1,008</td>\n",
       "      <td>4.1</td>\n",
       "      <td>52,902</td>\n",
       "      <td>102.2</td>\n",
       "    </tr>\n",
       "    <tr>\n",
       "      <th>1021</th>\n",
       "      <td>AL</td>\n",
       "      <td>Chilton County, AL</td>\n",
       "      <td>1.0</td>\n",
       "      <td>1.0</td>\n",
       "      <td>City</td>\n",
       "      <td>1.0</td>\n",
       "      <td>19,601</td>\n",
       "      <td>18,752</td>\n",
       "      <td>849</td>\n",
       "      <td>4.3</td>\n",
       "      <td>...</td>\n",
       "      <td>19,841</td>\n",
       "      <td>19,296</td>\n",
       "      <td>545</td>\n",
       "      <td>2.7</td>\n",
       "      <td>19,592</td>\n",
       "      <td>18,618</td>\n",
       "      <td>974</td>\n",
       "      <td>5.0</td>\n",
       "      <td>49,692</td>\n",
       "      <td>96.0</td>\n",
       "    </tr>\n",
       "    <tr>\n",
       "      <th>1073</th>\n",
       "      <td>AL</td>\n",
       "      <td>Jefferson County, AL</td>\n",
       "      <td>1.0</td>\n",
       "      <td>1.0</td>\n",
       "      <td>City</td>\n",
       "      <td>1.0</td>\n",
       "      <td>331,141</td>\n",
       "      <td>317,868</td>\n",
       "      <td>13,273</td>\n",
       "      <td>4.0</td>\n",
       "      <td>...</td>\n",
       "      <td>316,802</td>\n",
       "      <td>307,648</td>\n",
       "      <td>9,154</td>\n",
       "      <td>2.9</td>\n",
       "      <td>315,957</td>\n",
       "      <td>296,282</td>\n",
       "      <td>19,675</td>\n",
       "      <td>6.2</td>\n",
       "      <td>54,127</td>\n",
       "      <td>104.6</td>\n",
       "    </tr>\n",
       "    <tr>\n",
       "      <th>1115</th>\n",
       "      <td>AL</td>\n",
       "      <td>St. Clair County, AL</td>\n",
       "      <td>1.0</td>\n",
       "      <td>1.0</td>\n",
       "      <td>City</td>\n",
       "      <td>1.0</td>\n",
       "      <td>31,555</td>\n",
       "      <td>30,359</td>\n",
       "      <td>1,196</td>\n",
       "      <td>3.8</td>\n",
       "      <td>...</td>\n",
       "      <td>40,698</td>\n",
       "      <td>39,591</td>\n",
       "      <td>1,107</td>\n",
       "      <td>2.7</td>\n",
       "      <td>40,132</td>\n",
       "      <td>38,146</td>\n",
       "      <td>1,986</td>\n",
       "      <td>4.9</td>\n",
       "      <td>65,403</td>\n",
       "      <td>126.3</td>\n",
       "    </tr>\n",
       "    <tr>\n",
       "      <th>...</th>\n",
       "      <td>...</td>\n",
       "      <td>...</td>\n",
       "      <td>...</td>\n",
       "      <td>...</td>\n",
       "      <td>...</td>\n",
       "      <td>...</td>\n",
       "      <td>...</td>\n",
       "      <td>...</td>\n",
       "      <td>...</td>\n",
       "      <td>...</td>\n",
       "      <td>...</td>\n",
       "      <td>...</td>\n",
       "      <td>...</td>\n",
       "      <td>...</td>\n",
       "      <td>...</td>\n",
       "      <td>...</td>\n",
       "      <td>...</td>\n",
       "      <td>...</td>\n",
       "      <td>...</td>\n",
       "      <td>...</td>\n",
       "      <td>...</td>\n",
       "    </tr>\n",
       "    <tr>\n",
       "      <th>51000</th>\n",
       "      <td>VA</td>\n",
       "      <td>Virginia</td>\n",
       "      <td>NaN</td>\n",
       "      <td>NaN</td>\n",
       "      <td>NaN</td>\n",
       "      <td>NaN</td>\n",
       "      <td>3,606,390</td>\n",
       "      <td>3,524,481</td>\n",
       "      <td>81,909</td>\n",
       "      <td>2.3</td>\n",
       "      <td>...</td>\n",
       "      <td>4,427,338</td>\n",
       "      <td>4,308,622</td>\n",
       "      <td>118,716</td>\n",
       "      <td>2.7</td>\n",
       "      <td>4,346,644</td>\n",
       "      <td>4,075,237</td>\n",
       "      <td>271,407</td>\n",
       "      <td>6.2</td>\n",
       "      <td>76,471</td>\n",
       "      <td>100.0</td>\n",
       "    </tr>\n",
       "    <tr>\n",
       "      <th>53000</th>\n",
       "      <td>WA</td>\n",
       "      <td>Washington</td>\n",
       "      <td>NaN</td>\n",
       "      <td>NaN</td>\n",
       "      <td>NaN</td>\n",
       "      <td>NaN</td>\n",
       "      <td>3,087,680</td>\n",
       "      <td>2,929,824</td>\n",
       "      <td>157,856</td>\n",
       "      <td>5.1</td>\n",
       "      <td>...</td>\n",
       "      <td>3,909,319</td>\n",
       "      <td>3,747,162</td>\n",
       "      <td>162,157</td>\n",
       "      <td>4.1</td>\n",
       "      <td>3,914,869</td>\n",
       "      <td>3,585,782</td>\n",
       "      <td>329,087</td>\n",
       "      <td>8.4</td>\n",
       "      <td>78,674</td>\n",
       "      <td>100.0</td>\n",
       "    </tr>\n",
       "    <tr>\n",
       "      <th>54000</th>\n",
       "      <td>WV</td>\n",
       "      <td>West Virginia</td>\n",
       "      <td>NaN</td>\n",
       "      <td>NaN</td>\n",
       "      <td>NaN</td>\n",
       "      <td>NaN</td>\n",
       "      <td>799,081</td>\n",
       "      <td>754,457</td>\n",
       "      <td>44,624</td>\n",
       "      <td>5.6</td>\n",
       "      <td>...</td>\n",
       "      <td>798,289</td>\n",
       "      <td>758,989</td>\n",
       "      <td>39,300</td>\n",
       "      <td>4.9</td>\n",
       "      <td>792,156</td>\n",
       "      <td>726,023</td>\n",
       "      <td>66,133</td>\n",
       "      <td>8.3</td>\n",
       "      <td>48,659</td>\n",
       "      <td>100.0</td>\n",
       "    </tr>\n",
       "    <tr>\n",
       "      <th>55000</th>\n",
       "      <td>WI</td>\n",
       "      <td>Wisconsin</td>\n",
       "      <td>NaN</td>\n",
       "      <td>NaN</td>\n",
       "      <td>NaN</td>\n",
       "      <td>NaN</td>\n",
       "      <td>2,985,643</td>\n",
       "      <td>2,884,737</td>\n",
       "      <td>100,906</td>\n",
       "      <td>3.4</td>\n",
       "      <td>...</td>\n",
       "      <td>3,094,325</td>\n",
       "      <td>2,993,025</td>\n",
       "      <td>101,300</td>\n",
       "      <td>3.3</td>\n",
       "      <td>3,065,402</td>\n",
       "      <td>2,872,609</td>\n",
       "      <td>192,793</td>\n",
       "      <td>6.3</td>\n",
       "      <td>64,177</td>\n",
       "      <td>100.0</td>\n",
       "    </tr>\n",
       "    <tr>\n",
       "      <th>56000</th>\n",
       "      <td>WY</td>\n",
       "      <td>Wyoming</td>\n",
       "      <td>NaN</td>\n",
       "      <td>NaN</td>\n",
       "      <td>NaN</td>\n",
       "      <td>NaN</td>\n",
       "      <td>265,701</td>\n",
       "      <td>255,726</td>\n",
       "      <td>9,975</td>\n",
       "      <td>3.8</td>\n",
       "      <td>...</td>\n",
       "      <td>296,299</td>\n",
       "      <td>285,292</td>\n",
       "      <td>11,007</td>\n",
       "      <td>3.7</td>\n",
       "      <td>296,801</td>\n",
       "      <td>279,462</td>\n",
       "      <td>17,339</td>\n",
       "      <td>5.8</td>\n",
       "      <td>66,152</td>\n",
       "      <td>100.0</td>\n",
       "    </tr>\n",
       "  </tbody>\n",
       "</table>\n",
       "<p>3193 rows × 92 columns</p>\n",
       "</div>"
      ],
      "text/plain": [
       "          State             Area_name  Rural_urban_continuum_code_2013  \\\n",
       "FIPS_Code                                                                \n",
       "1007         AL       Bibb County, AL                              1.0   \n",
       "1009         AL     Blount County, AL                              1.0   \n",
       "1021         AL    Chilton County, AL                              1.0   \n",
       "1073         AL  Jefferson County, AL                              1.0   \n",
       "1115         AL  St. Clair County, AL                              1.0   \n",
       "...         ...                   ...                              ...   \n",
       "51000        VA              Virginia                              NaN   \n",
       "53000        WA            Washington                              NaN   \n",
       "54000        WV         West Virginia                              NaN   \n",
       "55000        WI             Wisconsin                              NaN   \n",
       "56000        WY               Wyoming                              NaN   \n",
       "\n",
       "           Urban_influence_code_2013 City/Suburb/Town/Rural  Metro_2013  \\\n",
       "FIPS_Code                                                                 \n",
       "1007                             1.0                   City         1.0   \n",
       "1009                             1.0                   City         1.0   \n",
       "1021                             1.0                   City         1.0   \n",
       "1073                             1.0                   City         1.0   \n",
       "1115                             1.0                   City         1.0   \n",
       "...                              ...                    ...         ...   \n",
       "51000                            NaN                    NaN         NaN   \n",
       "53000                            NaN                    NaN         NaN   \n",
       "54000                            NaN                    NaN         NaN   \n",
       "55000                            NaN                    NaN         NaN   \n",
       "56000                            NaN                    NaN         NaN   \n",
       "\n",
       "          Civilian_labor_force_2000 Employed_2000 Unemployed_2000  \\\n",
       "FIPS_Code                                                           \n",
       "1007                          8,623         8,160             463   \n",
       "1009                         25,266        24,375             891   \n",
       "1021                         19,601        18,752             849   \n",
       "1073                        331,141       317,868          13,273   \n",
       "1115                         31,555        30,359           1,196   \n",
       "...                             ...           ...             ...   \n",
       "51000                     3,606,390     3,524,481          81,909   \n",
       "53000                     3,087,680     2,929,824         157,856   \n",
       "54000                       799,081       754,457          44,624   \n",
       "55000                     2,985,643     2,884,737         100,906   \n",
       "56000                       265,701       255,726           9,975   \n",
       "\n",
       "           Unemployment_rate_2000  ... Civilian_labor_force_2019  \\\n",
       "FIPS_Code                          ...                             \n",
       "1007                          5.4  ...                     8,639   \n",
       "1009                          3.5  ...                    25,196   \n",
       "1021                          4.3  ...                    19,841   \n",
       "1073                          4.0  ...                   316,802   \n",
       "1115                          3.8  ...                    40,698   \n",
       "...                           ...  ...                       ...   \n",
       "51000                         2.3  ...                 4,427,338   \n",
       "53000                         5.1  ...                 3,909,319   \n",
       "54000                         5.6  ...                   798,289   \n",
       "55000                         3.4  ...                 3,094,325   \n",
       "56000                         3.8  ...                   296,299   \n",
       "\n",
       "          Employed_2019 Unemployed_2019  Unemployment_rate_2019  \\\n",
       "FIPS_Code                                                         \n",
       "1007              8,371             268                     3.1   \n",
       "1009             24,516             680                     2.7   \n",
       "1021             19,296             545                     2.7   \n",
       "1073            307,648           9,154                     2.9   \n",
       "1115             39,591           1,107                     2.7   \n",
       "...                 ...             ...                     ...   \n",
       "51000         4,308,622         118,716                     2.7   \n",
       "53000         3,747,162         162,157                     4.1   \n",
       "54000           758,989          39,300                     4.9   \n",
       "55000         2,993,025         101,300                     3.3   \n",
       "56000           285,292          11,007                     3.7   \n",
       "\n",
       "          Civilian_labor_force_2020 Employed_2020 Unemployed_2020  \\\n",
       "FIPS_Code                                                           \n",
       "1007                          8,640         8,067             573   \n",
       "1009                         24,661        23,653           1,008   \n",
       "1021                         19,592        18,618             974   \n",
       "1073                        315,957       296,282          19,675   \n",
       "1115                         40,132        38,146           1,986   \n",
       "...                             ...           ...             ...   \n",
       "51000                     4,346,644     4,075,237         271,407   \n",
       "53000                     3,914,869     3,585,782         329,087   \n",
       "54000                       792,156       726,023          66,133   \n",
       "55000                     3,065,402     2,872,609         192,793   \n",
       "56000                       296,801       279,462          17,339   \n",
       "\n",
       "           Unemployment_rate_2020 Median_Household_Income_2019  \\\n",
       "FIPS_Code                                                        \n",
       "1007                          6.6                       47,918   \n",
       "1009                          4.1                       52,902   \n",
       "1021                          5.0                       49,692   \n",
       "1073                          6.2                       54,127   \n",
       "1115                          4.9                       65,403   \n",
       "...                           ...                          ...   \n",
       "51000                         6.2                       76,471   \n",
       "53000                         8.4                       78,674   \n",
       "54000                         8.3                       48,659   \n",
       "55000                         6.3                       64,177   \n",
       "56000                         5.8                       66,152   \n",
       "\n",
       "          Med_HH_Income_Percent_of_State_Total_2019  \n",
       "FIPS_Code                                            \n",
       "1007                                           92.6  \n",
       "1009                                          102.2  \n",
       "1021                                           96.0  \n",
       "1073                                          104.6  \n",
       "1115                                          126.3  \n",
       "...                                             ...  \n",
       "51000                                         100.0  \n",
       "53000                                         100.0  \n",
       "54000                                         100.0  \n",
       "55000                                         100.0  \n",
       "56000                                         100.0  \n",
       "\n",
       "[3193 rows x 92 columns]"
      ]
     },
     "execution_count": 10,
     "metadata": {},
     "output_type": "execute_result"
    }
   ],
   "source": [
    "# Remove rows that are not from one of the 50 US states\n",
    "df_unemployment_clean = fifty_states(df_unemployment)\n",
    "# Set the index to FIPS code ()\n",
    "df_unemployment_clean.set_index('FIPS_Code')\n"
   ]
  },
  {
   "cell_type": "code",
   "execution_count": 11,
   "id": "588d16be",
   "metadata": {},
   "outputs": [
    {
     "data": {
      "text/html": [
       "<div>\n",
       "<style scoped>\n",
       "    .dataframe tbody tr th:only-of-type {\n",
       "        vertical-align: middle;\n",
       "    }\n",
       "\n",
       "    .dataframe tbody tr th {\n",
       "        vertical-align: top;\n",
       "    }\n",
       "\n",
       "    .dataframe thead th {\n",
       "        text-align: right;\n",
       "    }\n",
       "</style>\n",
       "<table border=\"1\" class=\"dataframe\">\n",
       "  <thead>\n",
       "    <tr style=\"text-align: right;\">\n",
       "      <th></th>\n",
       "      <th>State</th>\n",
       "      <th>Area name</th>\n",
       "      <th>2003 Rural-urban Continuum Code</th>\n",
       "      <th>2003 Urban Influence Code</th>\n",
       "      <th>2013 Rural-urban Continuum Code</th>\n",
       "      <th>2013 Urban Influence Code</th>\n",
       "      <th>City/Suburb/Town/Rural 2013</th>\n",
       "      <th>Less than a high school diploma, 1970</th>\n",
       "      <th>High school diploma only, 1970</th>\n",
       "      <th>Some college (1-3 years), 1970</th>\n",
       "      <th>...</th>\n",
       "      <th>Percent of adults completing some college or associate's degree, 2000</th>\n",
       "      <th>Percent of adults with a bachelor's degree or higher, 2000</th>\n",
       "      <th>Less than a high school diploma, 2015-19</th>\n",
       "      <th>High school diploma only, 2015-19</th>\n",
       "      <th>Some college or associate's degree, 2015-19</th>\n",
       "      <th>Bachelor's degree or higher, 2015-19</th>\n",
       "      <th>Percent of adults with less than a high school diploma, 2015-19</th>\n",
       "      <th>Percent of adults with a high school diploma only, 2015-19</th>\n",
       "      <th>Percent of adults completing some college or associate's degree, 2015-19</th>\n",
       "      <th>Percent of adults with a bachelor's degree or higher, 2015-19</th>\n",
       "    </tr>\n",
       "    <tr>\n",
       "      <th>FIPS Code</th>\n",
       "      <th></th>\n",
       "      <th></th>\n",
       "      <th></th>\n",
       "      <th></th>\n",
       "      <th></th>\n",
       "      <th></th>\n",
       "      <th></th>\n",
       "      <th></th>\n",
       "      <th></th>\n",
       "      <th></th>\n",
       "      <th></th>\n",
       "      <th></th>\n",
       "      <th></th>\n",
       "      <th></th>\n",
       "      <th></th>\n",
       "      <th></th>\n",
       "      <th></th>\n",
       "      <th></th>\n",
       "      <th></th>\n",
       "      <th></th>\n",
       "      <th></th>\n",
       "    </tr>\n",
       "  </thead>\n",
       "  <tbody>\n",
       "    <tr>\n",
       "      <th>1007</th>\n",
       "      <td>AL</td>\n",
       "      <td>Bibb County</td>\n",
       "      <td>1.0</td>\n",
       "      <td>1.0</td>\n",
       "      <td>1.0</td>\n",
       "      <td>1.0</td>\n",
       "      <td>City</td>\n",
       "      <td>5,272</td>\n",
       "      <td>1,402</td>\n",
       "      <td>238</td>\n",
       "      <td>...</td>\n",
       "      <td>20.4</td>\n",
       "      <td>7.1</td>\n",
       "      <td>3,386</td>\n",
       "      <td>7,256</td>\n",
       "      <td>3,848</td>\n",
       "      <td>1,678</td>\n",
       "      <td>20.9</td>\n",
       "      <td>44.9</td>\n",
       "      <td>23.8</td>\n",
       "      <td>10.4</td>\n",
       "    </tr>\n",
       "    <tr>\n",
       "      <th>1009</th>\n",
       "      <td>AL</td>\n",
       "      <td>Blount County</td>\n",
       "      <td>1.0</td>\n",
       "      <td>1.0</td>\n",
       "      <td>1.0</td>\n",
       "      <td>1.0</td>\n",
       "      <td>City</td>\n",
       "      <td>10,677</td>\n",
       "      <td>3,440</td>\n",
       "      <td>626</td>\n",
       "      <td>...</td>\n",
       "      <td>24.8</td>\n",
       "      <td>9.6</td>\n",
       "      <td>7,763</td>\n",
       "      <td>13,299</td>\n",
       "      <td>13,519</td>\n",
       "      <td>5,210</td>\n",
       "      <td>19.5</td>\n",
       "      <td>33.4</td>\n",
       "      <td>34.0</td>\n",
       "      <td>13.1</td>\n",
       "    </tr>\n",
       "    <tr>\n",
       "      <th>1021</th>\n",
       "      <td>AL</td>\n",
       "      <td>Chilton County</td>\n",
       "      <td>1.0</td>\n",
       "      <td>1.0</td>\n",
       "      <td>1.0</td>\n",
       "      <td>1.0</td>\n",
       "      <td>City</td>\n",
       "      <td>10,285</td>\n",
       "      <td>2,805</td>\n",
       "      <td>538</td>\n",
       "      <td>...</td>\n",
       "      <td>20.5</td>\n",
       "      <td>9.9</td>\n",
       "      <td>5,474</td>\n",
       "      <td>13,348</td>\n",
       "      <td>7,401</td>\n",
       "      <td>3,823</td>\n",
       "      <td>18.2</td>\n",
       "      <td>44.4</td>\n",
       "      <td>24.6</td>\n",
       "      <td>12.7</td>\n",
       "    </tr>\n",
       "    <tr>\n",
       "      <th>1073</th>\n",
       "      <td>AL</td>\n",
       "      <td>Jefferson County</td>\n",
       "      <td>1.0</td>\n",
       "      <td>1.0</td>\n",
       "      <td>1.0</td>\n",
       "      <td>1.0</td>\n",
       "      <td>City</td>\n",
       "      <td>186,882</td>\n",
       "      <td>101,656</td>\n",
       "      <td>32,182</td>\n",
       "      <td>...</td>\n",
       "      <td>28.4</td>\n",
       "      <td>24.6</td>\n",
       "      <td>44,684</td>\n",
       "      <td>118,636</td>\n",
       "      <td>136,299</td>\n",
       "      <td>150,124</td>\n",
       "      <td>9.9</td>\n",
       "      <td>26.4</td>\n",
       "      <td>30.3</td>\n",
       "      <td>33.4</td>\n",
       "    </tr>\n",
       "    <tr>\n",
       "      <th>1115</th>\n",
       "      <td>AL</td>\n",
       "      <td>St. Clair County</td>\n",
       "      <td>1.0</td>\n",
       "      <td>1.0</td>\n",
       "      <td>1.0</td>\n",
       "      <td>1.0</td>\n",
       "      <td>City</td>\n",
       "      <td>10,304</td>\n",
       "      <td>3,540</td>\n",
       "      <td>666</td>\n",
       "      <td>...</td>\n",
       "      <td>25.6</td>\n",
       "      <td>11.1</td>\n",
       "      <td>9,488</td>\n",
       "      <td>21,849</td>\n",
       "      <td>20,207</td>\n",
       "      <td>9,880</td>\n",
       "      <td>15.4</td>\n",
       "      <td>35.6</td>\n",
       "      <td>32.9</td>\n",
       "      <td>16.1</td>\n",
       "    </tr>\n",
       "    <tr>\n",
       "      <th>...</th>\n",
       "      <td>...</td>\n",
       "      <td>...</td>\n",
       "      <td>...</td>\n",
       "      <td>...</td>\n",
       "      <td>...</td>\n",
       "      <td>...</td>\n",
       "      <td>...</td>\n",
       "      <td>...</td>\n",
       "      <td>...</td>\n",
       "      <td>...</td>\n",
       "      <td>...</td>\n",
       "      <td>...</td>\n",
       "      <td>...</td>\n",
       "      <td>...</td>\n",
       "      <td>...</td>\n",
       "      <td>...</td>\n",
       "      <td>...</td>\n",
       "      <td>...</td>\n",
       "      <td>...</td>\n",
       "      <td>...</td>\n",
       "      <td>...</td>\n",
       "    </tr>\n",
       "    <tr>\n",
       "      <th>51560</th>\n",
       "      <td>VA</td>\n",
       "      <td>Clifton Forge city</td>\n",
       "      <td>6.0</td>\n",
       "      <td>6.0</td>\n",
       "      <td>NaN</td>\n",
       "      <td>NaN</td>\n",
       "      <td>NaN</td>\n",
       "      <td>1,505</td>\n",
       "      <td>1,220</td>\n",
       "      <td>307</td>\n",
       "      <td>...</td>\n",
       "      <td>29.0</td>\n",
       "      <td>9.6</td>\n",
       "      <td>NaN</td>\n",
       "      <td>NaN</td>\n",
       "      <td>NaN</td>\n",
       "      <td>NaN</td>\n",
       "      <td>NaN</td>\n",
       "      <td>NaN</td>\n",
       "      <td>NaN</td>\n",
       "      <td>NaN</td>\n",
       "    </tr>\n",
       "    <tr>\n",
       "      <th>53000</th>\n",
       "      <td>WA</td>\n",
       "      <td>Washington</td>\n",
       "      <td>NaN</td>\n",
       "      <td>NaN</td>\n",
       "      <td>NaN</td>\n",
       "      <td>NaN</td>\n",
       "      <td>NaN</td>\n",
       "      <td>666,656</td>\n",
       "      <td>661,800</td>\n",
       "      <td>265,140</td>\n",
       "      <td>...</td>\n",
       "      <td>34.4</td>\n",
       "      <td>27.7</td>\n",
       "      <td>442,449</td>\n",
       "      <td>1,122,330</td>\n",
       "      <td>1,699,233</td>\n",
       "      <td>1,837,612</td>\n",
       "      <td>8.7</td>\n",
       "      <td>22.0</td>\n",
       "      <td>33.3</td>\n",
       "      <td>36.0</td>\n",
       "    </tr>\n",
       "    <tr>\n",
       "      <th>54000</th>\n",
       "      <td>WV</td>\n",
       "      <td>West Virginia</td>\n",
       "      <td>NaN</td>\n",
       "      <td>NaN</td>\n",
       "      <td>NaN</td>\n",
       "      <td>NaN</td>\n",
       "      <td>NaN</td>\n",
       "      <td>566,026</td>\n",
       "      <td>267,165</td>\n",
       "      <td>70,605</td>\n",
       "      <td>...</td>\n",
       "      <td>21.0</td>\n",
       "      <td>14.8</td>\n",
       "      <td>168,624</td>\n",
       "      <td>519,091</td>\n",
       "      <td>334,314</td>\n",
       "      <td>265,398</td>\n",
       "      <td>13.1</td>\n",
       "      <td>40.3</td>\n",
       "      <td>26.0</td>\n",
       "      <td>20.6</td>\n",
       "    </tr>\n",
       "    <tr>\n",
       "      <th>55000</th>\n",
       "      <td>WI</td>\n",
       "      <td>Wisconsin</td>\n",
       "      <td>NaN</td>\n",
       "      <td>NaN</td>\n",
       "      <td>NaN</td>\n",
       "      <td>NaN</td>\n",
       "      <td>NaN</td>\n",
       "      <td>1,060,531</td>\n",
       "      <td>811,048</td>\n",
       "      <td>230,874</td>\n",
       "      <td>...</td>\n",
       "      <td>28.1</td>\n",
       "      <td>22.4</td>\n",
       "      <td>308,216</td>\n",
       "      <td>1,211,981</td>\n",
       "      <td>1,244,179</td>\n",
       "      <td>1,191,329</td>\n",
       "      <td>7.8</td>\n",
       "      <td>30.6</td>\n",
       "      <td>31.5</td>\n",
       "      <td>30.1</td>\n",
       "    </tr>\n",
       "    <tr>\n",
       "      <th>56000</th>\n",
       "      <td>WY</td>\n",
       "      <td>Wyoming</td>\n",
       "      <td>NaN</td>\n",
       "      <td>NaN</td>\n",
       "      <td>NaN</td>\n",
       "      <td>NaN</td>\n",
       "      <td>NaN</td>\n",
       "      <td>65,252</td>\n",
       "      <td>63,630</td>\n",
       "      <td>26,074</td>\n",
       "      <td>...</td>\n",
       "      <td>35.0</td>\n",
       "      <td>21.9</td>\n",
       "      <td>26,688</td>\n",
       "      <td>113,535</td>\n",
       "      <td>143,438</td>\n",
       "      <td>106,855</td>\n",
       "      <td>6.8</td>\n",
       "      <td>29.1</td>\n",
       "      <td>36.7</td>\n",
       "      <td>27.4</td>\n",
       "    </tr>\n",
       "  </tbody>\n",
       "</table>\n",
       "<p>3201 rows × 47 columns</p>\n",
       "</div>"
      ],
      "text/plain": [
       "          State           Area name  2003 Rural-urban Continuum Code  \\\n",
       "FIPS Code                                                              \n",
       "1007         AL         Bibb County                              1.0   \n",
       "1009         AL       Blount County                              1.0   \n",
       "1021         AL      Chilton County                              1.0   \n",
       "1073         AL    Jefferson County                              1.0   \n",
       "1115         AL    St. Clair County                              1.0   \n",
       "...         ...                 ...                              ...   \n",
       "51560        VA  Clifton Forge city                              6.0   \n",
       "53000        WA          Washington                              NaN   \n",
       "54000        WV       West Virginia                              NaN   \n",
       "55000        WI           Wisconsin                              NaN   \n",
       "56000        WY             Wyoming                              NaN   \n",
       "\n",
       "           2003 Urban Influence Code  2013 Rural-urban Continuum Code  \\\n",
       "FIPS Code                                                               \n",
       "1007                             1.0                              1.0   \n",
       "1009                             1.0                              1.0   \n",
       "1021                             1.0                              1.0   \n",
       "1073                             1.0                              1.0   \n",
       "1115                             1.0                              1.0   \n",
       "...                              ...                              ...   \n",
       "51560                            6.0                              NaN   \n",
       "53000                            NaN                              NaN   \n",
       "54000                            NaN                              NaN   \n",
       "55000                            NaN                              NaN   \n",
       "56000                            NaN                              NaN   \n",
       "\n",
       "           2013 Urban Influence Code City/Suburb/Town/Rural 2013  \\\n",
       "FIPS Code                                                          \n",
       "1007                             1.0                        City   \n",
       "1009                             1.0                        City   \n",
       "1021                             1.0                        City   \n",
       "1073                             1.0                        City   \n",
       "1115                             1.0                        City   \n",
       "...                              ...                         ...   \n",
       "51560                            NaN                         NaN   \n",
       "53000                            NaN                         NaN   \n",
       "54000                            NaN                         NaN   \n",
       "55000                            NaN                         NaN   \n",
       "56000                            NaN                         NaN   \n",
       "\n",
       "          Less than a high school diploma, 1970  \\\n",
       "FIPS Code                                         \n",
       "1007                                      5,272   \n",
       "1009                                     10,677   \n",
       "1021                                     10,285   \n",
       "1073                                    186,882   \n",
       "1115                                     10,304   \n",
       "...                                         ...   \n",
       "51560                                     1,505   \n",
       "53000                                   666,656   \n",
       "54000                                   566,026   \n",
       "55000                                 1,060,531   \n",
       "56000                                    65,252   \n",
       "\n",
       "          High school diploma only, 1970 Some college (1-3 years), 1970  ...  \\\n",
       "FIPS Code                                                                ...   \n",
       "1007                               1,402                            238  ...   \n",
       "1009                               3,440                            626  ...   \n",
       "1021                               2,805                            538  ...   \n",
       "1073                             101,656                         32,182  ...   \n",
       "1115                               3,540                            666  ...   \n",
       "...                                  ...                            ...  ...   \n",
       "51560                              1,220                            307  ...   \n",
       "53000                            661,800                        265,140  ...   \n",
       "54000                            267,165                         70,605  ...   \n",
       "55000                            811,048                        230,874  ...   \n",
       "56000                             63,630                         26,074  ...   \n",
       "\n",
       "          Percent of adults completing some college or associate's degree, 2000  \\\n",
       "FIPS Code                                                                         \n",
       "1007                                                    20.4                      \n",
       "1009                                                    24.8                      \n",
       "1021                                                    20.5                      \n",
       "1073                                                    28.4                      \n",
       "1115                                                    25.6                      \n",
       "...                                                      ...                      \n",
       "51560                                                   29.0                      \n",
       "53000                                                   34.4                      \n",
       "54000                                                   21.0                      \n",
       "55000                                                   28.1                      \n",
       "56000                                                   35.0                      \n",
       "\n",
       "           Percent of adults with a bachelor's degree or higher, 2000  \\\n",
       "FIPS Code                                                               \n",
       "1007                                                     7.1            \n",
       "1009                                                     9.6            \n",
       "1021                                                     9.9            \n",
       "1073                                                    24.6            \n",
       "1115                                                    11.1            \n",
       "...                                                      ...            \n",
       "51560                                                    9.6            \n",
       "53000                                                   27.7            \n",
       "54000                                                   14.8            \n",
       "55000                                                   22.4            \n",
       "56000                                                   21.9            \n",
       "\n",
       "           Less than a high school diploma, 2015-19  \\\n",
       "FIPS Code                                             \n",
       "1007                                          3,386   \n",
       "1009                                          7,763   \n",
       "1021                                          5,474   \n",
       "1073                                         44,684   \n",
       "1115                                          9,488   \n",
       "...                                             ...   \n",
       "51560                                           NaN   \n",
       "53000                                       442,449   \n",
       "54000                                       168,624   \n",
       "55000                                       308,216   \n",
       "56000                                        26,688   \n",
       "\n",
       "           High school diploma only, 2015-19  \\\n",
       "FIPS Code                                      \n",
       "1007                                   7,256   \n",
       "1009                                  13,299   \n",
       "1021                                  13,348   \n",
       "1073                                 118,636   \n",
       "1115                                  21,849   \n",
       "...                                      ...   \n",
       "51560                                    NaN   \n",
       "53000                              1,122,330   \n",
       "54000                                519,091   \n",
       "55000                              1,211,981   \n",
       "56000                                113,535   \n",
       "\n",
       "           Some college or associate's degree, 2015-19  \\\n",
       "FIPS Code                                                \n",
       "1007                                             3,848   \n",
       "1009                                            13,519   \n",
       "1021                                             7,401   \n",
       "1073                                           136,299   \n",
       "1115                                            20,207   \n",
       "...                                                ...   \n",
       "51560                                              NaN   \n",
       "53000                                        1,699,233   \n",
       "54000                                          334,314   \n",
       "55000                                        1,244,179   \n",
       "56000                                          143,438   \n",
       "\n",
       "          Bachelor's degree or higher, 2015-19  \\\n",
       "FIPS Code                                        \n",
       "1007                                     1,678   \n",
       "1009                                     5,210   \n",
       "1021                                     3,823   \n",
       "1073                                   150,124   \n",
       "1115                                     9,880   \n",
       "...                                        ...   \n",
       "51560                                      NaN   \n",
       "53000                                1,837,612   \n",
       "54000                                  265,398   \n",
       "55000                                1,191,329   \n",
       "56000                                  106,855   \n",
       "\n",
       "          Percent of adults with less than a high school diploma, 2015-19  \\\n",
       "FIPS Code                                                                   \n",
       "1007                                                    20.9                \n",
       "1009                                                    19.5                \n",
       "1021                                                    18.2                \n",
       "1073                                                     9.9                \n",
       "1115                                                    15.4                \n",
       "...                                                      ...                \n",
       "51560                                                    NaN                \n",
       "53000                                                    8.7                \n",
       "54000                                                   13.1                \n",
       "55000                                                    7.8                \n",
       "56000                                                    6.8                \n",
       "\n",
       "          Percent of adults with a high school diploma only, 2015-19  \\\n",
       "FIPS Code                                                              \n",
       "1007                                                    44.9           \n",
       "1009                                                    33.4           \n",
       "1021                                                    44.4           \n",
       "1073                                                    26.4           \n",
       "1115                                                    35.6           \n",
       "...                                                      ...           \n",
       "51560                                                    NaN           \n",
       "53000                                                   22.0           \n",
       "54000                                                   40.3           \n",
       "55000                                                   30.6           \n",
       "56000                                                   29.1           \n",
       "\n",
       "          Percent of adults completing some college or associate's degree, 2015-19  \\\n",
       "FIPS Code                                                                            \n",
       "1007                                                    23.8                         \n",
       "1009                                                    34.0                         \n",
       "1021                                                    24.6                         \n",
       "1073                                                    30.3                         \n",
       "1115                                                    32.9                         \n",
       "...                                                      ...                         \n",
       "51560                                                    NaN                         \n",
       "53000                                                   33.3                         \n",
       "54000                                                   26.0                         \n",
       "55000                                                   31.5                         \n",
       "56000                                                   36.7                         \n",
       "\n",
       "           Percent of adults with a bachelor's degree or higher, 2015-19  \n",
       "FIPS Code                                                                 \n",
       "1007                                                    10.4              \n",
       "1009                                                    13.1              \n",
       "1021                                                    12.7              \n",
       "1073                                                    33.4              \n",
       "1115                                                    16.1              \n",
       "...                                                      ...              \n",
       "51560                                                    NaN              \n",
       "53000                                                   36.0              \n",
       "54000                                                   20.6              \n",
       "55000                                                   30.1              \n",
       "56000                                                   27.4              \n",
       "\n",
       "[3201 rows x 47 columns]"
      ]
     },
     "execution_count": 11,
     "metadata": {},
     "output_type": "execute_result"
    }
   ],
   "source": [
    "# Remove rows that are not from one of the 50 US states\n",
    "df_education_clean = fifty_states(df_education)\n",
    "# Set the index to FIPS code ()\n",
    "df_education_clean.set_index('FIPS Code')\n"
   ]
  },
  {
   "cell_type": "markdown",
   "id": "2e3cc84d",
   "metadata": {},
   "source": [
    "## Clean data if required (recall replacing null values)"
   ]
  },
  {
   "cell_type": "code",
   "execution_count": 12,
   "id": "36301a3d",
   "metadata": {},
   "outputs": [],
   "source": [
    "# Comment: There are many issues associated when choosing to drop rows or backfill missing \n",
    "# data with a calculated value such as mean or median. Large states like California and \n",
    "# New York will introduce bias when used to fill values from smaller states like Alaska \n",
    "# and Hawaii, so simply dropping the rows containing missing data introduced the least amount of bias. \n",
    "# Remove rows from df_unemployment that have empty cells\n",
    "df_unemployment_clean.dropna(inplace=True)\n",
    "# Remove Rows from df_unemployment that have empty cells\n",
    "df_education_clean.dropna(inplace=True)"
   ]
  },
  {
   "cell_type": "markdown",
   "id": "b042fb1b",
   "metadata": {},
   "source": [
    "## Rename any column that is not named correctly"
   ]
  },
  {
   "cell_type": "code",
   "execution_count": 13,
   "id": "94eba125",
   "metadata": {},
   "outputs": [],
   "source": [
    "# Rename the df_unemployment column FIPS_Code to FIPS Code to make it consistent with df_education\n",
    "#df_unemployment_clean.rename(columns={\"FIPS_Code\":\"FIPS Code\"}, inplace=True)\n",
    "df_unemployment_clean.columns = df_unemployment_clean.columns.str.replace(\"_\", \" \")\n"
   ]
  },
  {
   "cell_type": "code",
   "execution_count": 14,
   "id": "7d43acca",
   "metadata": {},
   "outputs": [],
   "source": [
    "# df.rename(columns={'oldName1': 'newName1', 'oldName2': 'newName2'}, inplace=True)\n",
    "# Rename the colunms of df_education to make them more consistent with previous columns' naming convention\n",
    "# Note: It is unclear if \"Four years of college or higher\" in prevous columns meant having attained any degree,\n",
    "# so degree status was not included.\n",
    "\n",
    "df_education_clean.rename(columns={\"Less than a high school diploma, 1970\":\"< HS Diploma, 1970\",\n",
    "                            \"High school diploma only, 1970\":\"HS Diploma, 1970\",\n",
    "                            \"Some college (1-3 years), 1970\":\"Some college, 1970\",\n",
    "                            \"Four years of college or higher, 1970\":\">= Bachelors, 1970\",\n",
    "                            \"Percent of adults with less than a high school diploma, 1970\":\"% < HS Diploma, 1970\",\n",
    "                            \"Percent of adults with a high school diploma only, 1970\":\"% HS Diploma, 1970\",\n",
    "                            \"Percent of adults completing some college (1-3 years), 1970\":\"% Some College, 1970\",\n",
    "                            \"Percent of adults completing four years of college or higher, 1970\":\"% >= Bachelors, 1970\"},\n",
    "                            inplace=True)\n",
    "\n",
    "df_education_clean.rename(columns={\"Less than a high school diploma, 1980\":\"< HS Diploma, 1980\",\n",
    "                            \"High school diploma only, 1980\":\"HS Diploma, 1980\",\n",
    "                            \"Some college (1-3 years), 1980\":\"Some college, 1980\",\n",
    "                            \"Four years of college or higher, 1980\":\">= Bachelors, 1980\",\n",
    "                            \"Percent of adults with less than a high school diploma, 1980\":\"% < HS Diploma, 1980\",\n",
    "                            \"Percent of adults with a high school diploma only, 1980\":\"% HS Diploma, 1980\",\n",
    "                            \"Percent of adults completing some college (1-3 years), 1980\":\"% Some College, 1980\",\n",
    "                            \"Percent of adults completing four years of college or higher, 1980\":\"% >= Bachelors, 1980\"},\n",
    "                            inplace=True)\n",
    "\n",
    "df_education_clean.rename(columns={\"Less than a high school diploma, 1990\":\"< HS Diploma, 1990\",\n",
    "                            \"High school diploma only, 1990\":\"HS Diploma, 1990\",\n",
    "                            \"Some college or associate's degree, 1990\":\"Some college, 1990\",\n",
    "                            \"Bachelor's degree or higher, 1990\":\">= Bachelors, 1990\",\n",
    "                            \"Percent of adults with less than a high school diploma, 1990\":\"% < HS Diploma, 1990\",\n",
    "                            \"Percent of adults with a high school diploma only, 1990\":\"% HS Diploma, 1990\",\n",
    "                            \"Percent of adults completing some college or associate's degree, 1990\":\"% Some College, 1990\",\n",
    "                            \"Percent of adults with a bachelor's degree or higher, 1990\":\"% >= Bachelors, 1990\"},\n",
    "                            inplace=True)\n",
    "\n",
    "df_education_clean.rename(columns={\"Less than a high school diploma, 2000\":\"< HS Diploma, 2000\",\n",
    "                            \"High school diploma only, 2000\":\"HS Diploma, 2000\",\n",
    "                            \"Some college or associate's degree, 2000\":\"Some college, 2000\",\n",
    "                            \"Bachelor's degree or higher, 2000\":\">= Bachelors, 2000\",\n",
    "                            \"Percent of adults with less than a high school diploma, 2000\":\"% < HS Diploma, 2000\",\n",
    "                            \"Percent of adults with a high school diploma only, 2000\":\"% HS Diploma, 2000\",\n",
    "                            \"Percent of adults completing some college or associate's degree, 2000\":\"% Some College, 2000\",\n",
    "                            \"Percent of adults with a bachelor's degree or higher, 2000\":\"% >= Bachelors, 2000\"},\n",
    "                            inplace=True)\n",
    "\n",
    "df_education_clean.rename(columns={\"Less than a high school diploma, 2015-19\":\"< HS Diploma, 2015-19\",\n",
    "                            \"High school diploma only, 2015-19\":\"HS Diploma, 2015-19\",\n",
    "                            \"Some college or associate's degree, 2015-19\":\"Some college, 2015-19\",\n",
    "                            \"Bachelor's degree or higher, 2015-19\":\">= Bachelors, 2015-19\",\n",
    "                            \"Percent of adults with less than a high school diploma, 2015-19\":\"% < HS Diploma, 2015-19\",\n",
    "                            \"Percent of adults with a high school diploma only, 2015-19\":\"% HS Diploma, 2015-19\",\n",
    "                            \"Percent of adults completing some college or associate's degree, 2015-19\":\"% Some College, 2015-19\",\n",
    "                            \"Percent of adults with a bachelor's degree or higher, 2015-19\":\"% >= Bachelors, 2015-19\"},\n",
    "                            inplace=True)\n",
    "\n"
   ]
  },
  {
   "cell_type": "markdown",
   "id": "d7c46cc5",
   "metadata": {},
   "source": [
    "## Change any data type if required\n"
   ]
  },
  {
   "cell_type": "code",
   "execution_count": 15,
   "id": "00b5efab",
   "metadata": {},
   "outputs": [],
   "source": [
    "# Remove the ',' character from 'Civilian_labor_force_20xx', 'Employed_20xx', 'Unemployed_20xx' columns\n",
    "# of df_unemployment and convert to a dtype float  \n",
    "\n",
    "# Create a list of column headers that contain string data to convert to dtype float\n",
    "column_to_clean = ['Civilian labor force', 'Employed','Unemployed']\n",
    "\n",
    "# Iterate through all of the columns in the DataFrame and find the columns that start with similar column names\n",
    "for col in df_unemployment_clean.columns:\n",
    "    # The splice col[:len(col)-5] removes the last 5 characters from the column name\n",
    "    if col[:len(col)-5] in column_to_clean:\n",
    "        # Drop the ',' character from the data and convert to dtype float\n",
    "        df_unemployment_clean[col] = df_unemployment_clean[col].str.replace(',', '').astype(float, errors='raise')\n",
    "\n",
    "\n",
    "\n",
    "# Remove the ',' character from 'Median_Household_Income_2019' and convert to a float  \n",
    "df_unemployment_clean['Median Household Income 2019'] = df_unemployment_clean['Median Household Income 2019'].str.replace(',', '').astype(float, errors = 'raise')\n",
    "\n",
    "\n",
    "\n"
   ]
  },
  {
   "cell_type": "code",
   "execution_count": 16,
   "id": "d4d66d46",
   "metadata": {},
   "outputs": [],
   "source": [
    "# Remove the ',' character from 'Less than a high school diploma_year', 'High school diploma only_year', \n",
    "# 'Some college (1-3 years)_year' and 'Four years of college or higher_year' columns\n",
    "# of education and convert to a dtype float  \n",
    "\n",
    "# Create a list of column headers that contain string data to convert to dtype float\n",
    "column_to_clean = ['< HS Diploma', 'HS Diploma','Some college', '>= Bachelors']\n",
    "\n",
    "# Iterate through all of the columns in the DataFrame and find the columns that start with similar column names\n",
    "for col in df_education_clean.columns:\n",
    "    # The splice col[:len(col)-6] removes the last 6 characters from the column name\n",
    "    if col[:len(col)-6] in column_to_clean:\n",
    "        # Drop the ',' character from the data and convert to dtype float\n",
    "        df_education_clean[col] = df_education_clean[col].str.replace(',', '').astype(float, errors='raise')\n",
    "        \n"
   ]
  },
  {
   "cell_type": "markdown",
   "id": "07a1dbc6",
   "metadata": {},
   "source": [
    "## Use describe and write your conclusion"
   ]
  },
  {
   "cell_type": "code",
   "execution_count": 17,
   "id": "abbfe763",
   "metadata": {},
   "outputs": [
    {
     "data": {
      "text/html": [
       "<div>\n",
       "<style scoped>\n",
       "    .dataframe tbody tr th:only-of-type {\n",
       "        vertical-align: middle;\n",
       "    }\n",
       "\n",
       "    .dataframe tbody tr th {\n",
       "        vertical-align: top;\n",
       "    }\n",
       "\n",
       "    .dataframe thead th {\n",
       "        text-align: right;\n",
       "    }\n",
       "</style>\n",
       "<table border=\"1\" class=\"dataframe\">\n",
       "  <thead>\n",
       "    <tr style=\"text-align: right;\">\n",
       "      <th></th>\n",
       "      <th>FIPS Code</th>\n",
       "      <th>Rural urban continuum code 2013</th>\n",
       "      <th>Urban influence code 2013</th>\n",
       "      <th>Metro 2013</th>\n",
       "      <th>Civilian labor force 2000</th>\n",
       "      <th>Employed 2000</th>\n",
       "      <th>Unemployed 2000</th>\n",
       "      <th>Unemployment rate 2000</th>\n",
       "      <th>Civilian labor force 2001</th>\n",
       "      <th>Employed 2001</th>\n",
       "      <th>...</th>\n",
       "      <th>Civilian labor force 2019</th>\n",
       "      <th>Employed 2019</th>\n",
       "      <th>Unemployed 2019</th>\n",
       "      <th>Unemployment rate 2019</th>\n",
       "      <th>Civilian labor force 2020</th>\n",
       "      <th>Employed 2020</th>\n",
       "      <th>Unemployed 2020</th>\n",
       "      <th>Unemployment rate 2020</th>\n",
       "      <th>Median Household Income 2019</th>\n",
       "      <th>Med HH Income Percent of State Total 2019</th>\n",
       "    </tr>\n",
       "  </thead>\n",
       "  <tbody>\n",
       "    <tr>\n",
       "      <th>count</th>\n",
       "      <td>3128.000000</td>\n",
       "      <td>3128.000000</td>\n",
       "      <td>3128.000000</td>\n",
       "      <td>3128.000000</td>\n",
       "      <td>3.128000e+03</td>\n",
       "      <td>3.128000e+03</td>\n",
       "      <td>3128.000000</td>\n",
       "      <td>3128.000000</td>\n",
       "      <td>3.128000e+03</td>\n",
       "      <td>3.128000e+03</td>\n",
       "      <td>...</td>\n",
       "      <td>3.128000e+03</td>\n",
       "      <td>3.128000e+03</td>\n",
       "      <td>3128.000000</td>\n",
       "      <td>3128.000000</td>\n",
       "      <td>3.128000e+03</td>\n",
       "      <td>3.128000e+03</td>\n",
       "      <td>3128.000000</td>\n",
       "      <td>3128.000000</td>\n",
       "      <td>3128.000000</td>\n",
       "      <td>3128.000000</td>\n",
       "    </tr>\n",
       "    <tr>\n",
       "      <th>mean</th>\n",
       "      <td>30458.390665</td>\n",
       "      <td>5.013107</td>\n",
       "      <td>5.270460</td>\n",
       "      <td>0.369885</td>\n",
       "      <td>4.528774e+04</td>\n",
       "      <td>4.348215e+04</td>\n",
       "      <td>1805.593350</td>\n",
       "      <td>4.365121</td>\n",
       "      <td>4.566837e+04</td>\n",
       "      <td>4.350861e+04</td>\n",
       "      <td>...</td>\n",
       "      <td>5.182997e+04</td>\n",
       "      <td>4.993170e+04</td>\n",
       "      <td>1898.270460</td>\n",
       "      <td>3.939482</td>\n",
       "      <td>5.102655e+04</td>\n",
       "      <td>4.692049e+04</td>\n",
       "      <td>4106.053389</td>\n",
       "      <td>6.728581</td>\n",
       "      <td>55686.717391</td>\n",
       "      <td>89.413075</td>\n",
       "    </tr>\n",
       "    <tr>\n",
       "      <th>std</th>\n",
       "      <td>15142.828587</td>\n",
       "      <td>2.701932</td>\n",
       "      <td>3.492291</td>\n",
       "      <td>0.482850</td>\n",
       "      <td>1.475892e+05</td>\n",
       "      <td>1.410400e+05</td>\n",
       "      <td>6775.203818</td>\n",
       "      <td>1.697147</td>\n",
       "      <td>1.489755e+05</td>\n",
       "      <td>1.413888e+05</td>\n",
       "      <td>...</td>\n",
       "      <td>1.695620e+05</td>\n",
       "      <td>1.630456e+05</td>\n",
       "      <td>6681.175671</td>\n",
       "      <td>1.461589</td>\n",
       "      <td>1.659074e+05</td>\n",
       "      <td>1.494316e+05</td>\n",
       "      <td>17064.593098</td>\n",
       "      <td>2.264125</td>\n",
       "      <td>14491.222297</td>\n",
       "      <td>19.824812</td>\n",
       "    </tr>\n",
       "    <tr>\n",
       "      <th>min</th>\n",
       "      <td>1001.000000</td>\n",
       "      <td>1.000000</td>\n",
       "      <td>1.000000</td>\n",
       "      <td>0.000000</td>\n",
       "      <td>4.900000e+01</td>\n",
       "      <td>4.500000e+01</td>\n",
       "      <td>4.000000</td>\n",
       "      <td>1.300000</td>\n",
       "      <td>4.800000e+01</td>\n",
       "      <td>4.500000e+01</td>\n",
       "      <td>...</td>\n",
       "      <td>2.280000e+02</td>\n",
       "      <td>2.160000e+02</td>\n",
       "      <td>4.000000</td>\n",
       "      <td>0.800000</td>\n",
       "      <td>1.840000e+02</td>\n",
       "      <td>1.740000e+02</td>\n",
       "      <td>4.000000</td>\n",
       "      <td>1.700000</td>\n",
       "      <td>24732.000000</td>\n",
       "      <td>39.900000</td>\n",
       "    </tr>\n",
       "    <tr>\n",
       "      <th>25%</th>\n",
       "      <td>18796.500000</td>\n",
       "      <td>2.000000</td>\n",
       "      <td>2.000000</td>\n",
       "      <td>0.000000</td>\n",
       "      <td>5.080000e+03</td>\n",
       "      <td>4.847750e+03</td>\n",
       "      <td>224.000000</td>\n",
       "      <td>3.200000</td>\n",
       "      <td>5.106500e+03</td>\n",
       "      <td>4.818750e+03</td>\n",
       "      <td>...</td>\n",
       "      <td>4.914500e+03</td>\n",
       "      <td>4.707000e+03</td>\n",
       "      <td>192.000000</td>\n",
       "      <td>3.000000</td>\n",
       "      <td>4.838500e+03</td>\n",
       "      <td>4.511750e+03</td>\n",
       "      <td>295.000000</td>\n",
       "      <td>5.200000</td>\n",
       "      <td>46212.250000</td>\n",
       "      <td>76.400000</td>\n",
       "    </tr>\n",
       "    <tr>\n",
       "      <th>50%</th>\n",
       "      <td>29188.000000</td>\n",
       "      <td>6.000000</td>\n",
       "      <td>5.000000</td>\n",
       "      <td>0.000000</td>\n",
       "      <td>1.171600e+04</td>\n",
       "      <td>1.119250e+04</td>\n",
       "      <td>521.500000</td>\n",
       "      <td>4.100000</td>\n",
       "      <td>1.174200e+04</td>\n",
       "      <td>1.119200e+04</td>\n",
       "      <td>...</td>\n",
       "      <td>1.159550e+04</td>\n",
       "      <td>1.115550e+04</td>\n",
       "      <td>456.000000</td>\n",
       "      <td>3.700000</td>\n",
       "      <td>1.151900e+04</td>\n",
       "      <td>1.072350e+04</td>\n",
       "      <td>771.500000</td>\n",
       "      <td>6.500000</td>\n",
       "      <td>53297.500000</td>\n",
       "      <td>86.700000</td>\n",
       "    </tr>\n",
       "    <tr>\n",
       "      <th>75%</th>\n",
       "      <td>45087.500000</td>\n",
       "      <td>7.000000</td>\n",
       "      <td>8.000000</td>\n",
       "      <td>1.000000</td>\n",
       "      <td>3.020775e+04</td>\n",
       "      <td>2.888550e+04</td>\n",
       "      <td>1261.000000</td>\n",
       "      <td>5.100000</td>\n",
       "      <td>3.055075e+04</td>\n",
       "      <td>2.889275e+04</td>\n",
       "      <td>...</td>\n",
       "      <td>3.205850e+04</td>\n",
       "      <td>3.070025e+04</td>\n",
       "      <td>1226.000000</td>\n",
       "      <td>4.600000</td>\n",
       "      <td>3.146025e+04</td>\n",
       "      <td>2.932325e+04</td>\n",
       "      <td>2192.000000</td>\n",
       "      <td>8.000000</td>\n",
       "      <td>62001.500000</td>\n",
       "      <td>99.400000</td>\n",
       "    </tr>\n",
       "    <tr>\n",
       "      <th>max</th>\n",
       "      <td>56045.000000</td>\n",
       "      <td>9.000000</td>\n",
       "      <td>12.000000</td>\n",
       "      <td>1.000000</td>\n",
       "      <td>4.665167e+06</td>\n",
       "      <td>4.413213e+06</td>\n",
       "      <td>251954.000000</td>\n",
       "      <td>17.300000</td>\n",
       "      <td>4.729827e+06</td>\n",
       "      <td>4.458721e+06</td>\n",
       "      <td>...</td>\n",
       "      <td>5.122843e+06</td>\n",
       "      <td>4.888581e+06</td>\n",
       "      <td>234262.000000</td>\n",
       "      <td>20.900000</td>\n",
       "      <td>4.921499e+06</td>\n",
       "      <td>4.291688e+06</td>\n",
       "      <td>629811.000000</td>\n",
       "      <td>22.500000</td>\n",
       "      <td>151806.000000</td>\n",
       "      <td>234.500000</td>\n",
       "    </tr>\n",
       "  </tbody>\n",
       "</table>\n",
       "<p>8 rows × 90 columns</p>\n",
       "</div>"
      ],
      "text/plain": [
       "          FIPS Code  Rural urban continuum code 2013  \\\n",
       "count   3128.000000                      3128.000000   \n",
       "mean   30458.390665                         5.013107   \n",
       "std    15142.828587                         2.701932   \n",
       "min     1001.000000                         1.000000   \n",
       "25%    18796.500000                         2.000000   \n",
       "50%    29188.000000                         6.000000   \n",
       "75%    45087.500000                         7.000000   \n",
       "max    56045.000000                         9.000000   \n",
       "\n",
       "       Urban influence code 2013   Metro 2013  Civilian labor force 2000  \\\n",
       "count                3128.000000  3128.000000               3.128000e+03   \n",
       "mean                    5.270460     0.369885               4.528774e+04   \n",
       "std                     3.492291     0.482850               1.475892e+05   \n",
       "min                     1.000000     0.000000               4.900000e+01   \n",
       "25%                     2.000000     0.000000               5.080000e+03   \n",
       "50%                     5.000000     0.000000               1.171600e+04   \n",
       "75%                     8.000000     1.000000               3.020775e+04   \n",
       "max                    12.000000     1.000000               4.665167e+06   \n",
       "\n",
       "       Employed 2000  Unemployed 2000  Unemployment rate 2000  \\\n",
       "count   3.128000e+03      3128.000000             3128.000000   \n",
       "mean    4.348215e+04      1805.593350                4.365121   \n",
       "std     1.410400e+05      6775.203818                1.697147   \n",
       "min     4.500000e+01         4.000000                1.300000   \n",
       "25%     4.847750e+03       224.000000                3.200000   \n",
       "50%     1.119250e+04       521.500000                4.100000   \n",
       "75%     2.888550e+04      1261.000000                5.100000   \n",
       "max     4.413213e+06    251954.000000               17.300000   \n",
       "\n",
       "       Civilian labor force 2001  Employed 2001  ...  \\\n",
       "count               3.128000e+03   3.128000e+03  ...   \n",
       "mean                4.566837e+04   4.350861e+04  ...   \n",
       "std                 1.489755e+05   1.413888e+05  ...   \n",
       "min                 4.800000e+01   4.500000e+01  ...   \n",
       "25%                 5.106500e+03   4.818750e+03  ...   \n",
       "50%                 1.174200e+04   1.119200e+04  ...   \n",
       "75%                 3.055075e+04   2.889275e+04  ...   \n",
       "max                 4.729827e+06   4.458721e+06  ...   \n",
       "\n",
       "       Civilian labor force 2019  Employed 2019  Unemployed 2019  \\\n",
       "count               3.128000e+03   3.128000e+03      3128.000000   \n",
       "mean                5.182997e+04   4.993170e+04      1898.270460   \n",
       "std                 1.695620e+05   1.630456e+05      6681.175671   \n",
       "min                 2.280000e+02   2.160000e+02         4.000000   \n",
       "25%                 4.914500e+03   4.707000e+03       192.000000   \n",
       "50%                 1.159550e+04   1.115550e+04       456.000000   \n",
       "75%                 3.205850e+04   3.070025e+04      1226.000000   \n",
       "max                 5.122843e+06   4.888581e+06    234262.000000   \n",
       "\n",
       "       Unemployment rate 2019  Civilian labor force 2020  Employed 2020  \\\n",
       "count             3128.000000               3.128000e+03   3.128000e+03   \n",
       "mean                 3.939482               5.102655e+04   4.692049e+04   \n",
       "std                  1.461589               1.659074e+05   1.494316e+05   \n",
       "min                  0.800000               1.840000e+02   1.740000e+02   \n",
       "25%                  3.000000               4.838500e+03   4.511750e+03   \n",
       "50%                  3.700000               1.151900e+04   1.072350e+04   \n",
       "75%                  4.600000               3.146025e+04   2.932325e+04   \n",
       "max                 20.900000               4.921499e+06   4.291688e+06   \n",
       "\n",
       "       Unemployed 2020  Unemployment rate 2020  Median Household Income 2019  \\\n",
       "count      3128.000000             3128.000000                   3128.000000   \n",
       "mean       4106.053389                6.728581                  55686.717391   \n",
       "std       17064.593098                2.264125                  14491.222297   \n",
       "min           4.000000                1.700000                  24732.000000   \n",
       "25%         295.000000                5.200000                  46212.250000   \n",
       "50%         771.500000                6.500000                  53297.500000   \n",
       "75%        2192.000000                8.000000                  62001.500000   \n",
       "max      629811.000000               22.500000                 151806.000000   \n",
       "\n",
       "       Med HH Income Percent of State Total 2019  \n",
       "count                                3128.000000  \n",
       "mean                                   89.413075  \n",
       "std                                    19.824812  \n",
       "min                                    39.900000  \n",
       "25%                                    76.400000  \n",
       "50%                                    86.700000  \n",
       "75%                                    99.400000  \n",
       "max                                   234.500000  \n",
       "\n",
       "[8 rows x 90 columns]"
      ]
     },
     "execution_count": 17,
     "metadata": {},
     "output_type": "execute_result"
    }
   ],
   "source": [
    "df_unemployment_clean.describe()"
   ]
  },
  {
   "cell_type": "code",
   "execution_count": 18,
   "id": "fba6b814",
   "metadata": {},
   "outputs": [
    {
     "data": {
      "text/html": [
       "<div>\n",
       "<style scoped>\n",
       "    .dataframe tbody tr th:only-of-type {\n",
       "        vertical-align: middle;\n",
       "    }\n",
       "\n",
       "    .dataframe tbody tr th {\n",
       "        vertical-align: top;\n",
       "    }\n",
       "\n",
       "    .dataframe thead th {\n",
       "        text-align: right;\n",
       "    }\n",
       "</style>\n",
       "<table border=\"1\" class=\"dataframe\">\n",
       "  <thead>\n",
       "    <tr style=\"text-align: right;\">\n",
       "      <th></th>\n",
       "      <th>FIPS Code</th>\n",
       "      <th>2003 Rural-urban Continuum Code</th>\n",
       "      <th>2003 Urban Influence Code</th>\n",
       "      <th>2013 Rural-urban Continuum Code</th>\n",
       "      <th>2013 Urban Influence Code</th>\n",
       "      <th>&lt; HS Diploma, 1970</th>\n",
       "      <th>HS Diploma, 1970</th>\n",
       "      <th>Some college, 1970</th>\n",
       "      <th>&gt;= Bachelors, 1970</th>\n",
       "      <th>% &lt; HS Diploma, 1970</th>\n",
       "      <th>...</th>\n",
       "      <th>Some college, 2000</th>\n",
       "      <th>&gt;= Bachelors, 2000</th>\n",
       "      <th>% &lt; HS Diploma, 2000</th>\n",
       "      <th>% HS Diploma, 2000</th>\n",
       "      <th>% Some College, 2000</th>\n",
       "      <th>% &gt;= Bachelors, 2000</th>\n",
       "      <th>% &lt; HS Diploma, 2015-19</th>\n",
       "      <th>% HS Diploma, 2015-19</th>\n",
       "      <th>% Some College, 2015-19</th>\n",
       "      <th>% &gt;= Bachelors, 2015-19</th>\n",
       "    </tr>\n",
       "  </thead>\n",
       "  <tbody>\n",
       "    <tr>\n",
       "      <th>count</th>\n",
       "      <td>3124.000000</td>\n",
       "      <td>3124.000000</td>\n",
       "      <td>3124.000000</td>\n",
       "      <td>3124.000000</td>\n",
       "      <td>3124.000000</td>\n",
       "      <td>3.124000e+03</td>\n",
       "      <td>3.124000e+03</td>\n",
       "      <td>3124.000000</td>\n",
       "      <td>3124.000000</td>\n",
       "      <td>3124.000000</td>\n",
       "      <td>...</td>\n",
       "      <td>3.124000e+03</td>\n",
       "      <td>3.124000e+03</td>\n",
       "      <td>3124.000000</td>\n",
       "      <td>3124.000000</td>\n",
       "      <td>3124.000000</td>\n",
       "      <td>3124.000000</td>\n",
       "      <td>3124.000000</td>\n",
       "      <td>3124.000000</td>\n",
       "      <td>3124.000000</td>\n",
       "      <td>3124.000000</td>\n",
       "    </tr>\n",
       "    <tr>\n",
       "      <th>mean</th>\n",
       "      <td>30478.789693</td>\n",
       "      <td>5.125160</td>\n",
       "      <td>5.446863</td>\n",
       "      <td>5.002561</td>\n",
       "      <td>5.258003</td>\n",
       "      <td>1.670135e+04</td>\n",
       "      <td>1.089688e+04</td>\n",
       "      <td>3713.678937</td>\n",
       "      <td>3726.133803</td>\n",
       "      <td>55.325608</td>\n",
       "      <td>...</td>\n",
       "      <td>1.593100e+04</td>\n",
       "      <td>1.417919e+04</td>\n",
       "      <td>22.619014</td>\n",
       "      <td>34.697439</td>\n",
       "      <td>26.157170</td>\n",
       "      <td>16.524936</td>\n",
       "      <td>13.065365</td>\n",
       "      <td>34.172823</td>\n",
       "      <td>30.818470</td>\n",
       "      <td>21.945102</td>\n",
       "    </tr>\n",
       "    <tr>\n",
       "      <th>std</th>\n",
       "      <td>15087.865660</td>\n",
       "      <td>2.678532</td>\n",
       "      <td>3.464017</td>\n",
       "      <td>2.702093</td>\n",
       "      <td>3.489064</td>\n",
       "      <td>5.718080e+04</td>\n",
       "      <td>4.028458e+04</td>\n",
       "      <td>16653.605324</td>\n",
       "      <td>15911.422270</td>\n",
       "      <td>12.824054</td>\n",
       "      <td>...</td>\n",
       "      <td>5.085362e+04</td>\n",
       "      <td>5.265245e+04</td>\n",
       "      <td>8.739472</td>\n",
       "      <td>6.551780</td>\n",
       "      <td>5.663381</td>\n",
       "      <td>7.785711</td>\n",
       "      <td>6.264736</td>\n",
       "      <td>7.224948</td>\n",
       "      <td>5.211618</td>\n",
       "      <td>9.538274</td>\n",
       "    </tr>\n",
       "    <tr>\n",
       "      <th>min</th>\n",
       "      <td>1001.000000</td>\n",
       "      <td>1.000000</td>\n",
       "      <td>1.000000</td>\n",
       "      <td>1.000000</td>\n",
       "      <td>1.000000</td>\n",
       "      <td>3.300000e+01</td>\n",
       "      <td>8.000000e+00</td>\n",
       "      <td>0.000000</td>\n",
       "      <td>0.000000</td>\n",
       "      <td>11.800000</td>\n",
       "      <td>...</td>\n",
       "      <td>2.200000e+01</td>\n",
       "      <td>3.000000e+00</td>\n",
       "      <td>3.000000</td>\n",
       "      <td>10.900000</td>\n",
       "      <td>9.900000</td>\n",
       "      <td>4.900000</td>\n",
       "      <td>1.100000</td>\n",
       "      <td>7.300000</td>\n",
       "      <td>5.200000</td>\n",
       "      <td>0.000000</td>\n",
       "    </tr>\n",
       "    <tr>\n",
       "      <th>25%</th>\n",
       "      <td>19012.500000</td>\n",
       "      <td>3.000000</td>\n",
       "      <td>2.000000</td>\n",
       "      <td>2.000000</td>\n",
       "      <td>2.000000</td>\n",
       "      <td>2.997000e+03</td>\n",
       "      <td>1.260750e+03</td>\n",
       "      <td>374.000000</td>\n",
       "      <td>275.000000</td>\n",
       "      <td>45.600000</td>\n",
       "      <td>...</td>\n",
       "      <td>1.763750e+03</td>\n",
       "      <td>8.897500e+02</td>\n",
       "      <td>16.000000</td>\n",
       "      <td>30.700000</td>\n",
       "      <td>22.075000</td>\n",
       "      <td>11.275000</td>\n",
       "      <td>8.500000</td>\n",
       "      <td>29.700000</td>\n",
       "      <td>27.300000</td>\n",
       "      <td>15.300000</td>\n",
       "    </tr>\n",
       "    <tr>\n",
       "      <th>50%</th>\n",
       "      <td>29185.500000</td>\n",
       "      <td>6.000000</td>\n",
       "      <td>5.000000</td>\n",
       "      <td>6.000000</td>\n",
       "      <td>5.000000</td>\n",
       "      <td>5.931000e+03</td>\n",
       "      <td>2.741000e+03</td>\n",
       "      <td>799.000000</td>\n",
       "      <td>594.000000</td>\n",
       "      <td>53.900000</td>\n",
       "      <td>...</td>\n",
       "      <td>3.905000e+03</td>\n",
       "      <td>2.169000e+03</td>\n",
       "      <td>20.800000</td>\n",
       "      <td>34.800000</td>\n",
       "      <td>26.200000</td>\n",
       "      <td>14.500000</td>\n",
       "      <td>11.700000</td>\n",
       "      <td>34.500000</td>\n",
       "      <td>30.800000</td>\n",
       "      <td>19.600000</td>\n",
       "    </tr>\n",
       "    <tr>\n",
       "      <th>75%</th>\n",
       "      <td>45083.500000</td>\n",
       "      <td>7.000000</td>\n",
       "      <td>8.000000</td>\n",
       "      <td>7.000000</td>\n",
       "      <td>8.000000</td>\n",
       "      <td>1.196250e+04</td>\n",
       "      <td>6.781750e+03</td>\n",
       "      <td>2020.250000</td>\n",
       "      <td>1708.000000</td>\n",
       "      <td>65.900000</td>\n",
       "      <td>...</td>\n",
       "      <td>1.086025e+04</td>\n",
       "      <td>6.843250e+03</td>\n",
       "      <td>28.800000</td>\n",
       "      <td>38.925000</td>\n",
       "      <td>30.200000</td>\n",
       "      <td>19.300000</td>\n",
       "      <td>16.700000</td>\n",
       "      <td>39.100000</td>\n",
       "      <td>34.200000</td>\n",
       "      <td>26.000000</td>\n",
       "    </tr>\n",
       "    <tr>\n",
       "      <th>max</th>\n",
       "      <td>56045.000000</td>\n",
       "      <td>9.000000</td>\n",
       "      <td>12.000000</td>\n",
       "      <td>9.000000</td>\n",
       "      <td>12.000000</td>\n",
       "      <td>1.506170e+06</td>\n",
       "      <td>1.294477e+06</td>\n",
       "      <td>655534.000000</td>\n",
       "      <td>504563.000000</td>\n",
       "      <td>93.000000</td>\n",
       "      <td>...</td>\n",
       "      <td>1.541721e+06</td>\n",
       "      <td>1.462389e+06</td>\n",
       "      <td>65.300000</td>\n",
       "      <td>53.200000</td>\n",
       "      <td>44.900000</td>\n",
       "      <td>63.700000</td>\n",
       "      <td>73.600000</td>\n",
       "      <td>57.400000</td>\n",
       "      <td>60.600000</td>\n",
       "      <td>77.600000</td>\n",
       "    </tr>\n",
       "  </tbody>\n",
       "</table>\n",
       "<p>8 rows × 41 columns</p>\n",
       "</div>"
      ],
      "text/plain": [
       "          FIPS Code  2003 Rural-urban Continuum Code  \\\n",
       "count   3124.000000                      3124.000000   \n",
       "mean   30478.789693                         5.125160   \n",
       "std    15087.865660                         2.678532   \n",
       "min     1001.000000                         1.000000   \n",
       "25%    19012.500000                         3.000000   \n",
       "50%    29185.500000                         6.000000   \n",
       "75%    45083.500000                         7.000000   \n",
       "max    56045.000000                         9.000000   \n",
       "\n",
       "       2003 Urban Influence Code  2013 Rural-urban Continuum Code  \\\n",
       "count                3124.000000                      3124.000000   \n",
       "mean                    5.446863                         5.002561   \n",
       "std                     3.464017                         2.702093   \n",
       "min                     1.000000                         1.000000   \n",
       "25%                     2.000000                         2.000000   \n",
       "50%                     5.000000                         6.000000   \n",
       "75%                     8.000000                         7.000000   \n",
       "max                    12.000000                         9.000000   \n",
       "\n",
       "       2013 Urban Influence Code  < HS Diploma, 1970  HS Diploma, 1970  \\\n",
       "count                3124.000000        3.124000e+03      3.124000e+03   \n",
       "mean                    5.258003        1.670135e+04      1.089688e+04   \n",
       "std                     3.489064        5.718080e+04      4.028458e+04   \n",
       "min                     1.000000        3.300000e+01      8.000000e+00   \n",
       "25%                     2.000000        2.997000e+03      1.260750e+03   \n",
       "50%                     5.000000        5.931000e+03      2.741000e+03   \n",
       "75%                     8.000000        1.196250e+04      6.781750e+03   \n",
       "max                    12.000000        1.506170e+06      1.294477e+06   \n",
       "\n",
       "       Some college, 1970  >= Bachelors, 1970  % < HS Diploma, 1970  ...  \\\n",
       "count         3124.000000         3124.000000           3124.000000  ...   \n",
       "mean          3713.678937         3726.133803             55.325608  ...   \n",
       "std          16653.605324        15911.422270             12.824054  ...   \n",
       "min              0.000000            0.000000             11.800000  ...   \n",
       "25%            374.000000          275.000000             45.600000  ...   \n",
       "50%            799.000000          594.000000             53.900000  ...   \n",
       "75%           2020.250000         1708.000000             65.900000  ...   \n",
       "max         655534.000000       504563.000000             93.000000  ...   \n",
       "\n",
       "       Some college, 2000  >= Bachelors, 2000  % < HS Diploma, 2000  \\\n",
       "count        3.124000e+03        3.124000e+03           3124.000000   \n",
       "mean         1.593100e+04        1.417919e+04             22.619014   \n",
       "std          5.085362e+04        5.265245e+04              8.739472   \n",
       "min          2.200000e+01        3.000000e+00              3.000000   \n",
       "25%          1.763750e+03        8.897500e+02             16.000000   \n",
       "50%          3.905000e+03        2.169000e+03             20.800000   \n",
       "75%          1.086025e+04        6.843250e+03             28.800000   \n",
       "max          1.541721e+06        1.462389e+06             65.300000   \n",
       "\n",
       "       % HS Diploma, 2000  % Some College, 2000  % >= Bachelors, 2000  \\\n",
       "count         3124.000000           3124.000000           3124.000000   \n",
       "mean            34.697439             26.157170             16.524936   \n",
       "std              6.551780              5.663381              7.785711   \n",
       "min             10.900000              9.900000              4.900000   \n",
       "25%             30.700000             22.075000             11.275000   \n",
       "50%             34.800000             26.200000             14.500000   \n",
       "75%             38.925000             30.200000             19.300000   \n",
       "max             53.200000             44.900000             63.700000   \n",
       "\n",
       "       % < HS Diploma, 2015-19  % HS Diploma, 2015-19  \\\n",
       "count              3124.000000            3124.000000   \n",
       "mean                 13.065365              34.172823   \n",
       "std                   6.264736               7.224948   \n",
       "min                   1.100000               7.300000   \n",
       "25%                   8.500000              29.700000   \n",
       "50%                  11.700000              34.500000   \n",
       "75%                  16.700000              39.100000   \n",
       "max                  73.600000              57.400000   \n",
       "\n",
       "       % Some College, 2015-19  % >= Bachelors, 2015-19  \n",
       "count              3124.000000              3124.000000  \n",
       "mean                 30.818470                21.945102  \n",
       "std                   5.211618                 9.538274  \n",
       "min                   5.200000                 0.000000  \n",
       "25%                  27.300000                15.300000  \n",
       "50%                  30.800000                19.600000  \n",
       "75%                  34.200000                26.000000  \n",
       "max                  60.600000                77.600000  \n",
       "\n",
       "[8 rows x 41 columns]"
      ]
     },
     "execution_count": 18,
     "metadata": {},
     "output_type": "execute_result"
    }
   ],
   "source": [
    "df_education_clean.describe()\n"
   ]
  },
  {
   "cell_type": "markdown",
   "id": "73787b18",
   "metadata": {},
   "source": [
    "**Conclusion:** Now all numerical data is stored in numerical format, no columns have the underscore character (_), and rows that are missing data have been dropped.\n",
    "\n",
    "When dropping rows, it is important to consider the effect this will have on the data. The project group considered multiple options, such as back-filling missing data, or using column means to fill missing data. Filling in missing data presents many issues in this dataset. Can the column mean of data from states like California and New York be comparable to states like Alaska and Wyoming? If a dataset that includes data from California is used to fill information from a state like Alaska, this can introduce bias. In other words, a state like California may not be representative of a state like Alaska.\n",
    "\n",
    "Another option is to use inner-state data; for example, using data from counties in Alaska to fill missing data from other counties in Alaska. But this poses problems as well, because even within Alaska there are counties with larger city areas and counties that are rural, and again using the mean of inner-state data in Alaska would introduce bias.\n"
   ]
  },
  {
   "cell_type": "markdown",
   "id": "dfdc4603",
   "metadata": {},
   "source": [
    "## Select only required columns"
   ]
  },
  {
   "cell_type": "code",
   "execution_count": 19,
   "id": "e909a741",
   "metadata": {},
   "outputs": [],
   "source": [
    "# Merge the df_education_clean and df_unemployment_clearn DataFrames into a single unified DataFrame\n",
    "df_merged = pd.merge(df_education_clean, df_unemployment_clean, how='inner', on='FIPS Code')\n"
   ]
  },
  {
   "cell_type": "code",
   "execution_count": 20,
   "id": "61018ee6",
   "metadata": {},
   "outputs": [],
   "source": [
    "# Save the merged DataSet to a CSV file\n",
    "df_merged.to_csv('data/merged.csv')\n"
   ]
  },
  {
   "cell_type": "markdown",
   "id": "3a18fbc8",
   "metadata": {},
   "source": [
    "\n",
    "\n"
   ]
  },
  {
   "cell_type": "markdown",
   "id": "5039970b",
   "metadata": {},
   "source": [
    "**Conclusion:** Now with all the data cleaned and columns selected, the Unemployment and Education datasets are merged into one unified DataFrame, df_merged, that can be used throughout the project."
   ]
  },
  {
   "cell_type": "markdown",
   "id": "7c0d609e",
   "metadata": {},
   "source": [
    "## Pivot Tables"
   ]
  },
  {
   "cell_type": "code",
   "execution_count": 21,
   "id": "f49ade79",
   "metadata": {},
   "outputs": [
    {
     "data": {
      "text/html": [
       "<div>\n",
       "<style scoped>\n",
       "    .dataframe tbody tr th:only-of-type {\n",
       "        vertical-align: middle;\n",
       "    }\n",
       "\n",
       "    .dataframe tbody tr th {\n",
       "        vertical-align: top;\n",
       "    }\n",
       "\n",
       "    .dataframe thead th {\n",
       "        text-align: right;\n",
       "    }\n",
       "</style>\n",
       "<table border=\"1\" class=\"dataframe\">\n",
       "  <thead>\n",
       "    <tr style=\"text-align: right;\">\n",
       "      <th></th>\n",
       "      <th>Civilian labor force 2000</th>\n",
       "      <th>Civilian labor force 2010</th>\n",
       "      <th>% Change</th>\n",
       "    </tr>\n",
       "    <tr>\n",
       "      <th>City/Suburb/Town/Rural 2013</th>\n",
       "      <th></th>\n",
       "      <th></th>\n",
       "      <th></th>\n",
       "    </tr>\n",
       "  </thead>\n",
       "  <tbody>\n",
       "    <tr>\n",
       "      <th>City</th>\n",
       "      <td>120194652.0</td>\n",
       "      <td>131553875.0</td>\n",
       "      <td>9.450689</td>\n",
       "    </tr>\n",
       "    <tr>\n",
       "      <th>Rural</th>\n",
       "      <td>5447956.0</td>\n",
       "      <td>5454747.0</td>\n",
       "      <td>0.124652</td>\n",
       "    </tr>\n",
       "    <tr>\n",
       "      <th>Suburb</th>\n",
       "      <td>8545086.0</td>\n",
       "      <td>8708303.0</td>\n",
       "      <td>1.910069</td>\n",
       "    </tr>\n",
       "    <tr>\n",
       "      <th>Town</th>\n",
       "      <td>7394947.0</td>\n",
       "      <td>7531767.0</td>\n",
       "      <td>1.850182</td>\n",
       "    </tr>\n",
       "  </tbody>\n",
       "</table>\n",
       "</div>"
      ],
      "text/plain": [
       "                             Civilian labor force 2000  \\\n",
       "City/Suburb/Town/Rural 2013                              \n",
       "City                                       120194652.0   \n",
       "Rural                                        5447956.0   \n",
       "Suburb                                       8545086.0   \n",
       "Town                                         7394947.0   \n",
       "\n",
       "                             Civilian labor force 2010  % Change  \n",
       "City/Suburb/Town/Rural 2013                                       \n",
       "City                                       131553875.0  9.450689  \n",
       "Rural                                        5454747.0  0.124652  \n",
       "Suburb                                       8708303.0  1.910069  \n",
       "Town                                         7531767.0  1.850182  "
      ]
     },
     "execution_count": 21,
     "metadata": {},
     "output_type": "execute_result"
    }
   ],
   "source": [
    "# Create a pivot table stored in a new DataFrame that will provide the total civilian labor force for \n",
    "# the years 2000 and 2010\n",
    "df_pt1 = pd.pivot_table(df_merged, index='City/Suburb/Town/Rural 2013', values=[\"Civilian labor force 2000\", \"Civilian labor force 2010\"], aggfunc='sum')\n",
    "\n",
    "# Calculate the percent change in total labor force using the formula\n",
    "# % Difference = [(New_value - Previous_value) / (Previous_value)] * 100%\n",
    "df_pt1['% Change'] = ((df_pt1[\"Civilian labor force 2010\"] - df_pt1[\"Civilian labor force 2000\"]) / df_pt1[\"Civilian labor force 2000\"]) * 100\n",
    "df_pt1"
   ]
  },
  {
   "cell_type": "markdown",
   "id": "f6fcdf57",
   "metadata": {},
   "source": [
    "**Conclusion:** The Pivot Table aggregates the civilian labor force into different categories (in this case, counties described by City, Rural, Suburb and Town). Between 2000 and 2010, the City counties had the largest increase (9.45%), while rural areas had the smallest growth at just 0.12 %. Both Suburb and Town counties grew at just under 2%."
   ]
  },
  {
   "cell_type": "markdown",
   "id": "cffb62c6",
   "metadata": {},
   "source": [
    "## Analyzing data with groupby()"
   ]
  },
  {
   "cell_type": "code",
   "execution_count": 22,
   "id": "af723233",
   "metadata": {},
   "outputs": [
    {
     "data": {
      "text/html": [
       "<div>\n",
       "<style scoped>\n",
       "    .dataframe tbody tr th:only-of-type {\n",
       "        vertical-align: middle;\n",
       "    }\n",
       "\n",
       "    .dataframe tbody tr th {\n",
       "        vertical-align: top;\n",
       "    }\n",
       "\n",
       "    .dataframe thead th {\n",
       "        text-align: right;\n",
       "    }\n",
       "</style>\n",
       "<table border=\"1\" class=\"dataframe\">\n",
       "  <thead>\n",
       "    <tr style=\"text-align: right;\">\n",
       "      <th></th>\n",
       "      <th>State_x</th>\n",
       "      <th>Civilian labor force 2000</th>\n",
       "      <th>Unemployed 2000</th>\n",
       "      <th>Unemployment Rate 2000</th>\n",
       "      <th>&lt; HS Diploma, 2000</th>\n",
       "      <th>HS Diploma, 2000</th>\n",
       "      <th>Some college, 2000</th>\n",
       "      <th>&gt;= Bachelors, 2000</th>\n",
       "      <th>% &lt; HS Diploma, 2000</th>\n",
       "      <th>% HS Diploma, 2000</th>\n",
       "      <th>% Some College, 2000</th>\n",
       "      <th>% &gt;= Bachelors, 2000</th>\n",
       "    </tr>\n",
       "  </thead>\n",
       "  <tbody>\n",
       "    <tr>\n",
       "      <th>0</th>\n",
       "      <td>AK</td>\n",
       "      <td>305779.0</td>\n",
       "      <td>18936.0</td>\n",
       "      <td>6.192708</td>\n",
       "      <td>40820.0</td>\n",
       "      <td>98565.0</td>\n",
       "      <td>129677.0</td>\n",
       "      <td>90988.0</td>\n",
       "      <td>11.337314</td>\n",
       "      <td>27.375365</td>\n",
       "      <td>36.016387</td>\n",
       "      <td>25.270935</td>\n",
       "    </tr>\n",
       "    <tr>\n",
       "      <th>1</th>\n",
       "      <td>AL</td>\n",
       "      <td>2147180.0</td>\n",
       "      <td>99447.0</td>\n",
       "      <td>4.631517</td>\n",
       "      <td>714081.0</td>\n",
       "      <td>877216.0</td>\n",
       "      <td>746495.0</td>\n",
       "      <td>549608.0</td>\n",
       "      <td>24.730934</td>\n",
       "      <td>30.380827</td>\n",
       "      <td>25.853536</td>\n",
       "      <td>19.034703</td>\n",
       "    </tr>\n",
       "    <tr>\n",
       "      <th>2</th>\n",
       "      <td>AR</td>\n",
       "      <td>1260517.0</td>\n",
       "      <td>52677.0</td>\n",
       "      <td>4.179000</td>\n",
       "      <td>427449.0</td>\n",
       "      <td>590416.0</td>\n",
       "      <td>424907.0</td>\n",
       "      <td>288428.0</td>\n",
       "      <td>24.690908</td>\n",
       "      <td>34.104436</td>\n",
       "      <td>24.544073</td>\n",
       "      <td>16.660582</td>\n",
       "    </tr>\n",
       "    <tr>\n",
       "      <th>3</th>\n",
       "      <td>AZ</td>\n",
       "      <td>2502987.0</td>\n",
       "      <td>99302.0</td>\n",
       "      <td>3.967340</td>\n",
       "      <td>615126.0</td>\n",
       "      <td>787024.0</td>\n",
       "      <td>1074683.0</td>\n",
       "      <td>764962.0</td>\n",
       "      <td>18.974858</td>\n",
       "      <td>24.277414</td>\n",
       "      <td>33.150862</td>\n",
       "      <td>23.596865</td>\n",
       "    </tr>\n",
       "    <tr>\n",
       "      <th>4</th>\n",
       "      <td>CA</td>\n",
       "      <td>16837548.0</td>\n",
       "      <td>825923.0</td>\n",
       "      <td>4.905245</td>\n",
       "      <td>4942743.0</td>\n",
       "      <td>4288452.0</td>\n",
       "      <td>6397739.0</td>\n",
       "      <td>5669966.0</td>\n",
       "      <td>23.206565</td>\n",
       "      <td>20.134617</td>\n",
       "      <td>30.037885</td>\n",
       "      <td>26.620933</td>\n",
       "    </tr>\n",
       "  </tbody>\n",
       "</table>\n",
       "</div>"
      ],
      "text/plain": [
       "  State_x  Civilian labor force 2000  Unemployed 2000  Unemployment Rate 2000  \\\n",
       "0      AK                   305779.0          18936.0                6.192708   \n",
       "1      AL                  2147180.0          99447.0                4.631517   \n",
       "2      AR                  1260517.0          52677.0                4.179000   \n",
       "3      AZ                  2502987.0          99302.0                3.967340   \n",
       "4      CA                 16837548.0         825923.0                4.905245   \n",
       "\n",
       "   < HS Diploma, 2000  HS Diploma, 2000  Some college, 2000  \\\n",
       "0             40820.0           98565.0            129677.0   \n",
       "1            714081.0          877216.0            746495.0   \n",
       "2            427449.0          590416.0            424907.0   \n",
       "3            615126.0          787024.0           1074683.0   \n",
       "4           4942743.0         4288452.0           6397739.0   \n",
       "\n",
       "   >= Bachelors, 2000  % < HS Diploma, 2000  % HS Diploma, 2000  \\\n",
       "0             90988.0             11.337314           27.375365   \n",
       "1            549608.0             24.730934           30.380827   \n",
       "2            288428.0             24.690908           34.104436   \n",
       "3            764962.0             18.974858           24.277414   \n",
       "4           5669966.0             23.206565           20.134617   \n",
       "\n",
       "   % Some College, 2000  % >= Bachelors, 2000  \n",
       "0             36.016387             25.270935  \n",
       "1             25.853536             19.034703  \n",
       "2             24.544073             16.660582  \n",
       "3             33.150862             23.596865  \n",
       "4             30.037885             26.620933  "
      ]
     },
     "execution_count": 22,
     "metadata": {},
     "output_type": "execute_result"
    }
   ],
   "source": [
    "# The dataset stores data on a per-county basis for each county in the U.S.\n",
    "\n",
    "# Create a new DataFrame to store per-state aggregate data\n",
    "df_data_by_state = pd.DataFrame()\n",
    "\n",
    "# Store the civilian labor force by state for the year 2000\n",
    "df_data_by_state = df_merged[['Civilian labor force 2000', 'State_x']].groupby('State_x', as_index=False).sum()\n",
    "\n",
    "# Store the total unemployed by state for the year 2000\n",
    "df_data_by_state[['State_x','Unemployed 2000']] = df_merged[['Unemployed 2000','State_x']].groupby('State_x', as_index=False).sum()\n",
    "\n",
    "# Calculate the unemployement rate by state for the year 2000\n",
    "df_data_by_state['Unemployment Rate 2000'] = (df_data_by_state['Unemployed 2000'] / df_data_by_state['Civilian labor force 2000']) * 100\n",
    "\n",
    "# Totalize individuals with 'Less than a high school diploma, 2000'\n",
    "df_data_by_state[['State_x','< HS Diploma, 2000']] = df_merged[['< HS Diploma, 2000','State_x']].groupby('State_x', as_index=False).sum()\n",
    "\n",
    "# Totalize individuals with 'High school diploma, 2000'\n",
    "df_data_by_state[['State_x','HS Diploma, 2000']] = df_merged[['HS Diploma, 2000','State_x']].groupby('State_x', as_index=False).sum()\n",
    "\n",
    "# Totalize individuals with 'Some college (1-3 years), 2000'\n",
    "df_data_by_state[['State_x','Some college, 2000']] = df_merged[['Some college, 2000','State_x']].groupby('State_x', as_index=False).sum()\n",
    "\n",
    "# Totalize individuals with 'Four years of college or higher, 2000'\n",
    "df_data_by_state[['State_x','>= Bachelors, 2000']] = df_merged[['>= Bachelors, 2000','State_x']].groupby('State_x', as_index=False).sum()\n",
    "\n",
    "# Calculate 'Percent of adults with less than a high school diploma, 2000'\n",
    "df_data_by_state['% < HS Diploma, 2000'] = (df_data_by_state['< HS Diploma, 2000'] / (df_data_by_state['< HS Diploma, 2000'] + df_data_by_state['HS Diploma, 2000'] + df_data_by_state['Some college, 2000'] + df_data_by_state['>= Bachelors, 2000'])) * 100\n",
    "\n",
    "# Calculate 'Percent of adults with a High school diploma only, 2000'\n",
    "df_data_by_state['% HS Diploma, 2000'] = (df_data_by_state['HS Diploma, 2000'] / (df_data_by_state['< HS Diploma, 2000'] + df_data_by_state['HS Diploma, 2000'] + df_data_by_state['Some college, 2000'] + df_data_by_state['>= Bachelors, 2000'])) * 100\n",
    "\n",
    "# Calculate 'Percent of adults completing some college or associate's degree, 2000'\n",
    "df_data_by_state[\"% Some College, 2000\"] = (df_data_by_state['Some college, 2000'] / (df_data_by_state['< HS Diploma, 2000'] + df_data_by_state['HS Diploma, 2000'] + df_data_by_state['Some college, 2000'] + df_data_by_state['>= Bachelors, 2000'])) * 100\n",
    "\n",
    "# Calculate \"Percent of adults with a bachelor's degree or higher 2000\"\n",
    "df_data_by_state[\"% >= Bachelors, 2000\"] = (df_data_by_state['>= Bachelors, 2000'] / (df_data_by_state['< HS Diploma, 2000'] + df_data_by_state['HS Diploma, 2000'] + df_data_by_state['Some college, 2000'] + df_data_by_state['>= Bachelors, 2000'])) * 100\n",
    "\n",
    "# Display the DataFrame to verify it was created correctly\n",
    "df_data_by_state.head()\n"
   ]
  },
  {
   "cell_type": "markdown",
   "id": "1f9e6b06",
   "metadata": {},
   "source": [
    "**Conclusion:** The groupby() function allows multiple columns of data to be aggregated based on a separate column. Percent unemployment is given on a per-county basis in the dataset, but this value cannot be used when aggregating data for an entire state (since certain counties are much larger than others in terms of population). Therefore, the percent unemployment for the state must be calculated separately."
   ]
  },
  {
   "cell_type": "markdown",
   "id": "a41a0cfb",
   "metadata": {},
   "source": [
    "## Exploratory Data Analysis with an Emperiacal Cumulative Distribution Function (ECDF)\n",
    "\n",
    "The ECDF calculates the the fraction of data less than or equal to a specified value, from the lowest value to the largest value. The ECDF can be plotted to show how the data is distributed."
   ]
  },
  {
   "cell_type": "code",
   "execution_count": 23,
   "id": "3fd3c770",
   "metadata": {},
   "outputs": [],
   "source": [
    "# Function #2 ecdf()\n",
    "# Calculate the ECDF to determine the distibution of the data given a pandas column\n",
    "def ecdf(data):\n",
    "\n",
    "    '''Calculate ECDF for a one-dimensional pandas column'''   \n",
    "\n",
    "    # Number of data points: n\n",
    "    n = len(data)\n",
    "\n",
    "    # x-data for the ECDF: x\n",
    "    x = data.sort_values()\n",
    "\n",
    "    # y-data for the ECDF: y\n",
    "    y = np.arange(1, n+1) / n\n",
    "    \n",
    "    # return x and y values for ECDF:\n",
    "    return x, y"
   ]
  },
  {
   "cell_type": "code",
   "execution_count": 24,
   "id": "4e3f4e73",
   "metadata": {},
   "outputs": [],
   "source": [
    "# Calculate ECDF values for % people with less than a high school diploma living in rural, city, suburb, and town areas:\n",
    "\n",
    "x_rural, y_rural = ecdf(df_merged.loc[df_merged['City/Suburb/Town/Rural 2013'] == 'Rural', '% < HS Diploma, 2000'])\n",
    "x_city, y_city = ecdf(df_merged.loc[df_merged['City/Suburb/Town/Rural 2013'] == 'City', '% < HS Diploma, 2000'])\n",
    "x_suburb, y_suburb = ecdf(df_merged.loc[df_merged['City/Suburb/Town/Rural 2013'] == 'Suburb', '% < HS Diploma, 2000'])\n",
    "x_town, y_town = ecdf(df_merged.loc[df_merged['City/Suburb/Town/Rural 2013'] == 'Town', '% < HS Diploma, 2000'])\n",
    "\n"
   ]
  },
  {
   "cell_type": "code",
   "execution_count": 25,
   "id": "e785a28f",
   "metadata": {},
   "outputs": [
    {
     "data": {
      "image/png": "[encoded data removed]",
      "text/plain": [
       "<Figure size 1200x300 with 1 Axes>"
      ]
     },
     "metadata": {},
     "output_type": "display_data"
    }
   ],
   "source": [
    "# Plot ECDF values for people with less than a high school diploma living in city areas:\n",
    "\n",
    "# Set the default style\n",
    "plt.style.use('default')\n",
    "\n",
    "# Adjust the figure size to stretch it horizontally to clearly see the outliers\n",
    "plt.rcParams[\"figure.figsize\"] = (12,3)\n",
    "\n",
    "# Label the x-axis and y-axis\n",
    "_ = plt.xlabel('% Population With Less Than a High School Diploma in City Counties (Number of People)')\n",
    "_ = plt.ylabel('ECDF')\n",
    "\n",
    "# Set the default style\n",
    "plt.style.use('default')\n",
    "\n",
    "# Display the tick labels as whole numbers (the default was scientific notation)\n",
    "plt.ticklabel_format(style='plain', axis='x', scilimits=(0,0))\n",
    "\n",
    "# Plot the x and y ECDF values \n",
    "_ = plt.plot(x_city, y_city, marker = '.', linestyle = 'none')\n"
   ]
  },
  {
   "cell_type": "markdown",
   "id": "dd11882d",
   "metadata": {},
   "source": [
    "**Conclusion:** The ECDF plot with percent of the population with less than a high school diploma in the city has outliers on both ends and resembles an s-curve. In the City, 50% of counties have a population where less than 20% of the population has less than a high school diploma. "
   ]
  },
  {
   "cell_type": "code",
   "execution_count": 26,
   "id": "3274ee02",
   "metadata": {},
   "outputs": [
    {
     "data": {
      "image/png": "[encoded data removed]",
      "text/plain": [
       "<Figure size 1200x300 with 1 Axes>"
      ]
     },
     "metadata": {},
     "output_type": "display_data"
    }
   ],
   "source": [
    "# Plot ECDF values for people with less than a high school diploma living in rural areas:\n",
    "\n",
    "# Set the default style\n",
    "plt.style.use('default')\n",
    "\n",
    "# Adjust the figure size to stretch it horizontally to clearly see the outliers\n",
    "plt.rcParams[\"figure.figsize\"] = (12,3)\n",
    "\n",
    "# Label the x-axis and y-axis\n",
    "_ = plt.xlabel('% Population With Less Than a High School Diploma in Rural Counties (Number of People)')\n",
    "_ = plt.ylabel('ECDF')\n",
    "\n",
    "# Display the tick labels as whole numbers (the default was scientific notation)\n",
    "plt.ticklabel_format(style='plain', axis='x', scilimits=(0,0))\n",
    "\n",
    "# Plot the x and y ECDF values \n",
    "_ = plt.plot(x_rural, y_rural, marker = '.', linestyle = 'none')"
   ]
  },
  {
   "cell_type": "markdown",
   "id": "1f50d8dd",
   "metadata": {},
   "source": [
    "**Conclusion:** The ECDF plot with percent of the population with less than a high school diploma in the rural areas has outliers on the top end and resembles an s-curve. In rural areas, 50% of counties have a population where less than 25% of the population has less than a high school diploma."
   ]
  },
  {
   "cell_type": "code",
   "execution_count": 27,
   "id": "8264692e",
   "metadata": {},
   "outputs": [
    {
     "data": {
      "image/png": "[encoded data removed]",
      "text/plain": [
       "<Figure size 1200x300 with 1 Axes>"
      ]
     },
     "metadata": {},
     "output_type": "display_data"
    }
   ],
   "source": [
    "# Plot ECDF values for people with less than a high school diploma living in town areas:\n",
    "\n",
    "# Set the default style\n",
    "plt.style.use('default')\n",
    "\n",
    "# Adjust the figure size to stretch it horizontally to clearly see the outliers\n",
    "plt.rcParams[\"figure.figsize\"] = (12,3)\n",
    "\n",
    "# Label the x-axis and y-axis\n",
    "_ = plt.xlabel('% Population With Less Than a High School Diploma in Town Counties (Number of People)')\n",
    "_ = plt.ylabel('ECDF')\n",
    "\n",
    "# Display the tick labels as whole numbers (the default was scientific notation)\n",
    "plt.ticklabel_format(style='plain', axis='x', scilimits=(0,0))\n",
    "\n",
    "# Plot the x and y ECDF values \n",
    "_ = plt.plot(x_town, y_town, marker = '.', linestyle = 'none')"
   ]
  },
  {
   "cell_type": "markdown",
   "id": "cfeba60a",
   "metadata": {},
   "source": [
    "**Conclusion:** The ECDF plot with percent of the population with less than a high school diploma in the town areas has outliers on both ends and resembles an s-curve. In town areas, 50% of counties have a population where less than 25% of the population has less than a high school diploma. This is similar to rural areas."
   ]
  },
  {
   "cell_type": "code",
   "execution_count": 28,
   "id": "2332bbfc",
   "metadata": {},
   "outputs": [
    {
     "data": {
      "image/png": "[encoded data removed]",
      "text/plain": [
       "<Figure size 1200x300 with 1 Axes>"
      ]
     },
     "metadata": {},
     "output_type": "display_data"
    }
   ],
   "source": [
    "# Plot ECDF values for people with less than a high school diploma living in suberb areas:\n",
    "\n",
    "# Set the default style\n",
    "plt.style.use('default')\n",
    "\n",
    "# Adjust the figure size to stretch it horizontally to clearly see the outliers\n",
    "plt.rcParams[\"figure.figsize\"] = (12,3)\n",
    "\n",
    "# Label the x-axis and y-axis\n",
    "_ = plt.xlabel('% Population With Less Than a High School Diploma in Suburb Counties (Number of People)')\n",
    "_ = plt.ylabel('ECDF')\n",
    "\n",
    "# Display the tick labels as whole numbers (the default was scientific notation)\n",
    "plt.ticklabel_format(style='plain', axis='x', scilimits=(0,0))\n",
    "\n",
    "# Plot the x and y ECDF values \n",
    "_ = plt.plot(x_suburb, y_suburb, marker = '.', linestyle = 'none')"
   ]
  },
  {
   "cell_type": "markdown",
   "id": "171d9c13",
   "metadata": {},
   "source": [
    "**Conclusion:** The ECDF plot with percent of the population with less than a high school diploma in the suburb areas has outliers on both ends (with more at the top) and resembles an s-curve. In suburb areas, 50% of counties have a population where less than 25% of the population has less than a high school diploma. This is similar to rural areas and town areas."
   ]
  },
  {
   "cell_type": "code",
   "execution_count": null,
   "id": "979b71af",
   "metadata": {},
   "outputs": [],
   "source": []
  },
  {
   "cell_type": "markdown",
   "id": "2701099c",
   "metadata": {},
   "source": [
    "## Data Visualization"
   ]
  },
  {
   "cell_type": "code",
   "execution_count": 29,
   "id": "56c5da43",
   "metadata": {},
   "outputs": [],
   "source": [
    "# Display labor force information for the U.S. using Choropleth - a graphics library showing information \n",
    "# for each U.S. State. \n",
    "# Choropleth requires 'data' (which indicates the type of plot - U.S. States is used) and 'layout' (again, U.s. States)\n",
    "data = dict(type = 'choropleth',\n",
    "            locations = df_data_by_state['State_x'],\n",
    "            locationmode = 'USA-states',\n",
    "            colorscale = 'Portland',\n",
    "            text = '(Civilian Labor Force for state)',\n",
    "            z = df_data_by_state['Civilian labor force 2000'],\n",
    "            colorbar = {'title':'Civilian Labor Force by State (Year 2000)'})\n",
    "\n",
    "layout = dict(geo = {'scope':'usa'})"
   ]
  },
  {
   "cell_type": "code",
   "execution_count": 30,
   "id": "98d05ae4",
   "metadata": {},
   "outputs": [
    {
     "data": {
      "application/vnd.plotly.v1+json": {
       "config": {
        "linkText": "Export to plot.ly",
        "plotlyServerURL": "https://plot.ly",
        "showLink": false
       },
       "data": [
        {
         "colorbar": {
          "title": {
           "text": "Civilian Labor Force by State (Year 2000)"
          }
         },
         "colorscale": [
          [
           0,
           "rgb(12,51,131)"
          ],
          [
           0.25,
           "rgb(10,136,186)"
          ],
          [
           0.5,
           "rgb(242,211,56)"
          ],
          [
           0.75,
           "rgb(242,143,56)"
          ],
          [
           1,
           "rgb(217,30,30)"
          ]
         ],
         "locationmode": "USA-states",
         "locations": [
          "AK",
          "AL",
          "AR",
          "AZ",
          "CA",
          "CO",
          "CT",
          "DE",
          "FL",
          "GA",
          "HI",
          "IA",
          "ID",
          "IL",
          "IN",
          "KS",
          "KY",
          "LA",
          "MA",
          "MD",
          "ME",
          "MI",
          "MN",
          "MO",
          "MS",
          "MT",
          "NC",
          "ND",
          "NE",
          "NH",
          "NJ",
          "NM",
          "NV",
          "NY",
          "OH",
          "OK",
          "OR",
          "PA",
          "RI",
          "SC",
          "SD",
          "TN",
          "TX",
          "UT",
          "VA",
          "VT",
          "WA",
          "WI",
          "WV",
          "WY"
         ],
         "text": "(Civilian Labor Force for state)",
         "type": "choropleth",
         "z": [
          305779,
          2147180,
          1260517,
          2502987,
          16837548,
          2335827,
          1760697,
          412956,
          7917863,
          4202699,
          605394,
          1594404,
          661075,
          6494442,
          3125312,
          1402622,
          1957418,
          1402143,
          3340576,
          2801396,
          677466,
          5156711,
          2799120,
          2971451,
          1309884,
          470076,
          4127483,
          342768,
          938857,
          685801,
          4287640,
          836244,
          1070780,
          9140552,
          5781450,
          1655522,
          1811842,
          6105746,
          542518,
          1965484,
          408499,
          2849029,
          10388372,
          1142860,
          3575499,
          334033,
          3087684,
          2985644,
          799088,
          265703
         ]
        }
       ],
       "layout": {
        "geo": {
         "scope": "usa"
        },
        "template": {
         "data": {
          "bar": [
           {
            "error_x": {
             "color": "#2a3f5f"
            },
            "error_y": {
             "color": "#2a3f5f"
            },
            "marker": {
             "line": {
              "color": "#E5ECF6",
              "width": 0.5
             },
             "pattern": {
              "fillmode": "overlay",
              "size": 10,
              "solidity": 0.2
             }
            },
            "type": "bar"
           }
          ],
          "barpolar": [
           {
            "marker": {
             "line": {
              "color": "#E5ECF6",
              "width": 0.5
             },
             "pattern": {
              "fillmode": "overlay",
              "size": 10,
              "solidity": 0.2
             }
            },
            "type": "barpolar"
           }
          ],
          "carpet": [
           {
            "aaxis": {
             "endlinecolor": "#2a3f5f",
             "gridcolor": "white",
             "linecolor": "white",
             "minorgridcolor": "white",
             "startlinecolor": "#2a3f5f"
            },
            "baxis": {
             "endlinecolor": "#2a3f5f",
             "gridcolor": "white",
             "linecolor": "white",
             "minorgridcolor": "white",
             "startlinecolor": "#2a3f5f"
            },
            "type": "carpet"
           }
          ],
          "choropleth": [
           {
            "colorbar": {
             "outlinewidth": 0,
             "ticks": ""
            },
            "type": "choropleth"
           }
          ],
          "contour": [
           {
            "colorbar": {
             "outlinewidth": 0,
             "ticks": ""
            },
            "colorscale": [
             [
              0,
              "#0d0887"
             ],
             [
              0.1111111111111111,
              "#46039f"
             ],
             [
              0.2222222222222222,
              "#7201a8"
             ],
             [
              0.3333333333333333,
              "#9c179e"
             ],
             [
              0.4444444444444444,
              "#bd3786"
             ],
             [
              0.5555555555555556,
              "#d8576b"
             ],
             [
              0.6666666666666666,
              "#ed7953"
             ],
             [
              0.7777777777777778,
              "#fb9f3a"
             ],
             [
              0.8888888888888888,
              "#fdca26"
             ],
             [
              1,
              "#f0f921"
             ]
            ],
            "type": "contour"
           }
          ],
          "contourcarpet": [
           {
            "colorbar": {
             "outlinewidth": 0,
             "ticks": ""
            },
            "type": "contourcarpet"
           }
          ],
          "heatmap": [
           {
            "colorbar": {
             "outlinewidth": 0,
             "ticks": ""
            },
            "colorscale": [
             [
              0,
              "#0d0887"
             ],
             [
              0.1111111111111111,
              "#46039f"
             ],
             [
              0.2222222222222222,
              "#7201a8"
             ],
             [
              0.3333333333333333,
              "#9c179e"
             ],
             [
              0.4444444444444444,
              "#bd3786"
             ],
             [
              0.5555555555555556,
              "#d8576b"
             ],
             [
              0.6666666666666666,
              "#ed7953"
             ],
             [
              0.7777777777777778,
              "#fb9f3a"
             ],
             [
              0.8888888888888888,
              "#fdca26"
             ],
             [
              1,
              "#f0f921"
             ]
            ],
            "type": "heatmap"
           }
          ],
          "heatmapgl": [
           {
            "colorbar": {
             "outlinewidth": 0,
             "ticks": ""
            },
            "colorscale": [
             [
              0,
              "#0d0887"
             ],
             [
              0.1111111111111111,
              "#46039f"
             ],
             [
              0.2222222222222222,
              "#7201a8"
             ],
             [
              0.3333333333333333,
              "#9c179e"
             ],
             [
              0.4444444444444444,
              "#bd3786"
             ],
             [
              0.5555555555555556,
              "#d8576b"
             ],
             [
              0.6666666666666666,
              "#ed7953"
             ],
             [
              0.7777777777777778,
              "#fb9f3a"
             ],
             [
              0.8888888888888888,
              "#fdca26"
             ],
             [
              1,
              "#f0f921"
             ]
            ],
            "type": "heatmapgl"
           }
          ],
          "histogram": [
           {
            "marker": {
             "pattern": {
              "fillmode": "overlay",
              "size": 10,
              "solidity": 0.2
             }
            },
            "type": "histogram"
           }
          ],
          "histogram2d": [
           {
            "colorbar": {
             "outlinewidth": 0,
             "ticks": ""
            },
            "colorscale": [
             [
              0,
              "#0d0887"
             ],
             [
              0.1111111111111111,
              "#46039f"
             ],
             [
              0.2222222222222222,
              "#7201a8"
             ],
             [
              0.3333333333333333,
              "#9c179e"
             ],
             [
              0.4444444444444444,
              "#bd3786"
             ],
             [
              0.5555555555555556,
              "#d8576b"
             ],
             [
              0.6666666666666666,
              "#ed7953"
             ],
             [
              0.7777777777777778,
              "#fb9f3a"
             ],
             [
              0.8888888888888888,
              "#fdca26"
             ],
             [
              1,
              "#f0f921"
             ]
            ],
            "type": "histogram2d"
           }
          ],
          "histogram2dcontour": [
           {
            "colorbar": {
             "outlinewidth": 0,
             "ticks": ""
            },
            "colorscale": [
             [
              0,
              "#0d0887"
             ],
             [
              0.1111111111111111,
              "#46039f"
             ],
             [
              0.2222222222222222,
              "#7201a8"
             ],
             [
              0.3333333333333333,
              "#9c179e"
             ],
             [
              0.4444444444444444,
              "#bd3786"
             ],
             [
              0.5555555555555556,
              "#d8576b"
             ],
             [
              0.6666666666666666,
              "#ed7953"
             ],
             [
              0.7777777777777778,
              "#fb9f3a"
             ],
             [
              0.8888888888888888,
              "#fdca26"
             ],
             [
              1,
              "#f0f921"
             ]
            ],
            "type": "histogram2dcontour"
           }
          ],
          "mesh3d": [
           {
            "colorbar": {
             "outlinewidth": 0,
             "ticks": ""
            },
            "type": "mesh3d"
           }
          ],
          "parcoords": [
           {
            "line": {
             "colorbar": {
              "outlinewidth": 0,
              "ticks": ""
             }
            },
            "type": "parcoords"
           }
          ],
          "pie": [
           {
            "automargin": true,
            "type": "pie"
           }
          ],
          "scatter": [
           {
            "marker": {
             "colorbar": {
              "outlinewidth": 0,
              "ticks": ""
             }
            },
            "type": "scatter"
           }
          ],
          "scatter3d": [
           {
            "line": {
             "colorbar": {
              "outlinewidth": 0,
              "ticks": ""
             }
            },
            "marker": {
             "colorbar": {
              "outlinewidth": 0,
              "ticks": ""
             }
            },
            "type": "scatter3d"
           }
          ],
          "scattercarpet": [
           {
            "marker": {
             "colorbar": {
              "outlinewidth": 0,
              "ticks": ""
             }
            },
            "type": "scattercarpet"
           }
          ],
          "scattergeo": [
           {
            "marker": {
             "colorbar": {
              "outlinewidth": 0,
              "ticks": ""
             }
            },
            "type": "scattergeo"
           }
          ],
          "scattergl": [
           {
            "marker": {
             "colorbar": {
              "outlinewidth": 0,
              "ticks": ""
             }
            },
            "type": "scattergl"
           }
          ],
          "scattermapbox": [
           {
            "marker": {
             "colorbar": {
              "outlinewidth": 0,
              "ticks": ""
             }
            },
            "type": "scattermapbox"
           }
          ],
          "scatterpolar": [
           {
            "marker": {
             "colorbar": {
              "outlinewidth": 0,
              "ticks": ""
             }
            },
            "type": "scatterpolar"
           }
          ],
          "scatterpolargl": [
           {
            "marker": {
             "colorbar": {
              "outlinewidth": 0,
              "ticks": ""
             }
            },
            "type": "scatterpolargl"
           }
          ],
          "scatterternary": [
           {
            "marker": {
             "colorbar": {
              "outlinewidth": 0,
              "ticks": ""
             }
            },
            "type": "scatterternary"
           }
          ],
          "surface": [
           {
            "colorbar": {
             "outlinewidth": 0,
             "ticks": ""
            },
            "colorscale": [
             [
              0,
              "#0d0887"
             ],
             [
              0.1111111111111111,
              "#46039f"
             ],
             [
              0.2222222222222222,
              "#7201a8"
             ],
             [
              0.3333333333333333,
              "#9c179e"
             ],
             [
              0.4444444444444444,
              "#bd3786"
             ],
             [
              0.5555555555555556,
              "#d8576b"
             ],
             [
              0.6666666666666666,
              "#ed7953"
             ],
             [
              0.7777777777777778,
              "#fb9f3a"
             ],
             [
              0.8888888888888888,
              "#fdca26"
             ],
             [
              1,
              "#f0f921"
             ]
            ],
            "type": "surface"
           }
          ],
          "table": [
           {
            "cells": {
             "fill": {
              "color": "#EBF0F8"
             },
             "line": {
              "color": "white"
             }
            },
            "header": {
             "fill": {
              "color": "#C8D4E3"
             },
             "line": {
              "color": "white"
             }
            },
            "type": "table"
           }
          ]
         },
         "layout": {
          "annotationdefaults": {
           "arrowcolor": "#2a3f5f",
           "arrowhead": 0,
           "arrowwidth": 1
          },
          "autotypenumbers": "strict",
          "coloraxis": {
           "colorbar": {
            "outlinewidth": 0,
            "ticks": ""
           }
          },
          "colorscale": {
           "diverging": [
            [
             0,
             "#8e0152"
            ],
            [
             0.1,
             "#c51b7d"
            ],
            [
             0.2,
             "#de77ae"
            ],
            [
             0.3,
             "#f1b6da"
            ],
            [
             0.4,
             "#fde0ef"
            ],
            [
             0.5,
             "#f7f7f7"
            ],
            [
             0.6,
             "#e6f5d0"
            ],
            [
             0.7,
             "#b8e186"
            ],
            [
             0.8,
             "#7fbc41"
            ],
            [
             0.9,
             "#4d9221"
            ],
            [
             1,
             "#276419"
            ]
           ],
           "sequential": [
            [
             0,
             "#0d0887"
            ],
            [
             0.1111111111111111,
             "#46039f"
            ],
            [
             0.2222222222222222,
             "#7201a8"
            ],
            [
             0.3333333333333333,
             "#9c179e"
            ],
            [
             0.4444444444444444,
             "#bd3786"
            ],
            [
             0.5555555555555556,
             "#d8576b"
            ],
            [
             0.6666666666666666,
             "#ed7953"
            ],
            [
             0.7777777777777778,
             "#fb9f3a"
            ],
            [
             0.8888888888888888,
             "#fdca26"
            ],
            [
             1,
             "#f0f921"
            ]
           ],
           "sequentialminus": [
            [
             0,
             "#0d0887"
            ],
            [
             0.1111111111111111,
             "#46039f"
            ],
            [
             0.2222222222222222,
             "#7201a8"
            ],
            [
             0.3333333333333333,
             "#9c179e"
            ],
            [
             0.4444444444444444,
             "#bd3786"
            ],
            [
             0.5555555555555556,
             "#d8576b"
            ],
            [
             0.6666666666666666,
             "#ed7953"
            ],
            [
             0.7777777777777778,
             "#fb9f3a"
            ],
            [
             0.8888888888888888,
             "#fdca26"
            ],
            [
             1,
             "#f0f921"
            ]
           ]
          },
          "colorway": [
           "#636efa",
           "#EF553B",
           "#00cc96",
           "#ab63fa",
           "#FFA15A",
           "#19d3f3",
           "#FF6692",
           "#B6E880",
           "#FF97FF",
           "#FECB52"
          ],
          "font": {
           "color": "#2a3f5f"
          },
          "geo": {
           "bgcolor": "white",
           "lakecolor": "white",
           "landcolor": "#E5ECF6",
           "showlakes": true,
           "showland": true,
           "subunitcolor": "white"
          },
          "hoverlabel": {
           "align": "left"
          },
          "hovermode": "closest",
          "mapbox": {
           "style": "light"
          },
          "paper_bgcolor": "white",
          "plot_bgcolor": "#E5ECF6",
          "polar": {
           "angularaxis": {
            "gridcolor": "white",
            "linecolor": "white",
            "ticks": ""
           },
           "bgcolor": "#E5ECF6",
           "radialaxis": {
            "gridcolor": "white",
            "linecolor": "white",
            "ticks": ""
           }
          },
          "scene": {
           "xaxis": {
            "backgroundcolor": "#E5ECF6",
            "gridcolor": "white",
            "gridwidth": 2,
            "linecolor": "white",
            "showbackground": true,
            "ticks": "",
            "zerolinecolor": "white"
           },
           "yaxis": {
            "backgroundcolor": "#E5ECF6",
            "gridcolor": "white",
            "gridwidth": 2,
            "linecolor": "white",
            "showbackground": true,
            "ticks": "",
            "zerolinecolor": "white"
           },
           "zaxis": {
            "backgroundcolor": "#E5ECF6",
            "gridcolor": "white",
            "gridwidth": 2,
            "linecolor": "white",
            "showbackground": true,
            "ticks": "",
            "zerolinecolor": "white"
           }
          },
          "shapedefaults": {
           "line": {
            "color": "#2a3f5f"
           }
          },
          "ternary": {
           "aaxis": {
            "gridcolor": "white",
            "linecolor": "white",
            "ticks": ""
           },
           "baxis": {
            "gridcolor": "white",
            "linecolor": "white",
            "ticks": ""
           },
           "bgcolor": "#E5ECF6",
           "caxis": {
            "gridcolor": "white",
            "linecolor": "white",
            "ticks": ""
           }
          },
          "title": {
           "x": 0.05
          },
          "xaxis": {
           "automargin": true,
           "gridcolor": "white",
           "linecolor": "white",
           "ticks": "",
           "title": {
            "standoff": 15
           },
           "zerolinecolor": "white",
           "zerolinewidth": 2
          },
          "yaxis": {
           "automargin": true,
           "gridcolor": "white",
           "linecolor": "white",
           "ticks": "",
           "title": {
            "standoff": 15
           },
           "zerolinecolor": "white",
           "zerolinewidth": 2
          }
         }
        }
       }
      },
      "text/html": [
       "<div>                            <div id=\"fe34bb7f-f3a7-45b6-a102-73690b7761af\" class=\"plotly-graph-div\" style=\"height:525px; width:100%;\"></div>            <script type=\"text/javascript\">                require([\"plotly\"], function(Plotly) {                    window.PLOTLYENV=window.PLOTLYENV || {};                                    if (document.getElementById(\"fe34bb7f-f3a7-45b6-a102-73690b7761af\")) {                    Plotly.newPlot(                        \"fe34bb7f-f3a7-45b6-a102-73690b7761af\",                        [{\"colorbar\":{\"title\":{\"text\":\"Civilian Labor Force by State (Year 2000)\"}},\"colorscale\":[[0.0,\"rgb(12,51,131)\"],[0.25,\"rgb(10,136,186)\"],[0.5,\"rgb(242,211,56)\"],[0.75,\"rgb(242,143,56)\"],[1.0,\"rgb(217,30,30)\"]],\"locationmode\":\"USA-states\",\"locations\":[\"AK\",\"AL\",\"AR\",\"AZ\",\"CA\",\"CO\",\"CT\",\"DE\",\"FL\",\"GA\",\"HI\",\"IA\",\"ID\",\"IL\",\"IN\",\"KS\",\"KY\",\"LA\",\"MA\",\"MD\",\"ME\",\"MI\",\"MN\",\"MO\",\"MS\",\"MT\",\"NC\",\"ND\",\"NE\",\"NH\",\"NJ\",\"NM\",\"NV\",\"NY\",\"OH\",\"OK\",\"OR\",\"PA\",\"RI\",\"SC\",\"SD\",\"TN\",\"TX\",\"UT\",\"VA\",\"VT\",\"WA\",\"WI\",\"WV\",\"WY\"],\"text\":\"(Civilian Labor Force for state)\",\"type\":\"choropleth\",\"z\":[305779.0,2147180.0,1260517.0,2502987.0,16837548.0,2335827.0,1760697.0,412956.0,7917863.0,4202699.0,605394.0,1594404.0,661075.0,6494442.0,3125312.0,1402622.0,1957418.0,1402143.0,3340576.0,2801396.0,677466.0,5156711.0,2799120.0,2971451.0,1309884.0,470076.0,4127483.0,342768.0,938857.0,685801.0,4287640.0,836244.0,1070780.0,9140552.0,5781450.0,1655522.0,1811842.0,6105746.0,542518.0,1965484.0,408499.0,2849029.0,10388372.0,1142860.0,3575499.0,334033.0,3087684.0,2985644.0,799088.0,265703.0]}],                        {\"geo\":{\"scope\":\"usa\"},\"template\":{\"data\":{\"bar\":[{\"error_x\":{\"color\":\"#2a3f5f\"},\"error_y\":{\"color\":\"#2a3f5f\"},\"marker\":{\"line\":{\"color\":\"#E5ECF6\",\"width\":0.5},\"pattern\":{\"fillmode\":\"overlay\",\"size\":10,\"solidity\":0.2}},\"type\":\"bar\"}],\"barpolar\":[{\"marker\":{\"line\":{\"color\":\"#E5ECF6\",\"width\":0.5},\"pattern\":{\"fillmode\":\"overlay\",\"size\":10,\"solidity\":0.2}},\"type\":\"barpolar\"}],\"carpet\":[{\"aaxis\":{\"endlinecolor\":\"#2a3f5f\",\"gridcolor\":\"white\",\"linecolor\":\"white\",\"minorgridcolor\":\"white\",\"startlinecolor\":\"#2a3f5f\"},\"baxis\":{\"endlinecolor\":\"#2a3f5f\",\"gridcolor\":\"white\",\"linecolor\":\"white\",\"minorgridcolor\":\"white\",\"startlinecolor\":\"#2a3f5f\"},\"type\":\"carpet\"}],\"choropleth\":[{\"colorbar\":{\"outlinewidth\":0,\"ticks\":\"\"},\"type\":\"choropleth\"}],\"contour\":[{\"colorbar\":{\"outlinewidth\":0,\"ticks\":\"\"},\"colorscale\":[[0.0,\"#0d0887\"],[0.1111111111111111,\"#46039f\"],[0.2222222222222222,\"#7201a8\"],[0.3333333333333333,\"#9c179e\"],[0.4444444444444444,\"#bd3786\"],[0.5555555555555556,\"#d8576b\"],[0.6666666666666666,\"#ed7953\"],[0.7777777777777778,\"#fb9f3a\"],[0.8888888888888888,\"#fdca26\"],[1.0,\"#f0f921\"]],\"type\":\"contour\"}],\"contourcarpet\":[{\"colorbar\":{\"outlinewidth\":0,\"ticks\":\"\"},\"type\":\"contourcarpet\"}],\"heatmap\":[{\"colorbar\":{\"outlinewidth\":0,\"ticks\":\"\"},\"colorscale\":[[0.0,\"#0d0887\"],[0.1111111111111111,\"#46039f\"],[0.2222222222222222,\"#7201a8\"],[0.3333333333333333,\"#9c179e\"],[0.4444444444444444,\"#bd3786\"],[0.5555555555555556,\"#d8576b\"],[0.6666666666666666,\"#ed7953\"],[0.7777777777777778,\"#fb9f3a\"],[0.8888888888888888,\"#fdca26\"],[1.0,\"#f0f921\"]],\"type\":\"heatmap\"}],\"heatmapgl\":[{\"colorbar\":{\"outlinewidth\":0,\"ticks\":\"\"},\"colorscale\":[[0.0,\"#0d0887\"],[0.1111111111111111,\"#46039f\"],[0.2222222222222222,\"#7201a8\"],[0.3333333333333333,\"#9c179e\"],[0.4444444444444444,\"#bd3786\"],[0.5555555555555556,\"#d8576b\"],[0.6666666666666666,\"#ed7953\"],[0.7777777777777778,\"#fb9f3a\"],[0.8888888888888888,\"#fdca26\"],[1.0,\"#f0f921\"]],\"type\":\"heatmapgl\"}],\"histogram\":[{\"marker\":{\"pattern\":{\"fillmode\":\"overlay\",\"size\":10,\"solidity\":0.2}},\"type\":\"histogram\"}],\"histogram2d\":[{\"colorbar\":{\"outlinewidth\":0,\"ticks\":\"\"},\"colorscale\":[[0.0,\"#0d0887\"],[0.1111111111111111,\"#46039f\"],[0.2222222222222222,\"#7201a8\"],[0.3333333333333333,\"#9c179e\"],[0.4444444444444444,\"#bd3786\"],[0.5555555555555556,\"#d8576b\"],[0.6666666666666666,\"#ed7953\"],[0.7777777777777778,\"#fb9f3a\"],[0.8888888888888888,\"#fdca26\"],[1.0,\"#f0f921\"]],\"type\":\"histogram2d\"}],\"histogram2dcontour\":[{\"colorbar\":{\"outlinewidth\":0,\"ticks\":\"\"},\"colorscale\":[[0.0,\"#0d0887\"],[0.1111111111111111,\"#46039f\"],[0.2222222222222222,\"#7201a8\"],[0.3333333333333333,\"#9c179e\"],[0.4444444444444444,\"#bd3786\"],[0.5555555555555556,\"#d8576b\"],[0.6666666666666666,\"#ed7953\"],[0.7777777777777778,\"#fb9f3a\"],[0.8888888888888888,\"#fdca26\"],[1.0,\"#f0f921\"]],\"type\":\"histogram2dcontour\"}],\"mesh3d\":[{\"colorbar\":{\"outlinewidth\":0,\"ticks\":\"\"},\"type\":\"mesh3d\"}],\"parcoords\":[{\"line\":{\"colorbar\":{\"outlinewidth\":0,\"ticks\":\"\"}},\"type\":\"parcoords\"}],\"pie\":[{\"automargin\":true,\"type\":\"pie\"}],\"scatter\":[{\"marker\":{\"colorbar\":{\"outlinewidth\":0,\"ticks\":\"\"}},\"type\":\"scatter\"}],\"scatter3d\":[{\"line\":{\"colorbar\":{\"outlinewidth\":0,\"ticks\":\"\"}},\"marker\":{\"colorbar\":{\"outlinewidth\":0,\"ticks\":\"\"}},\"type\":\"scatter3d\"}],\"scattercarpet\":[{\"marker\":{\"colorbar\":{\"outlinewidth\":0,\"ticks\":\"\"}},\"type\":\"scattercarpet\"}],\"scattergeo\":[{\"marker\":{\"colorbar\":{\"outlinewidth\":0,\"ticks\":\"\"}},\"type\":\"scattergeo\"}],\"scattergl\":[{\"marker\":{\"colorbar\":{\"outlinewidth\":0,\"ticks\":\"\"}},\"type\":\"scattergl\"}],\"scattermapbox\":[{\"marker\":{\"colorbar\":{\"outlinewidth\":0,\"ticks\":\"\"}},\"type\":\"scattermapbox\"}],\"scatterpolar\":[{\"marker\":{\"colorbar\":{\"outlinewidth\":0,\"ticks\":\"\"}},\"type\":\"scatterpolar\"}],\"scatterpolargl\":[{\"marker\":{\"colorbar\":{\"outlinewidth\":0,\"ticks\":\"\"}},\"type\":\"scatterpolargl\"}],\"scatterternary\":[{\"marker\":{\"colorbar\":{\"outlinewidth\":0,\"ticks\":\"\"}},\"type\":\"scatterternary\"}],\"surface\":[{\"colorbar\":{\"outlinewidth\":0,\"ticks\":\"\"},\"colorscale\":[[0.0,\"#0d0887\"],[0.1111111111111111,\"#46039f\"],[0.2222222222222222,\"#7201a8\"],[0.3333333333333333,\"#9c179e\"],[0.4444444444444444,\"#bd3786\"],[0.5555555555555556,\"#d8576b\"],[0.6666666666666666,\"#ed7953\"],[0.7777777777777778,\"#fb9f3a\"],[0.8888888888888888,\"#fdca26\"],[1.0,\"#f0f921\"]],\"type\":\"surface\"}],\"table\":[{\"cells\":{\"fill\":{\"color\":\"#EBF0F8\"},\"line\":{\"color\":\"white\"}},\"header\":{\"fill\":{\"color\":\"#C8D4E3\"},\"line\":{\"color\":\"white\"}},\"type\":\"table\"}]},\"layout\":{\"annotationdefaults\":{\"arrowcolor\":\"#2a3f5f\",\"arrowhead\":0,\"arrowwidth\":1},\"autotypenumbers\":\"strict\",\"coloraxis\":{\"colorbar\":{\"outlinewidth\":0,\"ticks\":\"\"}},\"colorscale\":{\"diverging\":[[0,\"#8e0152\"],[0.1,\"#c51b7d\"],[0.2,\"#de77ae\"],[0.3,\"#f1b6da\"],[0.4,\"#fde0ef\"],[0.5,\"#f7f7f7\"],[0.6,\"#e6f5d0\"],[0.7,\"#b8e186\"],[0.8,\"#7fbc41\"],[0.9,\"#4d9221\"],[1,\"#276419\"]],\"sequential\":[[0.0,\"#0d0887\"],[0.1111111111111111,\"#46039f\"],[0.2222222222222222,\"#7201a8\"],[0.3333333333333333,\"#9c179e\"],[0.4444444444444444,\"#bd3786\"],[0.5555555555555556,\"#d8576b\"],[0.6666666666666666,\"#ed7953\"],[0.7777777777777778,\"#fb9f3a\"],[0.8888888888888888,\"#fdca26\"],[1.0,\"#f0f921\"]],\"sequentialminus\":[[0.0,\"#0d0887\"],[0.1111111111111111,\"#46039f\"],[0.2222222222222222,\"#7201a8\"],[0.3333333333333333,\"#9c179e\"],[0.4444444444444444,\"#bd3786\"],[0.5555555555555556,\"#d8576b\"],[0.6666666666666666,\"#ed7953\"],[0.7777777777777778,\"#fb9f3a\"],[0.8888888888888888,\"#fdca26\"],[1.0,\"#f0f921\"]]},\"colorway\":[\"#636efa\",\"#EF553B\",\"#00cc96\",\"#ab63fa\",\"#FFA15A\",\"#19d3f3\",\"#FF6692\",\"#B6E880\",\"#FF97FF\",\"#FECB52\"],\"font\":{\"color\":\"#2a3f5f\"},\"geo\":{\"bgcolor\":\"white\",\"lakecolor\":\"white\",\"landcolor\":\"#E5ECF6\",\"showlakes\":true,\"showland\":true,\"subunitcolor\":\"white\"},\"hoverlabel\":{\"align\":\"left\"},\"hovermode\":\"closest\",\"mapbox\":{\"style\":\"light\"},\"paper_bgcolor\":\"white\",\"plot_bgcolor\":\"#E5ECF6\",\"polar\":{\"angularaxis\":{\"gridcolor\":\"white\",\"linecolor\":\"white\",\"ticks\":\"\"},\"bgcolor\":\"#E5ECF6\",\"radialaxis\":{\"gridcolor\":\"white\",\"linecolor\":\"white\",\"ticks\":\"\"}},\"scene\":{\"xaxis\":{\"backgroundcolor\":\"#E5ECF6\",\"gridcolor\":\"white\",\"gridwidth\":2,\"linecolor\":\"white\",\"showbackground\":true,\"ticks\":\"\",\"zerolinecolor\":\"white\"},\"yaxis\":{\"backgroundcolor\":\"#E5ECF6\",\"gridcolor\":\"white\",\"gridwidth\":2,\"linecolor\":\"white\",\"showbackground\":true,\"ticks\":\"\",\"zerolinecolor\":\"white\"},\"zaxis\":{\"backgroundcolor\":\"#E5ECF6\",\"gridcolor\":\"white\",\"gridwidth\":2,\"linecolor\":\"white\",\"showbackground\":true,\"ticks\":\"\",\"zerolinecolor\":\"white\"}},\"shapedefaults\":{\"line\":{\"color\":\"#2a3f5f\"}},\"ternary\":{\"aaxis\":{\"gridcolor\":\"white\",\"linecolor\":\"white\",\"ticks\":\"\"},\"baxis\":{\"gridcolor\":\"white\",\"linecolor\":\"white\",\"ticks\":\"\"},\"bgcolor\":\"#E5ECF6\",\"caxis\":{\"gridcolor\":\"white\",\"linecolor\":\"white\",\"ticks\":\"\"}},\"title\":{\"x\":0.05},\"xaxis\":{\"automargin\":true,\"gridcolor\":\"white\",\"linecolor\":\"white\",\"ticks\":\"\",\"title\":{\"standoff\":15},\"zerolinecolor\":\"white\",\"zerolinewidth\":2},\"yaxis\":{\"automargin\":true,\"gridcolor\":\"white\",\"linecolor\":\"white\",\"ticks\":\"\",\"title\":{\"standoff\":15},\"zerolinecolor\":\"white\",\"zerolinewidth\":2}}}},                        {\"responsive\": true}                    ).then(function(){\n",
       "                            \n",
       "var gd = document.getElementById('fe34bb7f-f3a7-45b6-a102-73690b7761af');\n",
       "var x = new MutationObserver(function (mutations, observer) {{\n",
       "        var display = window.getComputedStyle(gd).display;\n",
       "        if (!display || display === 'none') {{\n",
       "            console.log([gd, 'removed!']);\n",
       "            Plotly.purge(gd);\n",
       "            observer.disconnect();\n",
       "        }}\n",
       "}});\n",
       "\n",
       "// Listen for the removal of the full notebook cells\n",
       "var notebookContainer = gd.closest('#notebook-container');\n",
       "if (notebookContainer) {{\n",
       "    x.observe(notebookContainer, {childList: true});\n",
       "}}\n",
       "\n",
       "// Listen for the clearing of the current output cell\n",
       "var outputEl = gd.closest('.output');\n",
       "if (outputEl) {{\n",
       "    x.observe(outputEl, {childList: true});\n",
       "}}\n",
       "\n",
       "                        })                };                });            </script>        </div>"
      ]
     },
     "metadata": {},
     "output_type": "display_data"
    }
   ],
   "source": [
    "# Draw the Choropleth plot\n",
    "choromap = go.Figure(data = [data], layout = layout)\n",
    "iplot(choromap, validate=False)"
   ]
  },
  {
   "cell_type": "markdown",
   "id": "15a2c770",
   "metadata": {},
   "source": [
    "**Conclusion:** Looking at the entire U.S., California dominates the civilian labor force with almost 17 million workers. Texas (10.4 million workers) and New York (9.14 million workers) also stand out. Other areas of interest are the Midwest with Illinois (6.49 million workers), Pennsylvania (6.11 million workers) and Ohio (5.78 million workers)."
   ]
  },
  {
   "cell_type": "code",
   "execution_count": 31,
   "id": "c974253f",
   "metadata": {},
   "outputs": [],
   "source": [
    "# Display unemployment information for the U.S. using Choropleth - a graphics library showing information \n",
    "# for each U.S. State. \n",
    "# Choropleth requires 'data' (which indicates the type of plot - U.S. States is used) and 'layout' (again, U.s. States)\n",
    "data = dict(type = 'choropleth',\n",
    "            locations = df_data_by_state['State_x'],\n",
    "            locationmode = 'USA-states',\n",
    "            colorscale = 'Portland',\n",
    "            text = 'Unemployment rate by sate (2000)',\n",
    "            z = df_data_by_state['Unemployment Rate 2000'],\n",
    "            colorbar = {'title':'Unemployment Rate by State for the Year 2000'})\n",
    "\n",
    "layout = dict(geo = {'scope':'usa'})"
   ]
  },
  {
   "cell_type": "code",
   "execution_count": 32,
   "id": "c956cf1d",
   "metadata": {},
   "outputs": [
    {
     "data": {
      "application/vnd.plotly.v1+json": {
       "config": {
        "linkText": "Export to plot.ly",
        "plotlyServerURL": "https://plot.ly",
        "showLink": false
       },
       "data": [
        {
         "colorbar": {
          "title": {
           "text": "Unemployment Rate by State for the Year 2000"
          }
         },
         "colorscale": [
          [
           0,
           "rgb(12,51,131)"
          ],
          [
           0.25,
           "rgb(10,136,186)"
          ],
          [
           0.5,
           "rgb(242,211,56)"
          ],
          [
           0.75,
           "rgb(242,143,56)"
          ],
          [
           1,
           "rgb(217,30,30)"
          ]
         ],
         "locationmode": "USA-states",
         "locations": [
          "AK",
          "AL",
          "AR",
          "AZ",
          "CA",
          "CO",
          "CT",
          "DE",
          "FL",
          "GA",
          "HI",
          "IA",
          "ID",
          "IL",
          "IN",
          "KS",
          "KY",
          "LA",
          "MA",
          "MD",
          "ME",
          "MI",
          "MN",
          "MO",
          "MS",
          "MT",
          "NC",
          "ND",
          "NE",
          "NH",
          "NJ",
          "NM",
          "NV",
          "NY",
          "OH",
          "OK",
          "OR",
          "PA",
          "RI",
          "SC",
          "SD",
          "TN",
          "TX",
          "UT",
          "VA",
          "VT",
          "WA",
          "WI",
          "WV",
          "WY"
         ],
         "text": "Unemployment rate by sate (2000)",
         "type": "choropleth",
         "z": [
          6.192707805310372,
          4.631516687003418,
          4.1789995692243735,
          3.9673398223802203,
          4.90524511051134,
          2.7283698664327454,
          2.1074040564617307,
          3.5764100775869583,
          3.7532601915441077,
          3.5056995516452636,
          4.238231630970905,
          2.694674624499186,
          4.6658851113716295,
          4.440366085338818,
          3.0212343599615012,
          3.7625247572047207,
          4.147146904749011,
          5.275139554239475,
          2.8204417441782494,
          3.532560194988499,
          3.320904665326378,
          3.6422634504822935,
          3.0408485524021835,
          3.398709923199138,
          5.346962021064461,
          4.8266663262961735,
          3.7471747309437737,
          2.9611865751762125,
          2.793929213927148,
          2.653539437825258,
          3.6573966097900006,
          4.998182348692487,
          4.121107977362297,
          4.5184142051814815,
          4.101168392012385,
          2.994282165987525,
          5.20001192156932,
          4.218927547919615,
          4.000420262553501,
          3.710231169523639,
          2.5390515031860543,
          3.8694235825609358,
          4.383593502427522,
          3.3345291636770904,
          2.2768010842682376,
          2.8048126981465904,
          5.112537422870993,
          3.379672861198455,
          5.584866748092826,
          3.7545680703642788
         ]
        }
       ],
       "layout": {
        "geo": {
         "scope": "usa"
        },
        "template": {
         "data": {
          "bar": [
           {
            "error_x": {
             "color": "#2a3f5f"
            },
            "error_y": {
             "color": "#2a3f5f"
            },
            "marker": {
             "line": {
              "color": "#E5ECF6",
              "width": 0.5
             },
             "pattern": {
              "fillmode": "overlay",
              "size": 10,
              "solidity": 0.2
             }
            },
            "type": "bar"
           }
          ],
          "barpolar": [
           {
            "marker": {
             "line": {
              "color": "#E5ECF6",
              "width": 0.5
             },
             "pattern": {
              "fillmode": "overlay",
              "size": 10,
              "solidity": 0.2
             }
            },
            "type": "barpolar"
           }
          ],
          "carpet": [
           {
            "aaxis": {
             "endlinecolor": "#2a3f5f",
             "gridcolor": "white",
             "linecolor": "white",
             "minorgridcolor": "white",
             "startlinecolor": "#2a3f5f"
            },
            "baxis": {
             "endlinecolor": "#2a3f5f",
             "gridcolor": "white",
             "linecolor": "white",
             "minorgridcolor": "white",
             "startlinecolor": "#2a3f5f"
            },
            "type": "carpet"
           }
          ],
          "choropleth": [
           {
            "colorbar": {
             "outlinewidth": 0,
             "ticks": ""
            },
            "type": "choropleth"
           }
          ],
          "contour": [
           {
            "colorbar": {
             "outlinewidth": 0,
             "ticks": ""
            },
            "colorscale": [
             [
              0,
              "#0d0887"
             ],
             [
              0.1111111111111111,
              "#46039f"
             ],
             [
              0.2222222222222222,
              "#7201a8"
             ],
             [
              0.3333333333333333,
              "#9c179e"
             ],
             [
              0.4444444444444444,
              "#bd3786"
             ],
             [
              0.5555555555555556,
              "#d8576b"
             ],
             [
              0.6666666666666666,
              "#ed7953"
             ],
             [
              0.7777777777777778,
              "#fb9f3a"
             ],
             [
              0.8888888888888888,
              "#fdca26"
             ],
             [
              1,
              "#f0f921"
             ]
            ],
            "type": "contour"
           }
          ],
          "contourcarpet": [
           {
            "colorbar": {
             "outlinewidth": 0,
             "ticks": ""
            },
            "type": "contourcarpet"
           }
          ],
          "heatmap": [
           {
            "colorbar": {
             "outlinewidth": 0,
             "ticks": ""
            },
            "colorscale": [
             [
              0,
              "#0d0887"
             ],
             [
              0.1111111111111111,
              "#46039f"
             ],
             [
              0.2222222222222222,
              "#7201a8"
             ],
             [
              0.3333333333333333,
              "#9c179e"
             ],
             [
              0.4444444444444444,
              "#bd3786"
             ],
             [
              0.5555555555555556,
              "#d8576b"
             ],
             [
              0.6666666666666666,
              "#ed7953"
             ],
             [
              0.7777777777777778,
              "#fb9f3a"
             ],
             [
              0.8888888888888888,
              "#fdca26"
             ],
             [
              1,
              "#f0f921"
             ]
            ],
            "type": "heatmap"
           }
          ],
          "heatmapgl": [
           {
            "colorbar": {
             "outlinewidth": 0,
             "ticks": ""
            },
            "colorscale": [
             [
              0,
              "#0d0887"
             ],
             [
              0.1111111111111111,
              "#46039f"
             ],
             [
              0.2222222222222222,
              "#7201a8"
             ],
             [
              0.3333333333333333,
              "#9c179e"
             ],
             [
              0.4444444444444444,
              "#bd3786"
             ],
             [
              0.5555555555555556,
              "#d8576b"
             ],
             [
              0.6666666666666666,
              "#ed7953"
             ],
             [
              0.7777777777777778,
              "#fb9f3a"
             ],
             [
              0.8888888888888888,
              "#fdca26"
             ],
             [
              1,
              "#f0f921"
             ]
            ],
            "type": "heatmapgl"
           }
          ],
          "histogram": [
           {
            "marker": {
             "pattern": {
              "fillmode": "overlay",
              "size": 10,
              "solidity": 0.2
             }
            },
            "type": "histogram"
           }
          ],
          "histogram2d": [
           {
            "colorbar": {
             "outlinewidth": 0,
             "ticks": ""
            },
            "colorscale": [
             [
              0,
              "#0d0887"
             ],
             [
              0.1111111111111111,
              "#46039f"
             ],
             [
              0.2222222222222222,
              "#7201a8"
             ],
             [
              0.3333333333333333,
              "#9c179e"
             ],
             [
              0.4444444444444444,
              "#bd3786"
             ],
             [
              0.5555555555555556,
              "#d8576b"
             ],
             [
              0.6666666666666666,
              "#ed7953"
             ],
             [
              0.7777777777777778,
              "#fb9f3a"
             ],
             [
              0.8888888888888888,
              "#fdca26"
             ],
             [
              1,
              "#f0f921"
             ]
            ],
            "type": "histogram2d"
           }
          ],
          "histogram2dcontour": [
           {
            "colorbar": {
             "outlinewidth": 0,
             "ticks": ""
            },
            "colorscale": [
             [
              0,
              "#0d0887"
             ],
             [
              0.1111111111111111,
              "#46039f"
             ],
             [
              0.2222222222222222,
              "#7201a8"
             ],
             [
              0.3333333333333333,
              "#9c179e"
             ],
             [
              0.4444444444444444,
              "#bd3786"
             ],
             [
              0.5555555555555556,
              "#d8576b"
             ],
             [
              0.6666666666666666,
              "#ed7953"
             ],
             [
              0.7777777777777778,
              "#fb9f3a"
             ],
             [
              0.8888888888888888,
              "#fdca26"
             ],
             [
              1,
              "#f0f921"
             ]
            ],
            "type": "histogram2dcontour"
           }
          ],
          "mesh3d": [
           {
            "colorbar": {
             "outlinewidth": 0,
             "ticks": ""
            },
            "type": "mesh3d"
           }
          ],
          "parcoords": [
           {
            "line": {
             "colorbar": {
              "outlinewidth": 0,
              "ticks": ""
             }
            },
            "type": "parcoords"
           }
          ],
          "pie": [
           {
            "automargin": true,
            "type": "pie"
           }
          ],
          "scatter": [
           {
            "marker": {
             "colorbar": {
              "outlinewidth": 0,
              "ticks": ""
             }
            },
            "type": "scatter"
           }
          ],
          "scatter3d": [
           {
            "line": {
             "colorbar": {
              "outlinewidth": 0,
              "ticks": ""
             }
            },
            "marker": {
             "colorbar": {
              "outlinewidth": 0,
              "ticks": ""
             }
            },
            "type": "scatter3d"
           }
          ],
          "scattercarpet": [
           {
            "marker": {
             "colorbar": {
              "outlinewidth": 0,
              "ticks": ""
             }
            },
            "type": "scattercarpet"
           }
          ],
          "scattergeo": [
           {
            "marker": {
             "colorbar": {
              "outlinewidth": 0,
              "ticks": ""
             }
            },
            "type": "scattergeo"
           }
          ],
          "scattergl": [
           {
            "marker": {
             "colorbar": {
              "outlinewidth": 0,
              "ticks": ""
             }
            },
            "type": "scattergl"
           }
          ],
          "scattermapbox": [
           {
            "marker": {
             "colorbar": {
              "outlinewidth": 0,
              "ticks": ""
             }
            },
            "type": "scattermapbox"
           }
          ],
          "scatterpolar": [
           {
            "marker": {
             "colorbar": {
              "outlinewidth": 0,
              "ticks": ""
             }
            },
            "type": "scatterpolar"
           }
          ],
          "scatterpolargl": [
           {
            "marker": {
             "colorbar": {
              "outlinewidth": 0,
              "ticks": ""
             }
            },
            "type": "scatterpolargl"
           }
          ],
          "scatterternary": [
           {
            "marker": {
             "colorbar": {
              "outlinewidth": 0,
              "ticks": ""
             }
            },
            "type": "scatterternary"
           }
          ],
          "surface": [
           {
            "colorbar": {
             "outlinewidth": 0,
             "ticks": ""
            },
            "colorscale": [
             [
              0,
              "#0d0887"
             ],
             [
              0.1111111111111111,
              "#46039f"
             ],
             [
              0.2222222222222222,
              "#7201a8"
             ],
             [
              0.3333333333333333,
              "#9c179e"
             ],
             [
              0.4444444444444444,
              "#bd3786"
             ],
             [
              0.5555555555555556,
              "#d8576b"
             ],
             [
              0.6666666666666666,
              "#ed7953"
             ],
             [
              0.7777777777777778,
              "#fb9f3a"
             ],
             [
              0.8888888888888888,
              "#fdca26"
             ],
             [
              1,
              "#f0f921"
             ]
            ],
            "type": "surface"
           }
          ],
          "table": [
           {
            "cells": {
             "fill": {
              "color": "#EBF0F8"
             },
             "line": {
              "color": "white"
             }
            },
            "header": {
             "fill": {
              "color": "#C8D4E3"
             },
             "line": {
              "color": "white"
             }
            },
            "type": "table"
           }
          ]
         },
         "layout": {
          "annotationdefaults": {
           "arrowcolor": "#2a3f5f",
           "arrowhead": 0,
           "arrowwidth": 1
          },
          "autotypenumbers": "strict",
          "coloraxis": {
           "colorbar": {
            "outlinewidth": 0,
            "ticks": ""
           }
          },
          "colorscale": {
           "diverging": [
            [
             0,
             "#8e0152"
            ],
            [
             0.1,
             "#c51b7d"
            ],
            [
             0.2,
             "#de77ae"
            ],
            [
             0.3,
             "#f1b6da"
            ],
            [
             0.4,
             "#fde0ef"
            ],
            [
             0.5,
             "#f7f7f7"
            ],
            [
             0.6,
             "#e6f5d0"
            ],
            [
             0.7,
             "#b8e186"
            ],
            [
             0.8,
             "#7fbc41"
            ],
            [
             0.9,
             "#4d9221"
            ],
            [
             1,
             "#276419"
            ]
           ],
           "sequential": [
            [
             0,
             "#0d0887"
            ],
            [
             0.1111111111111111,
             "#46039f"
            ],
            [
             0.2222222222222222,
             "#7201a8"
            ],
            [
             0.3333333333333333,
             "#9c179e"
            ],
            [
             0.4444444444444444,
             "#bd3786"
            ],
            [
             0.5555555555555556,
             "#d8576b"
            ],
            [
             0.6666666666666666,
             "#ed7953"
            ],
            [
             0.7777777777777778,
             "#fb9f3a"
            ],
            [
             0.8888888888888888,
             "#fdca26"
            ],
            [
             1,
             "#f0f921"
            ]
           ],
           "sequentialminus": [
            [
             0,
             "#0d0887"
            ],
            [
             0.1111111111111111,
             "#46039f"
            ],
            [
             0.2222222222222222,
             "#7201a8"
            ],
            [
             0.3333333333333333,
             "#9c179e"
            ],
            [
             0.4444444444444444,
             "#bd3786"
            ],
            [
             0.5555555555555556,
             "#d8576b"
            ],
            [
             0.6666666666666666,
             "#ed7953"
            ],
            [
             0.7777777777777778,
             "#fb9f3a"
            ],
            [
             0.8888888888888888,
             "#fdca26"
            ],
            [
             1,
             "#f0f921"
            ]
           ]
          },
          "colorway": [
           "#636efa",
           "#EF553B",
           "#00cc96",
           "#ab63fa",
           "#FFA15A",
           "#19d3f3",
           "#FF6692",
           "#B6E880",
           "#FF97FF",
           "#FECB52"
          ],
          "font": {
           "color": "#2a3f5f"
          },
          "geo": {
           "bgcolor": "white",
           "lakecolor": "white",
           "landcolor": "#E5ECF6",
           "showlakes": true,
           "showland": true,
           "subunitcolor": "white"
          },
          "hoverlabel": {
           "align": "left"
          },
          "hovermode": "closest",
          "mapbox": {
           "style": "light"
          },
          "paper_bgcolor": "white",
          "plot_bgcolor": "#E5ECF6",
          "polar": {
           "angularaxis": {
            "gridcolor": "white",
            "linecolor": "white",
            "ticks": ""
           },
           "bgcolor": "#E5ECF6",
           "radialaxis": {
            "gridcolor": "white",
            "linecolor": "white",
            "ticks": ""
           }
          },
          "scene": {
           "xaxis": {
            "backgroundcolor": "#E5ECF6",
            "gridcolor": "white",
            "gridwidth": 2,
            "linecolor": "white",
            "showbackground": true,
            "ticks": "",
            "zerolinecolor": "white"
           },
           "yaxis": {
            "backgroundcolor": "#E5ECF6",
            "gridcolor": "white",
            "gridwidth": 2,
            "linecolor": "white",
            "showbackground": true,
            "ticks": "",
            "zerolinecolor": "white"
           },
           "zaxis": {
            "backgroundcolor": "#E5ECF6",
            "gridcolor": "white",
            "gridwidth": 2,
            "linecolor": "white",
            "showbackground": true,
            "ticks": "",
            "zerolinecolor": "white"
           }
          },
          "shapedefaults": {
           "line": {
            "color": "#2a3f5f"
           }
          },
          "ternary": {
           "aaxis": {
            "gridcolor": "white",
            "linecolor": "white",
            "ticks": ""
           },
           "baxis": {
            "gridcolor": "white",
            "linecolor": "white",
            "ticks": ""
           },
           "bgcolor": "#E5ECF6",
           "caxis": {
            "gridcolor": "white",
            "linecolor": "white",
            "ticks": ""
           }
          },
          "title": {
           "x": 0.05
          },
          "xaxis": {
           "automargin": true,
           "gridcolor": "white",
           "linecolor": "white",
           "ticks": "",
           "title": {
            "standoff": 15
           },
           "zerolinecolor": "white",
           "zerolinewidth": 2
          },
          "yaxis": {
           "automargin": true,
           "gridcolor": "white",
           "linecolor": "white",
           "ticks": "",
           "title": {
            "standoff": 15
           },
           "zerolinecolor": "white",
           "zerolinewidth": 2
          }
         }
        }
       }
      },
      "text/html": [
       "<div>                            <div id=\"30711b8f-6c0f-44ef-bcd5-97b33426214e\" class=\"plotly-graph-div\" style=\"height:525px; width:100%;\"></div>            <script type=\"text/javascript\">                require([\"plotly\"], function(Plotly) {                    window.PLOTLYENV=window.PLOTLYENV || {};                                    if (document.getElementById(\"30711b8f-6c0f-44ef-bcd5-97b33426214e\")) {                    Plotly.newPlot(                        \"30711b8f-6c0f-44ef-bcd5-97b33426214e\",                        [{\"colorbar\":{\"title\":{\"text\":\"Unemployment Rate by State for the Year 2000\"}},\"colorscale\":[[0.0,\"rgb(12,51,131)\"],[0.25,\"rgb(10,136,186)\"],[0.5,\"rgb(242,211,56)\"],[0.75,\"rgb(242,143,56)\"],[1.0,\"rgb(217,30,30)\"]],\"locationmode\":\"USA-states\",\"locations\":[\"AK\",\"AL\",\"AR\",\"AZ\",\"CA\",\"CO\",\"CT\",\"DE\",\"FL\",\"GA\",\"HI\",\"IA\",\"ID\",\"IL\",\"IN\",\"KS\",\"KY\",\"LA\",\"MA\",\"MD\",\"ME\",\"MI\",\"MN\",\"MO\",\"MS\",\"MT\",\"NC\",\"ND\",\"NE\",\"NH\",\"NJ\",\"NM\",\"NV\",\"NY\",\"OH\",\"OK\",\"OR\",\"PA\",\"RI\",\"SC\",\"SD\",\"TN\",\"TX\",\"UT\",\"VA\",\"VT\",\"WA\",\"WI\",\"WV\",\"WY\"],\"text\":\"Unemployment rate by sate (2000)\",\"type\":\"choropleth\",\"z\":[6.192707805310372,4.631516687003418,4.1789995692243735,3.9673398223802203,4.90524511051134,2.7283698664327454,2.1074040564617307,3.5764100775869583,3.7532601915441077,3.5056995516452636,4.238231630970905,2.694674624499186,4.6658851113716295,4.440366085338818,3.0212343599615012,3.7625247572047207,4.147146904749011,5.275139554239475,2.8204417441782494,3.532560194988499,3.320904665326378,3.6422634504822935,3.0408485524021835,3.398709923199138,5.346962021064461,4.8266663262961735,3.7471747309437737,2.9611865751762125,2.793929213927148,2.653539437825258,3.6573966097900006,4.998182348692487,4.121107977362297,4.5184142051814815,4.101168392012385,2.994282165987525,5.20001192156932,4.218927547919615,4.000420262553501,3.710231169523639,2.5390515031860543,3.8694235825609358,4.383593502427522,3.3345291636770904,2.2768010842682376,2.8048126981465904,5.112537422870993,3.379672861198455,5.584866748092826,3.7545680703642788]}],                        {\"geo\":{\"scope\":\"usa\"},\"template\":{\"data\":{\"bar\":[{\"error_x\":{\"color\":\"#2a3f5f\"},\"error_y\":{\"color\":\"#2a3f5f\"},\"marker\":{\"line\":{\"color\":\"#E5ECF6\",\"width\":0.5},\"pattern\":{\"fillmode\":\"overlay\",\"size\":10,\"solidity\":0.2}},\"type\":\"bar\"}],\"barpolar\":[{\"marker\":{\"line\":{\"color\":\"#E5ECF6\",\"width\":0.5},\"pattern\":{\"fillmode\":\"overlay\",\"size\":10,\"solidity\":0.2}},\"type\":\"barpolar\"}],\"carpet\":[{\"aaxis\":{\"endlinecolor\":\"#2a3f5f\",\"gridcolor\":\"white\",\"linecolor\":\"white\",\"minorgridcolor\":\"white\",\"startlinecolor\":\"#2a3f5f\"},\"baxis\":{\"endlinecolor\":\"#2a3f5f\",\"gridcolor\":\"white\",\"linecolor\":\"white\",\"minorgridcolor\":\"white\",\"startlinecolor\":\"#2a3f5f\"},\"type\":\"carpet\"}],\"choropleth\":[{\"colorbar\":{\"outlinewidth\":0,\"ticks\":\"\"},\"type\":\"choropleth\"}],\"contour\":[{\"colorbar\":{\"outlinewidth\":0,\"ticks\":\"\"},\"colorscale\":[[0.0,\"#0d0887\"],[0.1111111111111111,\"#46039f\"],[0.2222222222222222,\"#7201a8\"],[0.3333333333333333,\"#9c179e\"],[0.4444444444444444,\"#bd3786\"],[0.5555555555555556,\"#d8576b\"],[0.6666666666666666,\"#ed7953\"],[0.7777777777777778,\"#fb9f3a\"],[0.8888888888888888,\"#fdca26\"],[1.0,\"#f0f921\"]],\"type\":\"contour\"}],\"contourcarpet\":[{\"colorbar\":{\"outlinewidth\":0,\"ticks\":\"\"},\"type\":\"contourcarpet\"}],\"heatmap\":[{\"colorbar\":{\"outlinewidth\":0,\"ticks\":\"\"},\"colorscale\":[[0.0,\"#0d0887\"],[0.1111111111111111,\"#46039f\"],[0.2222222222222222,\"#7201a8\"],[0.3333333333333333,\"#9c179e\"],[0.4444444444444444,\"#bd3786\"],[0.5555555555555556,\"#d8576b\"],[0.6666666666666666,\"#ed7953\"],[0.7777777777777778,\"#fb9f3a\"],[0.8888888888888888,\"#fdca26\"],[1.0,\"#f0f921\"]],\"type\":\"heatmap\"}],\"heatmapgl\":[{\"colorbar\":{\"outlinewidth\":0,\"ticks\":\"\"},\"colorscale\":[[0.0,\"#0d0887\"],[0.1111111111111111,\"#46039f\"],[0.2222222222222222,\"#7201a8\"],[0.3333333333333333,\"#9c179e\"],[0.4444444444444444,\"#bd3786\"],[0.5555555555555556,\"#d8576b\"],[0.6666666666666666,\"#ed7953\"],[0.7777777777777778,\"#fb9f3a\"],[0.8888888888888888,\"#fdca26\"],[1.0,\"#f0f921\"]],\"type\":\"heatmapgl\"}],\"histogram\":[{\"marker\":{\"pattern\":{\"fillmode\":\"overlay\",\"size\":10,\"solidity\":0.2}},\"type\":\"histogram\"}],\"histogram2d\":[{\"colorbar\":{\"outlinewidth\":0,\"ticks\":\"\"},\"colorscale\":[[0.0,\"#0d0887\"],[0.1111111111111111,\"#46039f\"],[0.2222222222222222,\"#7201a8\"],[0.3333333333333333,\"#9c179e\"],[0.4444444444444444,\"#bd3786\"],[0.5555555555555556,\"#d8576b\"],[0.6666666666666666,\"#ed7953\"],[0.7777777777777778,\"#fb9f3a\"],[0.8888888888888888,\"#fdca26\"],[1.0,\"#f0f921\"]],\"type\":\"histogram2d\"}],\"histogram2dcontour\":[{\"colorbar\":{\"outlinewidth\":0,\"ticks\":\"\"},\"colorscale\":[[0.0,\"#0d0887\"],[0.1111111111111111,\"#46039f\"],[0.2222222222222222,\"#7201a8\"],[0.3333333333333333,\"#9c179e\"],[0.4444444444444444,\"#bd3786\"],[0.5555555555555556,\"#d8576b\"],[0.6666666666666666,\"#ed7953\"],[0.7777777777777778,\"#fb9f3a\"],[0.8888888888888888,\"#fdca26\"],[1.0,\"#f0f921\"]],\"type\":\"histogram2dcontour\"}],\"mesh3d\":[{\"colorbar\":{\"outlinewidth\":0,\"ticks\":\"\"},\"type\":\"mesh3d\"}],\"parcoords\":[{\"line\":{\"colorbar\":{\"outlinewidth\":0,\"ticks\":\"\"}},\"type\":\"parcoords\"}],\"pie\":[{\"automargin\":true,\"type\":\"pie\"}],\"scatter\":[{\"marker\":{\"colorbar\":{\"outlinewidth\":0,\"ticks\":\"\"}},\"type\":\"scatter\"}],\"scatter3d\":[{\"line\":{\"colorbar\":{\"outlinewidth\":0,\"ticks\":\"\"}},\"marker\":{\"colorbar\":{\"outlinewidth\":0,\"ticks\":\"\"}},\"type\":\"scatter3d\"}],\"scattercarpet\":[{\"marker\":{\"colorbar\":{\"outlinewidth\":0,\"ticks\":\"\"}},\"type\":\"scattercarpet\"}],\"scattergeo\":[{\"marker\":{\"colorbar\":{\"outlinewidth\":0,\"ticks\":\"\"}},\"type\":\"scattergeo\"}],\"scattergl\":[{\"marker\":{\"colorbar\":{\"outlinewidth\":0,\"ticks\":\"\"}},\"type\":\"scattergl\"}],\"scattermapbox\":[{\"marker\":{\"colorbar\":{\"outlinewidth\":0,\"ticks\":\"\"}},\"type\":\"scattermapbox\"}],\"scatterpolar\":[{\"marker\":{\"colorbar\":{\"outlinewidth\":0,\"ticks\":\"\"}},\"type\":\"scatterpolar\"}],\"scatterpolargl\":[{\"marker\":{\"colorbar\":{\"outlinewidth\":0,\"ticks\":\"\"}},\"type\":\"scatterpolargl\"}],\"scatterternary\":[{\"marker\":{\"colorbar\":{\"outlinewidth\":0,\"ticks\":\"\"}},\"type\":\"scatterternary\"}],\"surface\":[{\"colorbar\":{\"outlinewidth\":0,\"ticks\":\"\"},\"colorscale\":[[0.0,\"#0d0887\"],[0.1111111111111111,\"#46039f\"],[0.2222222222222222,\"#7201a8\"],[0.3333333333333333,\"#9c179e\"],[0.4444444444444444,\"#bd3786\"],[0.5555555555555556,\"#d8576b\"],[0.6666666666666666,\"#ed7953\"],[0.7777777777777778,\"#fb9f3a\"],[0.8888888888888888,\"#fdca26\"],[1.0,\"#f0f921\"]],\"type\":\"surface\"}],\"table\":[{\"cells\":{\"fill\":{\"color\":\"#EBF0F8\"},\"line\":{\"color\":\"white\"}},\"header\":{\"fill\":{\"color\":\"#C8D4E3\"},\"line\":{\"color\":\"white\"}},\"type\":\"table\"}]},\"layout\":{\"annotationdefaults\":{\"arrowcolor\":\"#2a3f5f\",\"arrowhead\":0,\"arrowwidth\":1},\"autotypenumbers\":\"strict\",\"coloraxis\":{\"colorbar\":{\"outlinewidth\":0,\"ticks\":\"\"}},\"colorscale\":{\"diverging\":[[0,\"#8e0152\"],[0.1,\"#c51b7d\"],[0.2,\"#de77ae\"],[0.3,\"#f1b6da\"],[0.4,\"#fde0ef\"],[0.5,\"#f7f7f7\"],[0.6,\"#e6f5d0\"],[0.7,\"#b8e186\"],[0.8,\"#7fbc41\"],[0.9,\"#4d9221\"],[1,\"#276419\"]],\"sequential\":[[0.0,\"#0d0887\"],[0.1111111111111111,\"#46039f\"],[0.2222222222222222,\"#7201a8\"],[0.3333333333333333,\"#9c179e\"],[0.4444444444444444,\"#bd3786\"],[0.5555555555555556,\"#d8576b\"],[0.6666666666666666,\"#ed7953\"],[0.7777777777777778,\"#fb9f3a\"],[0.8888888888888888,\"#fdca26\"],[1.0,\"#f0f921\"]],\"sequentialminus\":[[0.0,\"#0d0887\"],[0.1111111111111111,\"#46039f\"],[0.2222222222222222,\"#7201a8\"],[0.3333333333333333,\"#9c179e\"],[0.4444444444444444,\"#bd3786\"],[0.5555555555555556,\"#d8576b\"],[0.6666666666666666,\"#ed7953\"],[0.7777777777777778,\"#fb9f3a\"],[0.8888888888888888,\"#fdca26\"],[1.0,\"#f0f921\"]]},\"colorway\":[\"#636efa\",\"#EF553B\",\"#00cc96\",\"#ab63fa\",\"#FFA15A\",\"#19d3f3\",\"#FF6692\",\"#B6E880\",\"#FF97FF\",\"#FECB52\"],\"font\":{\"color\":\"#2a3f5f\"},\"geo\":{\"bgcolor\":\"white\",\"lakecolor\":\"white\",\"landcolor\":\"#E5ECF6\",\"showlakes\":true,\"showland\":true,\"subunitcolor\":\"white\"},\"hoverlabel\":{\"align\":\"left\"},\"hovermode\":\"closest\",\"mapbox\":{\"style\":\"light\"},\"paper_bgcolor\":\"white\",\"plot_bgcolor\":\"#E5ECF6\",\"polar\":{\"angularaxis\":{\"gridcolor\":\"white\",\"linecolor\":\"white\",\"ticks\":\"\"},\"bgcolor\":\"#E5ECF6\",\"radialaxis\":{\"gridcolor\":\"white\",\"linecolor\":\"white\",\"ticks\":\"\"}},\"scene\":{\"xaxis\":{\"backgroundcolor\":\"#E5ECF6\",\"gridcolor\":\"white\",\"gridwidth\":2,\"linecolor\":\"white\",\"showbackground\":true,\"ticks\":\"\",\"zerolinecolor\":\"white\"},\"yaxis\":{\"backgroundcolor\":\"#E5ECF6\",\"gridcolor\":\"white\",\"gridwidth\":2,\"linecolor\":\"white\",\"showbackground\":true,\"ticks\":\"\",\"zerolinecolor\":\"white\"},\"zaxis\":{\"backgroundcolor\":\"#E5ECF6\",\"gridcolor\":\"white\",\"gridwidth\":2,\"linecolor\":\"white\",\"showbackground\":true,\"ticks\":\"\",\"zerolinecolor\":\"white\"}},\"shapedefaults\":{\"line\":{\"color\":\"#2a3f5f\"}},\"ternary\":{\"aaxis\":{\"gridcolor\":\"white\",\"linecolor\":\"white\",\"ticks\":\"\"},\"baxis\":{\"gridcolor\":\"white\",\"linecolor\":\"white\",\"ticks\":\"\"},\"bgcolor\":\"#E5ECF6\",\"caxis\":{\"gridcolor\":\"white\",\"linecolor\":\"white\",\"ticks\":\"\"}},\"title\":{\"x\":0.05},\"xaxis\":{\"automargin\":true,\"gridcolor\":\"white\",\"linecolor\":\"white\",\"ticks\":\"\",\"title\":{\"standoff\":15},\"zerolinecolor\":\"white\",\"zerolinewidth\":2},\"yaxis\":{\"automargin\":true,\"gridcolor\":\"white\",\"linecolor\":\"white\",\"ticks\":\"\",\"title\":{\"standoff\":15},\"zerolinecolor\":\"white\",\"zerolinewidth\":2}}}},                        {\"responsive\": true}                    ).then(function(){\n",
       "                            \n",
       "var gd = document.getElementById('30711b8f-6c0f-44ef-bcd5-97b33426214e');\n",
       "var x = new MutationObserver(function (mutations, observer) {{\n",
       "        var display = window.getComputedStyle(gd).display;\n",
       "        if (!display || display === 'none') {{\n",
       "            console.log([gd, 'removed!']);\n",
       "            Plotly.purge(gd);\n",
       "            observer.disconnect();\n",
       "        }}\n",
       "}});\n",
       "\n",
       "// Listen for the removal of the full notebook cells\n",
       "var notebookContainer = gd.closest('#notebook-container');\n",
       "if (notebookContainer) {{\n",
       "    x.observe(notebookContainer, {childList: true});\n",
       "}}\n",
       "\n",
       "// Listen for the clearing of the current output cell\n",
       "var outputEl = gd.closest('.output');\n",
       "if (outputEl) {{\n",
       "    x.observe(outputEl, {childList: true});\n",
       "}}\n",
       "\n",
       "                        })                };                });            </script>        </div>"
      ]
     },
     "metadata": {},
     "output_type": "display_data"
    }
   ],
   "source": [
    "# Draw the Choropleth plot\n",
    "choromap = go.Figure(data = [data], layout = layout)\n",
    "iplot(choromap, validate=False)"
   ]
  },
  {
   "cell_type": "markdown",
   "id": "3d8b2ec3",
   "metadata": {},
   "source": [
    "**Conclusion:** The western states stand out as having higher unemployment than other geographic regions, notably Oregon with 5.20% unemployment. The center of the country has low comparatively low unemployment (Nebraska has only 2.79% unemployment).  Hawaii has the highest unemployment rate at 6.19%."
   ]
  },
  {
   "cell_type": "code",
   "execution_count": 33,
   "id": "275dcfd7",
   "metadata": {},
   "outputs": [],
   "source": [
    "# Display education information for the U.S. using Choropleth - a graphics library showing information \n",
    "# for each U.S. State. \n",
    "# Choropleth requires 'data' (which indicates the type of plot - U.S. States is used) and 'layout' (again, U.s. States)\n",
    "data = dict(type = 'choropleth',\n",
    "            locations = df_data_by_state['State_x'],\n",
    "            locationmode = 'USA-states',\n",
    "            colorscale = 'Portland',\n",
    "            text = '% with less than high school diploma (2000)',\n",
    "            z = df_data_by_state['% < HS Diploma, 2000'],\n",
    "            colorbar = {'title':'% with less than high school diploma (2000)'})\n",
    "\n",
    "layout = dict(geo = {'scope':'usa'})"
   ]
  },
  {
   "cell_type": "code",
   "execution_count": 34,
   "id": "b8b6515a",
   "metadata": {},
   "outputs": [
    {
     "data": {
      "application/vnd.plotly.v1+json": {
       "config": {
        "linkText": "Export to plot.ly",
        "plotlyServerURL": "https://plot.ly",
        "showLink": false
       },
       "data": [
        {
         "colorbar": {
          "title": {
           "text": "% with less than high school diploma (2000)"
          }
         },
         "colorscale": [
          [
           0,
           "rgb(12,51,131)"
          ],
          [
           0.25,
           "rgb(10,136,186)"
          ],
          [
           0.5,
           "rgb(242,211,56)"
          ],
          [
           0.75,
           "rgb(242,143,56)"
          ],
          [
           1,
           "rgb(217,30,30)"
          ]
         ],
         "locationmode": "USA-states",
         "locations": [
          "AK",
          "AL",
          "AR",
          "AZ",
          "CA",
          "CO",
          "CT",
          "DE",
          "FL",
          "GA",
          "HI",
          "IA",
          "ID",
          "IL",
          "IN",
          "KS",
          "KY",
          "LA",
          "MA",
          "MD",
          "ME",
          "MI",
          "MN",
          "MO",
          "MS",
          "MT",
          "NC",
          "ND",
          "NE",
          "NH",
          "NJ",
          "NM",
          "NV",
          "NY",
          "OH",
          "OK",
          "OR",
          "PA",
          "RI",
          "SC",
          "SD",
          "TN",
          "TX",
          "UT",
          "VA",
          "VT",
          "WA",
          "WI",
          "WV",
          "WY"
         ],
         "text": "% with less than high school diploma (2000)",
         "type": "choropleth",
         "z": [
          11.337314261908068,
          24.730934404654707,
          24.690908040665434,
          18.974858064744996,
          23.206564658268736,
          13.074797092304632,
          16.01556357179791,
          17.397184149474022,
          20.136231143950667,
          21.429936376354256,
          15.42033826480376,
          13.895359141200597,
          15.283839467685919,
          18.56664264176438,
          17.86515116567581,
          13.978251911730908,
          25.88424941533716,
          26.44367456495587,
          15.236393632518386,
          16.165659923417902,
          14.632604239831796,
          16.585766608514636,
          12.051309196689994,
          18.68260142077952,
          27.14226946311188,
          12.84611358952373,
          21.857378600089266,
          16.142540719801264,
          13.41570084277543,
          12.591703509885471,
          17.930594565130363,
          21.09540806482732,
          19.338928510368074,
          20.939337945691367,
          17.028187713006663,
          19.39171367840837,
          14.87389149168502,
          18.09888215793215,
          22.04030389894223,
          23.662428110831623,
          15.427134301235984,
          24.07747225046783,
          24.34983233774217,
          12.272475314969963,
          18.517327418428007,
          13.580622577141826,
          12.915351951021906,
          14.914706442516106,
          24.790751478824657,
          12.13857816722264
         ]
        }
       ],
       "layout": {
        "geo": {
         "scope": "usa"
        },
        "template": {
         "data": {
          "bar": [
           {
            "error_x": {
             "color": "#2a3f5f"
            },
            "error_y": {
             "color": "#2a3f5f"
            },
            "marker": {
             "line": {
              "color": "#E5ECF6",
              "width": 0.5
             },
             "pattern": {
              "fillmode": "overlay",
              "size": 10,
              "solidity": 0.2
             }
            },
            "type": "bar"
           }
          ],
          "barpolar": [
           {
            "marker": {
             "line": {
              "color": "#E5ECF6",
              "width": 0.5
             },
             "pattern": {
              "fillmode": "overlay",
              "size": 10,
              "solidity": 0.2
             }
            },
            "type": "barpolar"
           }
          ],
          "carpet": [
           {
            "aaxis": {
             "endlinecolor": "#2a3f5f",
             "gridcolor": "white",
             "linecolor": "white",
             "minorgridcolor": "white",
             "startlinecolor": "#2a3f5f"
            },
            "baxis": {
             "endlinecolor": "#2a3f5f",
             "gridcolor": "white",
             "linecolor": "white",
             "minorgridcolor": "white",
             "startlinecolor": "#2a3f5f"
            },
            "type": "carpet"
           }
          ],
          "choropleth": [
           {
            "colorbar": {
             "outlinewidth": 0,
             "ticks": ""
            },
            "type": "choropleth"
           }
          ],
          "contour": [
           {
            "colorbar": {
             "outlinewidth": 0,
             "ticks": ""
            },
            "colorscale": [
             [
              0,
              "#0d0887"
             ],
             [
              0.1111111111111111,
              "#46039f"
             ],
             [
              0.2222222222222222,
              "#7201a8"
             ],
             [
              0.3333333333333333,
              "#9c179e"
             ],
             [
              0.4444444444444444,
              "#bd3786"
             ],
             [
              0.5555555555555556,
              "#d8576b"
             ],
             [
              0.6666666666666666,
              "#ed7953"
             ],
             [
              0.7777777777777778,
              "#fb9f3a"
             ],
             [
              0.8888888888888888,
              "#fdca26"
             ],
             [
              1,
              "#f0f921"
             ]
            ],
            "type": "contour"
           }
          ],
          "contourcarpet": [
           {
            "colorbar": {
             "outlinewidth": 0,
             "ticks": ""
            },
            "type": "contourcarpet"
           }
          ],
          "heatmap": [
           {
            "colorbar": {
             "outlinewidth": 0,
             "ticks": ""
            },
            "colorscale": [
             [
              0,
              "#0d0887"
             ],
             [
              0.1111111111111111,
              "#46039f"
             ],
             [
              0.2222222222222222,
              "#7201a8"
             ],
             [
              0.3333333333333333,
              "#9c179e"
             ],
             [
              0.4444444444444444,
              "#bd3786"
             ],
             [
              0.5555555555555556,
              "#d8576b"
             ],
             [
              0.6666666666666666,
              "#ed7953"
             ],
             [
              0.7777777777777778,
              "#fb9f3a"
             ],
             [
              0.8888888888888888,
              "#fdca26"
             ],
             [
              1,
              "#f0f921"
             ]
            ],
            "type": "heatmap"
           }
          ],
          "heatmapgl": [
           {
            "colorbar": {
             "outlinewidth": 0,
             "ticks": ""
            },
            "colorscale": [
             [
              0,
              "#0d0887"
             ],
             [
              0.1111111111111111,
              "#46039f"
             ],
             [
              0.2222222222222222,
              "#7201a8"
             ],
             [
              0.3333333333333333,
              "#9c179e"
             ],
             [
              0.4444444444444444,
              "#bd3786"
             ],
             [
              0.5555555555555556,
              "#d8576b"
             ],
             [
              0.6666666666666666,
              "#ed7953"
             ],
             [
              0.7777777777777778,
              "#fb9f3a"
             ],
             [
              0.8888888888888888,
              "#fdca26"
             ],
             [
              1,
              "#f0f921"
             ]
            ],
            "type": "heatmapgl"
           }
          ],
          "histogram": [
           {
            "marker": {
             "pattern": {
              "fillmode": "overlay",
              "size": 10,
              "solidity": 0.2
             }
            },
            "type": "histogram"
           }
          ],
          "histogram2d": [
           {
            "colorbar": {
             "outlinewidth": 0,
             "ticks": ""
            },
            "colorscale": [
             [
              0,
              "#0d0887"
             ],
             [
              0.1111111111111111,
              "#46039f"
             ],
             [
              0.2222222222222222,
              "#7201a8"
             ],
             [
              0.3333333333333333,
              "#9c179e"
             ],
             [
              0.4444444444444444,
              "#bd3786"
             ],
             [
              0.5555555555555556,
              "#d8576b"
             ],
             [
              0.6666666666666666,
              "#ed7953"
             ],
             [
              0.7777777777777778,
              "#fb9f3a"
             ],
             [
              0.8888888888888888,
              "#fdca26"
             ],
             [
              1,
              "#f0f921"
             ]
            ],
            "type": "histogram2d"
           }
          ],
          "histogram2dcontour": [
           {
            "colorbar": {
             "outlinewidth": 0,
             "ticks": ""
            },
            "colorscale": [
             [
              0,
              "#0d0887"
             ],
             [
              0.1111111111111111,
              "#46039f"
             ],
             [
              0.2222222222222222,
              "#7201a8"
             ],
             [
              0.3333333333333333,
              "#9c179e"
             ],
             [
              0.4444444444444444,
              "#bd3786"
             ],
             [
              0.5555555555555556,
              "#d8576b"
             ],
             [
              0.6666666666666666,
              "#ed7953"
             ],
             [
              0.7777777777777778,
              "#fb9f3a"
             ],
             [
              0.8888888888888888,
              "#fdca26"
             ],
             [
              1,
              "#f0f921"
             ]
            ],
            "type": "histogram2dcontour"
           }
          ],
          "mesh3d": [
           {
            "colorbar": {
             "outlinewidth": 0,
             "ticks": ""
            },
            "type": "mesh3d"
           }
          ],
          "parcoords": [
           {
            "line": {
             "colorbar": {
              "outlinewidth": 0,
              "ticks": ""
             }
            },
            "type": "parcoords"
           }
          ],
          "pie": [
           {
            "automargin": true,
            "type": "pie"
           }
          ],
          "scatter": [
           {
            "marker": {
             "colorbar": {
              "outlinewidth": 0,
              "ticks": ""
             }
            },
            "type": "scatter"
           }
          ],
          "scatter3d": [
           {
            "line": {
             "colorbar": {
              "outlinewidth": 0,
              "ticks": ""
             }
            },
            "marker": {
             "colorbar": {
              "outlinewidth": 0,
              "ticks": ""
             }
            },
            "type": "scatter3d"
           }
          ],
          "scattercarpet": [
           {
            "marker": {
             "colorbar": {
              "outlinewidth": 0,
              "ticks": ""
             }
            },
            "type": "scattercarpet"
           }
          ],
          "scattergeo": [
           {
            "marker": {
             "colorbar": {
              "outlinewidth": 0,
              "ticks": ""
             }
            },
            "type": "scattergeo"
           }
          ],
          "scattergl": [
           {
            "marker": {
             "colorbar": {
              "outlinewidth": 0,
              "ticks": ""
             }
            },
            "type": "scattergl"
           }
          ],
          "scattermapbox": [
           {
            "marker": {
             "colorbar": {
              "outlinewidth": 0,
              "ticks": ""
             }
            },
            "type": "scattermapbox"
           }
          ],
          "scatterpolar": [
           {
            "marker": {
             "colorbar": {
              "outlinewidth": 0,
              "ticks": ""
             }
            },
            "type": "scatterpolar"
           }
          ],
          "scatterpolargl": [
           {
            "marker": {
             "colorbar": {
              "outlinewidth": 0,
              "ticks": ""
             }
            },
            "type": "scatterpolargl"
           }
          ],
          "scatterternary": [
           {
            "marker": {
             "colorbar": {
              "outlinewidth": 0,
              "ticks": ""
             }
            },
            "type": "scatterternary"
           }
          ],
          "surface": [
           {
            "colorbar": {
             "outlinewidth": 0,
             "ticks": ""
            },
            "colorscale": [
             [
              0,
              "#0d0887"
             ],
             [
              0.1111111111111111,
              "#46039f"
             ],
             [
              0.2222222222222222,
              "#7201a8"
             ],
             [
              0.3333333333333333,
              "#9c179e"
             ],
             [
              0.4444444444444444,
              "#bd3786"
             ],
             [
              0.5555555555555556,
              "#d8576b"
             ],
             [
              0.6666666666666666,
              "#ed7953"
             ],
             [
              0.7777777777777778,
              "#fb9f3a"
             ],
             [
              0.8888888888888888,
              "#fdca26"
             ],
             [
              1,
              "#f0f921"
             ]
            ],
            "type": "surface"
           }
          ],
          "table": [
           {
            "cells": {
             "fill": {
              "color": "#EBF0F8"
             },
             "line": {
              "color": "white"
             }
            },
            "header": {
             "fill": {
              "color": "#C8D4E3"
             },
             "line": {
              "color": "white"
             }
            },
            "type": "table"
           }
          ]
         },
         "layout": {
          "annotationdefaults": {
           "arrowcolor": "#2a3f5f",
           "arrowhead": 0,
           "arrowwidth": 1
          },
          "autotypenumbers": "strict",
          "coloraxis": {
           "colorbar": {
            "outlinewidth": 0,
            "ticks": ""
           }
          },
          "colorscale": {
           "diverging": [
            [
             0,
             "#8e0152"
            ],
            [
             0.1,
             "#c51b7d"
            ],
            [
             0.2,
             "#de77ae"
            ],
            [
             0.3,
             "#f1b6da"
            ],
            [
             0.4,
             "#fde0ef"
            ],
            [
             0.5,
             "#f7f7f7"
            ],
            [
             0.6,
             "#e6f5d0"
            ],
            [
             0.7,
             "#b8e186"
            ],
            [
             0.8,
             "#7fbc41"
            ],
            [
             0.9,
             "#4d9221"
            ],
            [
             1,
             "#276419"
            ]
           ],
           "sequential": [
            [
             0,
             "#0d0887"
            ],
            [
             0.1111111111111111,
             "#46039f"
            ],
            [
             0.2222222222222222,
             "#7201a8"
            ],
            [
             0.3333333333333333,
             "#9c179e"
            ],
            [
             0.4444444444444444,
             "#bd3786"
            ],
            [
             0.5555555555555556,
             "#d8576b"
            ],
            [
             0.6666666666666666,
             "#ed7953"
            ],
            [
             0.7777777777777778,
             "#fb9f3a"
            ],
            [
             0.8888888888888888,
             "#fdca26"
            ],
            [
             1,
             "#f0f921"
            ]
           ],
           "sequentialminus": [
            [
             0,
             "#0d0887"
            ],
            [
             0.1111111111111111,
             "#46039f"
            ],
            [
             0.2222222222222222,
             "#7201a8"
            ],
            [
             0.3333333333333333,
             "#9c179e"
            ],
            [
             0.4444444444444444,
             "#bd3786"
            ],
            [
             0.5555555555555556,
             "#d8576b"
            ],
            [
             0.6666666666666666,
             "#ed7953"
            ],
            [
             0.7777777777777778,
             "#fb9f3a"
            ],
            [
             0.8888888888888888,
             "#fdca26"
            ],
            [
             1,
             "#f0f921"
            ]
           ]
          },
          "colorway": [
           "#636efa",
           "#EF553B",
           "#00cc96",
           "#ab63fa",
           "#FFA15A",
           "#19d3f3",
           "#FF6692",
           "#B6E880",
           "#FF97FF",
           "#FECB52"
          ],
          "font": {
           "color": "#2a3f5f"
          },
          "geo": {
           "bgcolor": "white",
           "lakecolor": "white",
           "landcolor": "#E5ECF6",
           "showlakes": true,
           "showland": true,
           "subunitcolor": "white"
          },
          "hoverlabel": {
           "align": "left"
          },
          "hovermode": "closest",
          "mapbox": {
           "style": "light"
          },
          "paper_bgcolor": "white",
          "plot_bgcolor": "#E5ECF6",
          "polar": {
           "angularaxis": {
            "gridcolor": "white",
            "linecolor": "white",
            "ticks": ""
           },
           "bgcolor": "#E5ECF6",
           "radialaxis": {
            "gridcolor": "white",
            "linecolor": "white",
            "ticks": ""
           }
          },
          "scene": {
           "xaxis": {
            "backgroundcolor": "#E5ECF6",
            "gridcolor": "white",
            "gridwidth": 2,
            "linecolor": "white",
            "showbackground": true,
            "ticks": "",
            "zerolinecolor": "white"
           },
           "yaxis": {
            "backgroundcolor": "#E5ECF6",
            "gridcolor": "white",
            "gridwidth": 2,
            "linecolor": "white",
            "showbackground": true,
            "ticks": "",
            "zerolinecolor": "white"
           },
           "zaxis": {
            "backgroundcolor": "#E5ECF6",
            "gridcolor": "white",
            "gridwidth": 2,
            "linecolor": "white",
            "showbackground": true,
            "ticks": "",
            "zerolinecolor": "white"
           }
          },
          "shapedefaults": {
           "line": {
            "color": "#2a3f5f"
           }
          },
          "ternary": {
           "aaxis": {
            "gridcolor": "white",
            "linecolor": "white",
            "ticks": ""
           },
           "baxis": {
            "gridcolor": "white",
            "linecolor": "white",
            "ticks": ""
           },
           "bgcolor": "#E5ECF6",
           "caxis": {
            "gridcolor": "white",
            "linecolor": "white",
            "ticks": ""
           }
          },
          "title": {
           "x": 0.05
          },
          "xaxis": {
           "automargin": true,
           "gridcolor": "white",
           "linecolor": "white",
           "ticks": "",
           "title": {
            "standoff": 15
           },
           "zerolinecolor": "white",
           "zerolinewidth": 2
          },
          "yaxis": {
           "automargin": true,
           "gridcolor": "white",
           "linecolor": "white",
           "ticks": "",
           "title": {
            "standoff": 15
           },
           "zerolinecolor": "white",
           "zerolinewidth": 2
          }
         }
        }
       }
      },
      "text/html": [
       "<div>                            <div id=\"d7948134-e424-405f-9bd5-94df0a40eb8d\" class=\"plotly-graph-div\" style=\"height:525px; width:100%;\"></div>            <script type=\"text/javascript\">                require([\"plotly\"], function(Plotly) {                    window.PLOTLYENV=window.PLOTLYENV || {};                                    if (document.getElementById(\"d7948134-e424-405f-9bd5-94df0a40eb8d\")) {                    Plotly.newPlot(                        \"d7948134-e424-405f-9bd5-94df0a40eb8d\",                        [{\"colorbar\":{\"title\":{\"text\":\"% with less than high school diploma (2000)\"}},\"colorscale\":[[0.0,\"rgb(12,51,131)\"],[0.25,\"rgb(10,136,186)\"],[0.5,\"rgb(242,211,56)\"],[0.75,\"rgb(242,143,56)\"],[1.0,\"rgb(217,30,30)\"]],\"locationmode\":\"USA-states\",\"locations\":[\"AK\",\"AL\",\"AR\",\"AZ\",\"CA\",\"CO\",\"CT\",\"DE\",\"FL\",\"GA\",\"HI\",\"IA\",\"ID\",\"IL\",\"IN\",\"KS\",\"KY\",\"LA\",\"MA\",\"MD\",\"ME\",\"MI\",\"MN\",\"MO\",\"MS\",\"MT\",\"NC\",\"ND\",\"NE\",\"NH\",\"NJ\",\"NM\",\"NV\",\"NY\",\"OH\",\"OK\",\"OR\",\"PA\",\"RI\",\"SC\",\"SD\",\"TN\",\"TX\",\"UT\",\"VA\",\"VT\",\"WA\",\"WI\",\"WV\",\"WY\"],\"text\":\"% with less than high school diploma (2000)\",\"type\":\"choropleth\",\"z\":[11.337314261908068,24.730934404654707,24.690908040665434,18.974858064744996,23.206564658268736,13.074797092304632,16.01556357179791,17.397184149474022,20.136231143950667,21.429936376354256,15.42033826480376,13.895359141200597,15.283839467685919,18.56664264176438,17.86515116567581,13.978251911730908,25.88424941533716,26.44367456495587,15.236393632518386,16.165659923417902,14.632604239831796,16.585766608514636,12.051309196689994,18.68260142077952,27.14226946311188,12.84611358952373,21.857378600089266,16.142540719801264,13.41570084277543,12.591703509885471,17.930594565130363,21.09540806482732,19.338928510368074,20.939337945691367,17.028187713006663,19.39171367840837,14.87389149168502,18.09888215793215,22.04030389894223,23.662428110831623,15.427134301235984,24.07747225046783,24.34983233774217,12.272475314969963,18.517327418428007,13.580622577141826,12.915351951021906,14.914706442516106,24.790751478824657,12.13857816722264]}],                        {\"geo\":{\"scope\":\"usa\"},\"template\":{\"data\":{\"bar\":[{\"error_x\":{\"color\":\"#2a3f5f\"},\"error_y\":{\"color\":\"#2a3f5f\"},\"marker\":{\"line\":{\"color\":\"#E5ECF6\",\"width\":0.5},\"pattern\":{\"fillmode\":\"overlay\",\"size\":10,\"solidity\":0.2}},\"type\":\"bar\"}],\"barpolar\":[{\"marker\":{\"line\":{\"color\":\"#E5ECF6\",\"width\":0.5},\"pattern\":{\"fillmode\":\"overlay\",\"size\":10,\"solidity\":0.2}},\"type\":\"barpolar\"}],\"carpet\":[{\"aaxis\":{\"endlinecolor\":\"#2a3f5f\",\"gridcolor\":\"white\",\"linecolor\":\"white\",\"minorgridcolor\":\"white\",\"startlinecolor\":\"#2a3f5f\"},\"baxis\":{\"endlinecolor\":\"#2a3f5f\",\"gridcolor\":\"white\",\"linecolor\":\"white\",\"minorgridcolor\":\"white\",\"startlinecolor\":\"#2a3f5f\"},\"type\":\"carpet\"}],\"choropleth\":[{\"colorbar\":{\"outlinewidth\":0,\"ticks\":\"\"},\"type\":\"choropleth\"}],\"contour\":[{\"colorbar\":{\"outlinewidth\":0,\"ticks\":\"\"},\"colorscale\":[[0.0,\"#0d0887\"],[0.1111111111111111,\"#46039f\"],[0.2222222222222222,\"#7201a8\"],[0.3333333333333333,\"#9c179e\"],[0.4444444444444444,\"#bd3786\"],[0.5555555555555556,\"#d8576b\"],[0.6666666666666666,\"#ed7953\"],[0.7777777777777778,\"#fb9f3a\"],[0.8888888888888888,\"#fdca26\"],[1.0,\"#f0f921\"]],\"type\":\"contour\"}],\"contourcarpet\":[{\"colorbar\":{\"outlinewidth\":0,\"ticks\":\"\"},\"type\":\"contourcarpet\"}],\"heatmap\":[{\"colorbar\":{\"outlinewidth\":0,\"ticks\":\"\"},\"colorscale\":[[0.0,\"#0d0887\"],[0.1111111111111111,\"#46039f\"],[0.2222222222222222,\"#7201a8\"],[0.3333333333333333,\"#9c179e\"],[0.4444444444444444,\"#bd3786\"],[0.5555555555555556,\"#d8576b\"],[0.6666666666666666,\"#ed7953\"],[0.7777777777777778,\"#fb9f3a\"],[0.8888888888888888,\"#fdca26\"],[1.0,\"#f0f921\"]],\"type\":\"heatmap\"}],\"heatmapgl\":[{\"colorbar\":{\"outlinewidth\":0,\"ticks\":\"\"},\"colorscale\":[[0.0,\"#0d0887\"],[0.1111111111111111,\"#46039f\"],[0.2222222222222222,\"#7201a8\"],[0.3333333333333333,\"#9c179e\"],[0.4444444444444444,\"#bd3786\"],[0.5555555555555556,\"#d8576b\"],[0.6666666666666666,\"#ed7953\"],[0.7777777777777778,\"#fb9f3a\"],[0.8888888888888888,\"#fdca26\"],[1.0,\"#f0f921\"]],\"type\":\"heatmapgl\"}],\"histogram\":[{\"marker\":{\"pattern\":{\"fillmode\":\"overlay\",\"size\":10,\"solidity\":0.2}},\"type\":\"histogram\"}],\"histogram2d\":[{\"colorbar\":{\"outlinewidth\":0,\"ticks\":\"\"},\"colorscale\":[[0.0,\"#0d0887\"],[0.1111111111111111,\"#46039f\"],[0.2222222222222222,\"#7201a8\"],[0.3333333333333333,\"#9c179e\"],[0.4444444444444444,\"#bd3786\"],[0.5555555555555556,\"#d8576b\"],[0.6666666666666666,\"#ed7953\"],[0.7777777777777778,\"#fb9f3a\"],[0.8888888888888888,\"#fdca26\"],[1.0,\"#f0f921\"]],\"type\":\"histogram2d\"}],\"histogram2dcontour\":[{\"colorbar\":{\"outlinewidth\":0,\"ticks\":\"\"},\"colorscale\":[[0.0,\"#0d0887\"],[0.1111111111111111,\"#46039f\"],[0.2222222222222222,\"#7201a8\"],[0.3333333333333333,\"#9c179e\"],[0.4444444444444444,\"#bd3786\"],[0.5555555555555556,\"#d8576b\"],[0.6666666666666666,\"#ed7953\"],[0.7777777777777778,\"#fb9f3a\"],[0.8888888888888888,\"#fdca26\"],[1.0,\"#f0f921\"]],\"type\":\"histogram2dcontour\"}],\"mesh3d\":[{\"colorbar\":{\"outlinewidth\":0,\"ticks\":\"\"},\"type\":\"mesh3d\"}],\"parcoords\":[{\"line\":{\"colorbar\":{\"outlinewidth\":0,\"ticks\":\"\"}},\"type\":\"parcoords\"}],\"pie\":[{\"automargin\":true,\"type\":\"pie\"}],\"scatter\":[{\"marker\":{\"colorbar\":{\"outlinewidth\":0,\"ticks\":\"\"}},\"type\":\"scatter\"}],\"scatter3d\":[{\"line\":{\"colorbar\":{\"outlinewidth\":0,\"ticks\":\"\"}},\"marker\":{\"colorbar\":{\"outlinewidth\":0,\"ticks\":\"\"}},\"type\":\"scatter3d\"}],\"scattercarpet\":[{\"marker\":{\"colorbar\":{\"outlinewidth\":0,\"ticks\":\"\"}},\"type\":\"scattercarpet\"}],\"scattergeo\":[{\"marker\":{\"colorbar\":{\"outlinewidth\":0,\"ticks\":\"\"}},\"type\":\"scattergeo\"}],\"scattergl\":[{\"marker\":{\"colorbar\":{\"outlinewidth\":0,\"ticks\":\"\"}},\"type\":\"scattergl\"}],\"scattermapbox\":[{\"marker\":{\"colorbar\":{\"outlinewidth\":0,\"ticks\":\"\"}},\"type\":\"scattermapbox\"}],\"scatterpolar\":[{\"marker\":{\"colorbar\":{\"outlinewidth\":0,\"ticks\":\"\"}},\"type\":\"scatterpolar\"}],\"scatterpolargl\":[{\"marker\":{\"colorbar\":{\"outlinewidth\":0,\"ticks\":\"\"}},\"type\":\"scatterpolargl\"}],\"scatterternary\":[{\"marker\":{\"colorbar\":{\"outlinewidth\":0,\"ticks\":\"\"}},\"type\":\"scatterternary\"}],\"surface\":[{\"colorbar\":{\"outlinewidth\":0,\"ticks\":\"\"},\"colorscale\":[[0.0,\"#0d0887\"],[0.1111111111111111,\"#46039f\"],[0.2222222222222222,\"#7201a8\"],[0.3333333333333333,\"#9c179e\"],[0.4444444444444444,\"#bd3786\"],[0.5555555555555556,\"#d8576b\"],[0.6666666666666666,\"#ed7953\"],[0.7777777777777778,\"#fb9f3a\"],[0.8888888888888888,\"#fdca26\"],[1.0,\"#f0f921\"]],\"type\":\"surface\"}],\"table\":[{\"cells\":{\"fill\":{\"color\":\"#EBF0F8\"},\"line\":{\"color\":\"white\"}},\"header\":{\"fill\":{\"color\":\"#C8D4E3\"},\"line\":{\"color\":\"white\"}},\"type\":\"table\"}]},\"layout\":{\"annotationdefaults\":{\"arrowcolor\":\"#2a3f5f\",\"arrowhead\":0,\"arrowwidth\":1},\"autotypenumbers\":\"strict\",\"coloraxis\":{\"colorbar\":{\"outlinewidth\":0,\"ticks\":\"\"}},\"colorscale\":{\"diverging\":[[0,\"#8e0152\"],[0.1,\"#c51b7d\"],[0.2,\"#de77ae\"],[0.3,\"#f1b6da\"],[0.4,\"#fde0ef\"],[0.5,\"#f7f7f7\"],[0.6,\"#e6f5d0\"],[0.7,\"#b8e186\"],[0.8,\"#7fbc41\"],[0.9,\"#4d9221\"],[1,\"#276419\"]],\"sequential\":[[0.0,\"#0d0887\"],[0.1111111111111111,\"#46039f\"],[0.2222222222222222,\"#7201a8\"],[0.3333333333333333,\"#9c179e\"],[0.4444444444444444,\"#bd3786\"],[0.5555555555555556,\"#d8576b\"],[0.6666666666666666,\"#ed7953\"],[0.7777777777777778,\"#fb9f3a\"],[0.8888888888888888,\"#fdca26\"],[1.0,\"#f0f921\"]],\"sequentialminus\":[[0.0,\"#0d0887\"],[0.1111111111111111,\"#46039f\"],[0.2222222222222222,\"#7201a8\"],[0.3333333333333333,\"#9c179e\"],[0.4444444444444444,\"#bd3786\"],[0.5555555555555556,\"#d8576b\"],[0.6666666666666666,\"#ed7953\"],[0.7777777777777778,\"#fb9f3a\"],[0.8888888888888888,\"#fdca26\"],[1.0,\"#f0f921\"]]},\"colorway\":[\"#636efa\",\"#EF553B\",\"#00cc96\",\"#ab63fa\",\"#FFA15A\",\"#19d3f3\",\"#FF6692\",\"#B6E880\",\"#FF97FF\",\"#FECB52\"],\"font\":{\"color\":\"#2a3f5f\"},\"geo\":{\"bgcolor\":\"white\",\"lakecolor\":\"white\",\"landcolor\":\"#E5ECF6\",\"showlakes\":true,\"showland\":true,\"subunitcolor\":\"white\"},\"hoverlabel\":{\"align\":\"left\"},\"hovermode\":\"closest\",\"mapbox\":{\"style\":\"light\"},\"paper_bgcolor\":\"white\",\"plot_bgcolor\":\"#E5ECF6\",\"polar\":{\"angularaxis\":{\"gridcolor\":\"white\",\"linecolor\":\"white\",\"ticks\":\"\"},\"bgcolor\":\"#E5ECF6\",\"radialaxis\":{\"gridcolor\":\"white\",\"linecolor\":\"white\",\"ticks\":\"\"}},\"scene\":{\"xaxis\":{\"backgroundcolor\":\"#E5ECF6\",\"gridcolor\":\"white\",\"gridwidth\":2,\"linecolor\":\"white\",\"showbackground\":true,\"ticks\":\"\",\"zerolinecolor\":\"white\"},\"yaxis\":{\"backgroundcolor\":\"#E5ECF6\",\"gridcolor\":\"white\",\"gridwidth\":2,\"linecolor\":\"white\",\"showbackground\":true,\"ticks\":\"\",\"zerolinecolor\":\"white\"},\"zaxis\":{\"backgroundcolor\":\"#E5ECF6\",\"gridcolor\":\"white\",\"gridwidth\":2,\"linecolor\":\"white\",\"showbackground\":true,\"ticks\":\"\",\"zerolinecolor\":\"white\"}},\"shapedefaults\":{\"line\":{\"color\":\"#2a3f5f\"}},\"ternary\":{\"aaxis\":{\"gridcolor\":\"white\",\"linecolor\":\"white\",\"ticks\":\"\"},\"baxis\":{\"gridcolor\":\"white\",\"linecolor\":\"white\",\"ticks\":\"\"},\"bgcolor\":\"#E5ECF6\",\"caxis\":{\"gridcolor\":\"white\",\"linecolor\":\"white\",\"ticks\":\"\"}},\"title\":{\"x\":0.05},\"xaxis\":{\"automargin\":true,\"gridcolor\":\"white\",\"linecolor\":\"white\",\"ticks\":\"\",\"title\":{\"standoff\":15},\"zerolinecolor\":\"white\",\"zerolinewidth\":2},\"yaxis\":{\"automargin\":true,\"gridcolor\":\"white\",\"linecolor\":\"white\",\"ticks\":\"\",\"title\":{\"standoff\":15},\"zerolinecolor\":\"white\",\"zerolinewidth\":2}}}},                        {\"responsive\": true}                    ).then(function(){\n",
       "                            \n",
       "var gd = document.getElementById('d7948134-e424-405f-9bd5-94df0a40eb8d');\n",
       "var x = new MutationObserver(function (mutations, observer) {{\n",
       "        var display = window.getComputedStyle(gd).display;\n",
       "        if (!display || display === 'none') {{\n",
       "            console.log([gd, 'removed!']);\n",
       "            Plotly.purge(gd);\n",
       "            observer.disconnect();\n",
       "        }}\n",
       "}});\n",
       "\n",
       "// Listen for the removal of the full notebook cells\n",
       "var notebookContainer = gd.closest('#notebook-container');\n",
       "if (notebookContainer) {{\n",
       "    x.observe(notebookContainer, {childList: true});\n",
       "}}\n",
       "\n",
       "// Listen for the clearing of the current output cell\n",
       "var outputEl = gd.closest('.output');\n",
       "if (outputEl) {{\n",
       "    x.observe(outputEl, {childList: true});\n",
       "}}\n",
       "\n",
       "                        })                };                });            </script>        </div>"
      ]
     },
     "metadata": {},
     "output_type": "display_data"
    }
   ],
   "source": [
    "# Draw the Choropleth plot\n",
    "choromap = go.Figure(data = [data], layout = layout)\n",
    "iplot(choromap, validate=False)"
   ]
  },
  {
   "cell_type": "markdown",
   "id": "2a43b443",
   "metadata": {},
   "source": [
    "**Conclusion:** The southeast region has the highest concentration of counties with a population with less than a high school diploma. Kentucky, Mississippi, and Louisiana all have a population with 25% or more who do not have a high school diploma. California follows closely at 23%."
   ]
  },
  {
   "cell_type": "code",
   "execution_count": 35,
   "id": "cad2a150",
   "metadata": {},
   "outputs": [],
   "source": [
    "# Display education information for the U.S. using Choropleth - a graphics library showing information \n",
    "# for each U.S. State. \n",
    "# Choropleth requires 'data' (which indicates the type of plot - U.S. States is used) and 'layout' (again, U.s. States)\n",
    "data = dict(type = 'choropleth',\n",
    "            locations = df_data_by_state['State_x'],\n",
    "            locationmode = 'USA-states',\n",
    "            colorscale = 'Portland',\n",
    "            text = \"% with bachelor's degree or higher (2000)\",\n",
    "            z = df_data_by_state[\"% >= Bachelors, 2000\"],\n",
    "            colorbar = {'title':\"% with bachelor's degree or higher (2000)\"})\n",
    "\n",
    "layout = dict(geo = {'scope':'usa'})"
   ]
  },
  {
   "cell_type": "code",
   "execution_count": 36,
   "id": "1630e8c0",
   "metadata": {},
   "outputs": [
    {
     "data": {
      "application/vnd.plotly.v1+json": {
       "config": {
        "linkText": "Export to plot.ly",
        "plotlyServerURL": "https://plot.ly",
        "showLink": false
       },
       "data": [
        {
         "colorbar": {
          "title": {
           "text": "% with bachelor's degree or higher (2000)"
          }
         },
         "colorscale": [
          [
           0,
           "rgb(12,51,131)"
          ],
          [
           0.25,
           "rgb(10,136,186)"
          ],
          [
           0.5,
           "rgb(242,211,56)"
          ],
          [
           0.75,
           "rgb(242,143,56)"
          ],
          [
           1,
           "rgb(217,30,30)"
          ]
         ],
         "locationmode": "USA-states",
         "locations": [
          "AK",
          "AL",
          "AR",
          "AZ",
          "CA",
          "CO",
          "CT",
          "DE",
          "FL",
          "GA",
          "HI",
          "IA",
          "ID",
          "IL",
          "IN",
          "KS",
          "KY",
          "LA",
          "MA",
          "MD",
          "ME",
          "MI",
          "MN",
          "MO",
          "MS",
          "MT",
          "NC",
          "ND",
          "NE",
          "NH",
          "NJ",
          "NM",
          "NV",
          "NY",
          "OH",
          "OK",
          "OR",
          "PA",
          "RI",
          "SC",
          "SD",
          "TN",
          "TX",
          "UT",
          "VA",
          "VT",
          "WA",
          "WI",
          "WV",
          "WY"
         ],
         "text": "% with bachelor's degree or higher (2000)",
         "type": "choropleth",
         "z": [
          25.27093459241772,
          19.034702500519497,
          16.660582255083177,
          23.59686531690005,
          26.620933475437695,
          32.692665070488275,
          31.40741682954953,
          25.049061706997655,
          22.334759985468917,
          24.29977834404976,
          26.177009459947904,
          21.208889282730333,
          21.665259268195122,
          26.061383771665525,
          19.408143985608014,
          25.80391451481213,
          17.13533532572777,
          16.987815822760965,
          33.18988363725714,
          31.449867619103472,
          22.871778483100798,
          21.762341642480816,
          27.433228677656828,
          21.581741040896244,
          16.904018567103478,
          24.370249275085616,
          22.462887521734835,
          21.98881505684252,
          23.742666069436307,
          28.65385012142182,
          29.779442500520076,
          23.609413967314797,
          18.15595767286227,
          27.372550495370312,
          21.095343333684127,
          20.278525562904047,
          25.08069753949137,
          22.351409653963014,
          25.60090875977039,
          20.41806464535961,
          21.505231269987497,
          19.564808722624306,
          23.237572232056042,
          26.126144927923384,
          29.50666756924339,
          29.445380396464326,
          27.73149729053402,
          22.41945776002495,
          14.831616245710658,
          21.910074985031507
         ]
        }
       ],
       "layout": {
        "geo": {
         "scope": "usa"
        },
        "template": {
         "data": {
          "bar": [
           {
            "error_x": {
             "color": "#2a3f5f"
            },
            "error_y": {
             "color": "#2a3f5f"
            },
            "marker": {
             "line": {
              "color": "#E5ECF6",
              "width": 0.5
             },
             "pattern": {
              "fillmode": "overlay",
              "size": 10,
              "solidity": 0.2
             }
            },
            "type": "bar"
           }
          ],
          "barpolar": [
           {
            "marker": {
             "line": {
              "color": "#E5ECF6",
              "width": 0.5
             },
             "pattern": {
              "fillmode": "overlay",
              "size": 10,
              "solidity": 0.2
             }
            },
            "type": "barpolar"
           }
          ],
          "carpet": [
           {
            "aaxis": {
             "endlinecolor": "#2a3f5f",
             "gridcolor": "white",
             "linecolor": "white",
             "minorgridcolor": "white",
             "startlinecolor": "#2a3f5f"
            },
            "baxis": {
             "endlinecolor": "#2a3f5f",
             "gridcolor": "white",
             "linecolor": "white",
             "minorgridcolor": "white",
             "startlinecolor": "#2a3f5f"
            },
            "type": "carpet"
           }
          ],
          "choropleth": [
           {
            "colorbar": {
             "outlinewidth": 0,
             "ticks": ""
            },
            "type": "choropleth"
           }
          ],
          "contour": [
           {
            "colorbar": {
             "outlinewidth": 0,
             "ticks": ""
            },
            "colorscale": [
             [
              0,
              "#0d0887"
             ],
             [
              0.1111111111111111,
              "#46039f"
             ],
             [
              0.2222222222222222,
              "#7201a8"
             ],
             [
              0.3333333333333333,
              "#9c179e"
             ],
             [
              0.4444444444444444,
              "#bd3786"
             ],
             [
              0.5555555555555556,
              "#d8576b"
             ],
             [
              0.6666666666666666,
              "#ed7953"
             ],
             [
              0.7777777777777778,
              "#fb9f3a"
             ],
             [
              0.8888888888888888,
              "#fdca26"
             ],
             [
              1,
              "#f0f921"
             ]
            ],
            "type": "contour"
           }
          ],
          "contourcarpet": [
           {
            "colorbar": {
             "outlinewidth": 0,
             "ticks": ""
            },
            "type": "contourcarpet"
           }
          ],
          "heatmap": [
           {
            "colorbar": {
             "outlinewidth": 0,
             "ticks": ""
            },
            "colorscale": [
             [
              0,
              "#0d0887"
             ],
             [
              0.1111111111111111,
              "#46039f"
             ],
             [
              0.2222222222222222,
              "#7201a8"
             ],
             [
              0.3333333333333333,
              "#9c179e"
             ],
             [
              0.4444444444444444,
              "#bd3786"
             ],
             [
              0.5555555555555556,
              "#d8576b"
             ],
             [
              0.6666666666666666,
              "#ed7953"
             ],
             [
              0.7777777777777778,
              "#fb9f3a"
             ],
             [
              0.8888888888888888,
              "#fdca26"
             ],
             [
              1,
              "#f0f921"
             ]
            ],
            "type": "heatmap"
           }
          ],
          "heatmapgl": [
           {
            "colorbar": {
             "outlinewidth": 0,
             "ticks": ""
            },
            "colorscale": [
             [
              0,
              "#0d0887"
             ],
             [
              0.1111111111111111,
              "#46039f"
             ],
             [
              0.2222222222222222,
              "#7201a8"
             ],
             [
              0.3333333333333333,
              "#9c179e"
             ],
             [
              0.4444444444444444,
              "#bd3786"
             ],
             [
              0.5555555555555556,
              "#d8576b"
             ],
             [
              0.6666666666666666,
              "#ed7953"
             ],
             [
              0.7777777777777778,
              "#fb9f3a"
             ],
             [
              0.8888888888888888,
              "#fdca26"
             ],
             [
              1,
              "#f0f921"
             ]
            ],
            "type": "heatmapgl"
           }
          ],
          "histogram": [
           {
            "marker": {
             "pattern": {
              "fillmode": "overlay",
              "size": 10,
              "solidity": 0.2
             }
            },
            "type": "histogram"
           }
          ],
          "histogram2d": [
           {
            "colorbar": {
             "outlinewidth": 0,
             "ticks": ""
            },
            "colorscale": [
             [
              0,
              "#0d0887"
             ],
             [
              0.1111111111111111,
              "#46039f"
             ],
             [
              0.2222222222222222,
              "#7201a8"
             ],
             [
              0.3333333333333333,
              "#9c179e"
             ],
             [
              0.4444444444444444,
              "#bd3786"
             ],
             [
              0.5555555555555556,
              "#d8576b"
             ],
             [
              0.6666666666666666,
              "#ed7953"
             ],
             [
              0.7777777777777778,
              "#fb9f3a"
             ],
             [
              0.8888888888888888,
              "#fdca26"
             ],
             [
              1,
              "#f0f921"
             ]
            ],
            "type": "histogram2d"
           }
          ],
          "histogram2dcontour": [
           {
            "colorbar": {
             "outlinewidth": 0,
             "ticks": ""
            },
            "colorscale": [
             [
              0,
              "#0d0887"
             ],
             [
              0.1111111111111111,
              "#46039f"
             ],
             [
              0.2222222222222222,
              "#7201a8"
             ],
             [
              0.3333333333333333,
              "#9c179e"
             ],
             [
              0.4444444444444444,
              "#bd3786"
             ],
             [
              0.5555555555555556,
              "#d8576b"
             ],
             [
              0.6666666666666666,
              "#ed7953"
             ],
             [
              0.7777777777777778,
              "#fb9f3a"
             ],
             [
              0.8888888888888888,
              "#fdca26"
             ],
             [
              1,
              "#f0f921"
             ]
            ],
            "type": "histogram2dcontour"
           }
          ],
          "mesh3d": [
           {
            "colorbar": {
             "outlinewidth": 0,
             "ticks": ""
            },
            "type": "mesh3d"
           }
          ],
          "parcoords": [
           {
            "line": {
             "colorbar": {
              "outlinewidth": 0,
              "ticks": ""
             }
            },
            "type": "parcoords"
           }
          ],
          "pie": [
           {
            "automargin": true,
            "type": "pie"
           }
          ],
          "scatter": [
           {
            "marker": {
             "colorbar": {
              "outlinewidth": 0,
              "ticks": ""
             }
            },
            "type": "scatter"
           }
          ],
          "scatter3d": [
           {
            "line": {
             "colorbar": {
              "outlinewidth": 0,
              "ticks": ""
             }
            },
            "marker": {
             "colorbar": {
              "outlinewidth": 0,
              "ticks": ""
             }
            },
            "type": "scatter3d"
           }
          ],
          "scattercarpet": [
           {
            "marker": {
             "colorbar": {
              "outlinewidth": 0,
              "ticks": ""
             }
            },
            "type": "scattercarpet"
           }
          ],
          "scattergeo": [
           {
            "marker": {
             "colorbar": {
              "outlinewidth": 0,
              "ticks": ""
             }
            },
            "type": "scattergeo"
           }
          ],
          "scattergl": [
           {
            "marker": {
             "colorbar": {
              "outlinewidth": 0,
              "ticks": ""
             }
            },
            "type": "scattergl"
           }
          ],
          "scattermapbox": [
           {
            "marker": {
             "colorbar": {
              "outlinewidth": 0,
              "ticks": ""
             }
            },
            "type": "scattermapbox"
           }
          ],
          "scatterpolar": [
           {
            "marker": {
             "colorbar": {
              "outlinewidth": 0,
              "ticks": ""
             }
            },
            "type": "scatterpolar"
           }
          ],
          "scatterpolargl": [
           {
            "marker": {
             "colorbar": {
              "outlinewidth": 0,
              "ticks": ""
             }
            },
            "type": "scatterpolargl"
           }
          ],
          "scatterternary": [
           {
            "marker": {
             "colorbar": {
              "outlinewidth": 0,
              "ticks": ""
             }
            },
            "type": "scatterternary"
           }
          ],
          "surface": [
           {
            "colorbar": {
             "outlinewidth": 0,
             "ticks": ""
            },
            "colorscale": [
             [
              0,
              "#0d0887"
             ],
             [
              0.1111111111111111,
              "#46039f"
             ],
             [
              0.2222222222222222,
              "#7201a8"
             ],
             [
              0.3333333333333333,
              "#9c179e"
             ],
             [
              0.4444444444444444,
              "#bd3786"
             ],
             [
              0.5555555555555556,
              "#d8576b"
             ],
             [
              0.6666666666666666,
              "#ed7953"
             ],
             [
              0.7777777777777778,
              "#fb9f3a"
             ],
             [
              0.8888888888888888,
              "#fdca26"
             ],
             [
              1,
              "#f0f921"
             ]
            ],
            "type": "surface"
           }
          ],
          "table": [
           {
            "cells": {
             "fill": {
              "color": "#EBF0F8"
             },
             "line": {
              "color": "white"
             }
            },
            "header": {
             "fill": {
              "color": "#C8D4E3"
             },
             "line": {
              "color": "white"
             }
            },
            "type": "table"
           }
          ]
         },
         "layout": {
          "annotationdefaults": {
           "arrowcolor": "#2a3f5f",
           "arrowhead": 0,
           "arrowwidth": 1
          },
          "autotypenumbers": "strict",
          "coloraxis": {
           "colorbar": {
            "outlinewidth": 0,
            "ticks": ""
           }
          },
          "colorscale": {
           "diverging": [
            [
             0,
             "#8e0152"
            ],
            [
             0.1,
             "#c51b7d"
            ],
            [
             0.2,
             "#de77ae"
            ],
            [
             0.3,
             "#f1b6da"
            ],
            [
             0.4,
             "#fde0ef"
            ],
            [
             0.5,
             "#f7f7f7"
            ],
            [
             0.6,
             "#e6f5d0"
            ],
            [
             0.7,
             "#b8e186"
            ],
            [
             0.8,
             "#7fbc41"
            ],
            [
             0.9,
             "#4d9221"
            ],
            [
             1,
             "#276419"
            ]
           ],
           "sequential": [
            [
             0,
             "#0d0887"
            ],
            [
             0.1111111111111111,
             "#46039f"
            ],
            [
             0.2222222222222222,
             "#7201a8"
            ],
            [
             0.3333333333333333,
             "#9c179e"
            ],
            [
             0.4444444444444444,
             "#bd3786"
            ],
            [
             0.5555555555555556,
             "#d8576b"
            ],
            [
             0.6666666666666666,
             "#ed7953"
            ],
            [
             0.7777777777777778,
             "#fb9f3a"
            ],
            [
             0.8888888888888888,
             "#fdca26"
            ],
            [
             1,
             "#f0f921"
            ]
           ],
           "sequentialminus": [
            [
             0,
             "#0d0887"
            ],
            [
             0.1111111111111111,
             "#46039f"
            ],
            [
             0.2222222222222222,
             "#7201a8"
            ],
            [
             0.3333333333333333,
             "#9c179e"
            ],
            [
             0.4444444444444444,
             "#bd3786"
            ],
            [
             0.5555555555555556,
             "#d8576b"
            ],
            [
             0.6666666666666666,
             "#ed7953"
            ],
            [
             0.7777777777777778,
             "#fb9f3a"
            ],
            [
             0.8888888888888888,
             "#fdca26"
            ],
            [
             1,
             "#f0f921"
            ]
           ]
          },
          "colorway": [
           "#636efa",
           "#EF553B",
           "#00cc96",
           "#ab63fa",
           "#FFA15A",
           "#19d3f3",
           "#FF6692",
           "#B6E880",
           "#FF97FF",
           "#FECB52"
          ],
          "font": {
           "color": "#2a3f5f"
          },
          "geo": {
           "bgcolor": "white",
           "lakecolor": "white",
           "landcolor": "#E5ECF6",
           "showlakes": true,
           "showland": true,
           "subunitcolor": "white"
          },
          "hoverlabel": {
           "align": "left"
          },
          "hovermode": "closest",
          "mapbox": {
           "style": "light"
          },
          "paper_bgcolor": "white",
          "plot_bgcolor": "#E5ECF6",
          "polar": {
           "angularaxis": {
            "gridcolor": "white",
            "linecolor": "white",
            "ticks": ""
           },
           "bgcolor": "#E5ECF6",
           "radialaxis": {
            "gridcolor": "white",
            "linecolor": "white",
            "ticks": ""
           }
          },
          "scene": {
           "xaxis": {
            "backgroundcolor": "#E5ECF6",
            "gridcolor": "white",
            "gridwidth": 2,
            "linecolor": "white",
            "showbackground": true,
            "ticks": "",
            "zerolinecolor": "white"
           },
           "yaxis": {
            "backgroundcolor": "#E5ECF6",
            "gridcolor": "white",
            "gridwidth": 2,
            "linecolor": "white",
            "showbackground": true,
            "ticks": "",
            "zerolinecolor": "white"
           },
           "zaxis": {
            "backgroundcolor": "#E5ECF6",
            "gridcolor": "white",
            "gridwidth": 2,
            "linecolor": "white",
            "showbackground": true,
            "ticks": "",
            "zerolinecolor": "white"
           }
          },
          "shapedefaults": {
           "line": {
            "color": "#2a3f5f"
           }
          },
          "ternary": {
           "aaxis": {
            "gridcolor": "white",
            "linecolor": "white",
            "ticks": ""
           },
           "baxis": {
            "gridcolor": "white",
            "linecolor": "white",
            "ticks": ""
           },
           "bgcolor": "#E5ECF6",
           "caxis": {
            "gridcolor": "white",
            "linecolor": "white",
            "ticks": ""
           }
          },
          "title": {
           "x": 0.05
          },
          "xaxis": {
           "automargin": true,
           "gridcolor": "white",
           "linecolor": "white",
           "ticks": "",
           "title": {
            "standoff": 15
           },
           "zerolinecolor": "white",
           "zerolinewidth": 2
          },
          "yaxis": {
           "automargin": true,
           "gridcolor": "white",
           "linecolor": "white",
           "ticks": "",
           "title": {
            "standoff": 15
           },
           "zerolinecolor": "white",
           "zerolinewidth": 2
          }
         }
        }
       }
      },
      "text/html": [
       "<div>                            <div id=\"23b03151-adad-4aea-957a-f2299e9558f9\" class=\"plotly-graph-div\" style=\"height:525px; width:100%;\"></div>            <script type=\"text/javascript\">                require([\"plotly\"], function(Plotly) {                    window.PLOTLYENV=window.PLOTLYENV || {};                                    if (document.getElementById(\"23b03151-adad-4aea-957a-f2299e9558f9\")) {                    Plotly.newPlot(                        \"23b03151-adad-4aea-957a-f2299e9558f9\",                        [{\"colorbar\":{\"title\":{\"text\":\"% with bachelor's degree or higher (2000)\"}},\"colorscale\":[[0.0,\"rgb(12,51,131)\"],[0.25,\"rgb(10,136,186)\"],[0.5,\"rgb(242,211,56)\"],[0.75,\"rgb(242,143,56)\"],[1.0,\"rgb(217,30,30)\"]],\"locationmode\":\"USA-states\",\"locations\":[\"AK\",\"AL\",\"AR\",\"AZ\",\"CA\",\"CO\",\"CT\",\"DE\",\"FL\",\"GA\",\"HI\",\"IA\",\"ID\",\"IL\",\"IN\",\"KS\",\"KY\",\"LA\",\"MA\",\"MD\",\"ME\",\"MI\",\"MN\",\"MO\",\"MS\",\"MT\",\"NC\",\"ND\",\"NE\",\"NH\",\"NJ\",\"NM\",\"NV\",\"NY\",\"OH\",\"OK\",\"OR\",\"PA\",\"RI\",\"SC\",\"SD\",\"TN\",\"TX\",\"UT\",\"VA\",\"VT\",\"WA\",\"WI\",\"WV\",\"WY\"],\"text\":\"% with bachelor's degree or higher (2000)\",\"type\":\"choropleth\",\"z\":[25.27093459241772,19.034702500519497,16.660582255083177,23.59686531690005,26.620933475437695,32.692665070488275,31.40741682954953,25.049061706997655,22.334759985468917,24.29977834404976,26.177009459947904,21.208889282730333,21.665259268195122,26.061383771665525,19.408143985608014,25.80391451481213,17.13533532572777,16.987815822760965,33.18988363725714,31.449867619103472,22.871778483100798,21.762341642480816,27.433228677656828,21.581741040896244,16.904018567103478,24.370249275085616,22.462887521734835,21.98881505684252,23.742666069436307,28.65385012142182,29.779442500520076,23.609413967314797,18.15595767286227,27.372550495370312,21.095343333684127,20.278525562904047,25.08069753949137,22.351409653963014,25.60090875977039,20.41806464535961,21.505231269987497,19.564808722624306,23.237572232056042,26.126144927923384,29.50666756924339,29.445380396464326,27.73149729053402,22.41945776002495,14.831616245710658,21.910074985031507]}],                        {\"geo\":{\"scope\":\"usa\"},\"template\":{\"data\":{\"bar\":[{\"error_x\":{\"color\":\"#2a3f5f\"},\"error_y\":{\"color\":\"#2a3f5f\"},\"marker\":{\"line\":{\"color\":\"#E5ECF6\",\"width\":0.5},\"pattern\":{\"fillmode\":\"overlay\",\"size\":10,\"solidity\":0.2}},\"type\":\"bar\"}],\"barpolar\":[{\"marker\":{\"line\":{\"color\":\"#E5ECF6\",\"width\":0.5},\"pattern\":{\"fillmode\":\"overlay\",\"size\":10,\"solidity\":0.2}},\"type\":\"barpolar\"}],\"carpet\":[{\"aaxis\":{\"endlinecolor\":\"#2a3f5f\",\"gridcolor\":\"white\",\"linecolor\":\"white\",\"minorgridcolor\":\"white\",\"startlinecolor\":\"#2a3f5f\"},\"baxis\":{\"endlinecolor\":\"#2a3f5f\",\"gridcolor\":\"white\",\"linecolor\":\"white\",\"minorgridcolor\":\"white\",\"startlinecolor\":\"#2a3f5f\"},\"type\":\"carpet\"}],\"choropleth\":[{\"colorbar\":{\"outlinewidth\":0,\"ticks\":\"\"},\"type\":\"choropleth\"}],\"contour\":[{\"colorbar\":{\"outlinewidth\":0,\"ticks\":\"\"},\"colorscale\":[[0.0,\"#0d0887\"],[0.1111111111111111,\"#46039f\"],[0.2222222222222222,\"#7201a8\"],[0.3333333333333333,\"#9c179e\"],[0.4444444444444444,\"#bd3786\"],[0.5555555555555556,\"#d8576b\"],[0.6666666666666666,\"#ed7953\"],[0.7777777777777778,\"#fb9f3a\"],[0.8888888888888888,\"#fdca26\"],[1.0,\"#f0f921\"]],\"type\":\"contour\"}],\"contourcarpet\":[{\"colorbar\":{\"outlinewidth\":0,\"ticks\":\"\"},\"type\":\"contourcarpet\"}],\"heatmap\":[{\"colorbar\":{\"outlinewidth\":0,\"ticks\":\"\"},\"colorscale\":[[0.0,\"#0d0887\"],[0.1111111111111111,\"#46039f\"],[0.2222222222222222,\"#7201a8\"],[0.3333333333333333,\"#9c179e\"],[0.4444444444444444,\"#bd3786\"],[0.5555555555555556,\"#d8576b\"],[0.6666666666666666,\"#ed7953\"],[0.7777777777777778,\"#fb9f3a\"],[0.8888888888888888,\"#fdca26\"],[1.0,\"#f0f921\"]],\"type\":\"heatmap\"}],\"heatmapgl\":[{\"colorbar\":{\"outlinewidth\":0,\"ticks\":\"\"},\"colorscale\":[[0.0,\"#0d0887\"],[0.1111111111111111,\"#46039f\"],[0.2222222222222222,\"#7201a8\"],[0.3333333333333333,\"#9c179e\"],[0.4444444444444444,\"#bd3786\"],[0.5555555555555556,\"#d8576b\"],[0.6666666666666666,\"#ed7953\"],[0.7777777777777778,\"#fb9f3a\"],[0.8888888888888888,\"#fdca26\"],[1.0,\"#f0f921\"]],\"type\":\"heatmapgl\"}],\"histogram\":[{\"marker\":{\"pattern\":{\"fillmode\":\"overlay\",\"size\":10,\"solidity\":0.2}},\"type\":\"histogram\"}],\"histogram2d\":[{\"colorbar\":{\"outlinewidth\":0,\"ticks\":\"\"},\"colorscale\":[[0.0,\"#0d0887\"],[0.1111111111111111,\"#46039f\"],[0.2222222222222222,\"#7201a8\"],[0.3333333333333333,\"#9c179e\"],[0.4444444444444444,\"#bd3786\"],[0.5555555555555556,\"#d8576b\"],[0.6666666666666666,\"#ed7953\"],[0.7777777777777778,\"#fb9f3a\"],[0.8888888888888888,\"#fdca26\"],[1.0,\"#f0f921\"]],\"type\":\"histogram2d\"}],\"histogram2dcontour\":[{\"colorbar\":{\"outlinewidth\":0,\"ticks\":\"\"},\"colorscale\":[[0.0,\"#0d0887\"],[0.1111111111111111,\"#46039f\"],[0.2222222222222222,\"#7201a8\"],[0.3333333333333333,\"#9c179e\"],[0.4444444444444444,\"#bd3786\"],[0.5555555555555556,\"#d8576b\"],[0.6666666666666666,\"#ed7953\"],[0.7777777777777778,\"#fb9f3a\"],[0.8888888888888888,\"#fdca26\"],[1.0,\"#f0f921\"]],\"type\":\"histogram2dcontour\"}],\"mesh3d\":[{\"colorbar\":{\"outlinewidth\":0,\"ticks\":\"\"},\"type\":\"mesh3d\"}],\"parcoords\":[{\"line\":{\"colorbar\":{\"outlinewidth\":0,\"ticks\":\"\"}},\"type\":\"parcoords\"}],\"pie\":[{\"automargin\":true,\"type\":\"pie\"}],\"scatter\":[{\"marker\":{\"colorbar\":{\"outlinewidth\":0,\"ticks\":\"\"}},\"type\":\"scatter\"}],\"scatter3d\":[{\"line\":{\"colorbar\":{\"outlinewidth\":0,\"ticks\":\"\"}},\"marker\":{\"colorbar\":{\"outlinewidth\":0,\"ticks\":\"\"}},\"type\":\"scatter3d\"}],\"scattercarpet\":[{\"marker\":{\"colorbar\":{\"outlinewidth\":0,\"ticks\":\"\"}},\"type\":\"scattercarpet\"}],\"scattergeo\":[{\"marker\":{\"colorbar\":{\"outlinewidth\":0,\"ticks\":\"\"}},\"type\":\"scattergeo\"}],\"scattergl\":[{\"marker\":{\"colorbar\":{\"outlinewidth\":0,\"ticks\":\"\"}},\"type\":\"scattergl\"}],\"scattermapbox\":[{\"marker\":{\"colorbar\":{\"outlinewidth\":0,\"ticks\":\"\"}},\"type\":\"scattermapbox\"}],\"scatterpolar\":[{\"marker\":{\"colorbar\":{\"outlinewidth\":0,\"ticks\":\"\"}},\"type\":\"scatterpolar\"}],\"scatterpolargl\":[{\"marker\":{\"colorbar\":{\"outlinewidth\":0,\"ticks\":\"\"}},\"type\":\"scatterpolargl\"}],\"scatterternary\":[{\"marker\":{\"colorbar\":{\"outlinewidth\":0,\"ticks\":\"\"}},\"type\":\"scatterternary\"}],\"surface\":[{\"colorbar\":{\"outlinewidth\":0,\"ticks\":\"\"},\"colorscale\":[[0.0,\"#0d0887\"],[0.1111111111111111,\"#46039f\"],[0.2222222222222222,\"#7201a8\"],[0.3333333333333333,\"#9c179e\"],[0.4444444444444444,\"#bd3786\"],[0.5555555555555556,\"#d8576b\"],[0.6666666666666666,\"#ed7953\"],[0.7777777777777778,\"#fb9f3a\"],[0.8888888888888888,\"#fdca26\"],[1.0,\"#f0f921\"]],\"type\":\"surface\"}],\"table\":[{\"cells\":{\"fill\":{\"color\":\"#EBF0F8\"},\"line\":{\"color\":\"white\"}},\"header\":{\"fill\":{\"color\":\"#C8D4E3\"},\"line\":{\"color\":\"white\"}},\"type\":\"table\"}]},\"layout\":{\"annotationdefaults\":{\"arrowcolor\":\"#2a3f5f\",\"arrowhead\":0,\"arrowwidth\":1},\"autotypenumbers\":\"strict\",\"coloraxis\":{\"colorbar\":{\"outlinewidth\":0,\"ticks\":\"\"}},\"colorscale\":{\"diverging\":[[0,\"#8e0152\"],[0.1,\"#c51b7d\"],[0.2,\"#de77ae\"],[0.3,\"#f1b6da\"],[0.4,\"#fde0ef\"],[0.5,\"#f7f7f7\"],[0.6,\"#e6f5d0\"],[0.7,\"#b8e186\"],[0.8,\"#7fbc41\"],[0.9,\"#4d9221\"],[1,\"#276419\"]],\"sequential\":[[0.0,\"#0d0887\"],[0.1111111111111111,\"#46039f\"],[0.2222222222222222,\"#7201a8\"],[0.3333333333333333,\"#9c179e\"],[0.4444444444444444,\"#bd3786\"],[0.5555555555555556,\"#d8576b\"],[0.6666666666666666,\"#ed7953\"],[0.7777777777777778,\"#fb9f3a\"],[0.8888888888888888,\"#fdca26\"],[1.0,\"#f0f921\"]],\"sequentialminus\":[[0.0,\"#0d0887\"],[0.1111111111111111,\"#46039f\"],[0.2222222222222222,\"#7201a8\"],[0.3333333333333333,\"#9c179e\"],[0.4444444444444444,\"#bd3786\"],[0.5555555555555556,\"#d8576b\"],[0.6666666666666666,\"#ed7953\"],[0.7777777777777778,\"#fb9f3a\"],[0.8888888888888888,\"#fdca26\"],[1.0,\"#f0f921\"]]},\"colorway\":[\"#636efa\",\"#EF553B\",\"#00cc96\",\"#ab63fa\",\"#FFA15A\",\"#19d3f3\",\"#FF6692\",\"#B6E880\",\"#FF97FF\",\"#FECB52\"],\"font\":{\"color\":\"#2a3f5f\"},\"geo\":{\"bgcolor\":\"white\",\"lakecolor\":\"white\",\"landcolor\":\"#E5ECF6\",\"showlakes\":true,\"showland\":true,\"subunitcolor\":\"white\"},\"hoverlabel\":{\"align\":\"left\"},\"hovermode\":\"closest\",\"mapbox\":{\"style\":\"light\"},\"paper_bgcolor\":\"white\",\"plot_bgcolor\":\"#E5ECF6\",\"polar\":{\"angularaxis\":{\"gridcolor\":\"white\",\"linecolor\":\"white\",\"ticks\":\"\"},\"bgcolor\":\"#E5ECF6\",\"radialaxis\":{\"gridcolor\":\"white\",\"linecolor\":\"white\",\"ticks\":\"\"}},\"scene\":{\"xaxis\":{\"backgroundcolor\":\"#E5ECF6\",\"gridcolor\":\"white\",\"gridwidth\":2,\"linecolor\":\"white\",\"showbackground\":true,\"ticks\":\"\",\"zerolinecolor\":\"white\"},\"yaxis\":{\"backgroundcolor\":\"#E5ECF6\",\"gridcolor\":\"white\",\"gridwidth\":2,\"linecolor\":\"white\",\"showbackground\":true,\"ticks\":\"\",\"zerolinecolor\":\"white\"},\"zaxis\":{\"backgroundcolor\":\"#E5ECF6\",\"gridcolor\":\"white\",\"gridwidth\":2,\"linecolor\":\"white\",\"showbackground\":true,\"ticks\":\"\",\"zerolinecolor\":\"white\"}},\"shapedefaults\":{\"line\":{\"color\":\"#2a3f5f\"}},\"ternary\":{\"aaxis\":{\"gridcolor\":\"white\",\"linecolor\":\"white\",\"ticks\":\"\"},\"baxis\":{\"gridcolor\":\"white\",\"linecolor\":\"white\",\"ticks\":\"\"},\"bgcolor\":\"#E5ECF6\",\"caxis\":{\"gridcolor\":\"white\",\"linecolor\":\"white\",\"ticks\":\"\"}},\"title\":{\"x\":0.05},\"xaxis\":{\"automargin\":true,\"gridcolor\":\"white\",\"linecolor\":\"white\",\"ticks\":\"\",\"title\":{\"standoff\":15},\"zerolinecolor\":\"white\",\"zerolinewidth\":2},\"yaxis\":{\"automargin\":true,\"gridcolor\":\"white\",\"linecolor\":\"white\",\"ticks\":\"\",\"title\":{\"standoff\":15},\"zerolinecolor\":\"white\",\"zerolinewidth\":2}}}},                        {\"responsive\": true}                    ).then(function(){\n",
       "                            \n",
       "var gd = document.getElementById('23b03151-adad-4aea-957a-f2299e9558f9');\n",
       "var x = new MutationObserver(function (mutations, observer) {{\n",
       "        var display = window.getComputedStyle(gd).display;\n",
       "        if (!display || display === 'none') {{\n",
       "            console.log([gd, 'removed!']);\n",
       "            Plotly.purge(gd);\n",
       "            observer.disconnect();\n",
       "        }}\n",
       "}});\n",
       "\n",
       "// Listen for the removal of the full notebook cells\n",
       "var notebookContainer = gd.closest('#notebook-container');\n",
       "if (notebookContainer) {{\n",
       "    x.observe(notebookContainer, {childList: true});\n",
       "}}\n",
       "\n",
       "// Listen for the clearing of the current output cell\n",
       "var outputEl = gd.closest('.output');\n",
       "if (outputEl) {{\n",
       "    x.observe(outputEl, {childList: true});\n",
       "}}\n",
       "\n",
       "                        })                };                });            </script>        </div>"
      ]
     },
     "metadata": {},
     "output_type": "display_data"
    }
   ],
   "source": [
    "# Draw the Choropleth plot\n",
    "choromap = go.Figure(data = [data], layout = layout)\n",
    "iplot(choromap, validate=False)"
   ]
  },
  {
   "cell_type": "markdown",
   "id": "5e383bfe",
   "metadata": {},
   "source": [
    "**Conclusion:** The northeast region has a large population with a bachelor’s degree or higher, with Massachusetts leading the way at 33%. Colorado stands out near the center of the country with 32.7% of the population having a bachelor’s degree or higher."
   ]
  },
  {
   "cell_type": "code",
   "execution_count": null,
   "id": "e7630fd5",
   "metadata": {},
   "outputs": [],
   "source": []
  },
  {
   "cell_type": "code",
   "execution_count": 37,
   "id": "1591443c",
   "metadata": {},
   "outputs": [
    {
     "data": {
      "text/plain": [
       "Text(0.5, 1.0, 'Boxplot Showing County Ranges in Unemployment, 2000')"
      ]
     },
     "execution_count": 37,
     "metadata": {},
     "output_type": "execute_result"
    },
    {
     "data": {
      "image/png": "[encoded data removed]",
      "text/plain": [
       "<Figure size 1500x1200 with 1 Axes>"
      ]
     },
     "metadata": {},
     "output_type": "display_data"
    }
   ],
   "source": [
    "# Create a sorted list of state names\n",
    "state_names = df_merged['State_x'].unique().tolist()\n",
    "state_names.sort()\n",
    "\n",
    "# Set the size of the boxplot to 15 by 12\n",
    "sns.set(rc={'figure.figsize':(15,12)})\n",
    "\n",
    "# Create a Seaborn boxplot to show ranges of employment by country within a state\n",
    "bp1 = sns.boxplot(x='State_x', y='Unemployment rate 2000', data=df_merged, order=state_names)\n",
    "\n",
    "# Change the X-axis label\n",
    "bp1.set(xlabel = \"U.S. Sate\")\n",
    "\n",
    "# Change the boxplot title\n",
    "bp1.set_title('Boxplot Showing County Ranges in Unemployment, 2000')\n"
   ]
  },
  {
   "cell_type": "markdown",
   "id": "9e50c625",
   "metadata": {},
   "source": [
    "**Conclusion:** The maps showed unemployment levels at the state level, but the data is defined at the county level; this allows for examining information inside each state, and boxplots can be used for this. The western states stood out as having high unemployment, with California at 6.17%. Looking at the county data for California, outlier counties can be seen reaching 17% unemployment, but the upper limit on the boxplot (top of the IQR) is approximately 11 % unemployment. Texas in particular has multiple outlier counties, with peak IQR of about 7% but an outlier reaching 17% unemployment."
   ]
  },
  {
   "cell_type": "code",
   "execution_count": 38,
   "id": "ef80b6f2",
   "metadata": {},
   "outputs": [
    {
     "data": {
      "text/plain": [
       "Text(0.5, 1.0, 'Boxplot Showing County Ranges of Adults with a High School Diploma Only, 2000')"
      ]
     },
     "execution_count": 38,
     "metadata": {},
     "output_type": "execute_result"
    },
    {
     "data": {
      "image/png": "[encoded data removed]",
      "text/plain": [
       "<Figure size 1500x1200 with 1 Axes>"
      ]
     },
     "metadata": {},
     "output_type": "display_data"
    }
   ],
   "source": [
    "# Create a sorted list of state names\n",
    "state_names = df_merged['State_x'].unique().tolist()\n",
    "state_names.sort()\n",
    "\n",
    "# Set the size of the boxplot to 15 by 12\n",
    "sns.set(rc={'figure.figsize':(15,12)})\n",
    "\n",
    "# Create a Seaborn boxplot to show ranges of education by county within a state\n",
    "#bp1 = sns.boxplot(x='State_x', y='Percent of adults with a high school diploma only, 2000', data=df_merged)\n",
    "bp1 = sns.boxplot(x='State_x', y='% HS Diploma, 2000', data=df_merged, order=state_names)\n",
    "\n",
    "# Change the X-axis label\n",
    "bp1.set(xlabel = \"U.S. Sate\")\n",
    "\n",
    "# Change the Y-axis label\n",
    "bp1.set(ylabel = \"Percent of Adults with a High School Diploma\")\n",
    "\n",
    "# Change the boxplot title\n",
    "bp1.set_title('Boxplot Showing County Ranges of Adults with a High School Diploma Only, 2000')\n"
   ]
  },
  {
   "cell_type": "markdown",
   "id": "11bb3fb7",
   "metadata": {},
   "source": [
    "**Conclusion:** Looking at the percent of adults with a high school diploma only, Georgia has a large number of outliers below the lower limit. This is true for other southern states like North Carolina, but also Midwest states like Michigan and Minnesota."
   ]
  },
  {
   "cell_type": "code",
   "execution_count": 39,
   "id": "635e0a0c",
   "metadata": {},
   "outputs": [
    {
     "data": {
      "text/plain": [
       "Text(0.5, 1.0, \"Boxplot Showing County Ranges of Adults with a Bachelor's Degree or Higher, 2000\")"
      ]
     },
     "execution_count": 39,
     "metadata": {},
     "output_type": "execute_result"
    },
    {
     "data": {
      "image/png": "[encoded data removed]",
      "text/plain": [
       "<Figure size 1500x1200 with 1 Axes>"
      ]
     },
     "metadata": {},
     "output_type": "display_data"
    }
   ],
   "source": [
    "# Create a sorted list of state names\n",
    "state_names = df_merged['State_x'].unique().tolist()\n",
    "state_names.sort()\n",
    "\n",
    "# Set the size of the boxplot to 15 by 12\n",
    "sns.set(rc={'figure.figsize':(15,12)})\n",
    "\n",
    "# Create a Seaborn boxplot to show ranges of education by county within a state\n",
    "bp1 = sns.boxplot(x='State_x', y=\"% >= Bachelors, 2000\", data=df_merged, order=state_names)\n",
    "\n",
    "# Change the X-axis label\n",
    "bp1.set(xlabel = \"U.S. Sate\")\n",
    "\n",
    "# Change the Y-axis label\n",
    "bp1.set(ylabel = \"Percent of Adults with a Bachelor's Degree or Higher\")\n",
    "\n",
    "# Change the boxplot title\n",
    "bp1.set_title(\"Boxplot Showing County Ranges of Adults with a Bachelor's Degree or Higher, 2000\")"
   ]
  },
  {
   "cell_type": "markdown",
   "id": "ebf01f1d",
   "metadata": {},
   "source": [
    "**Conclusion:** For the percent of adults with a bachelor’s degree or higher, the outliers in nearly every state stand out. In each state, there are counties with the percent of the population with a college degree is much higher than the rest of the state. This is particularly true in southern states like Kentucky, Missouri, Mississippi, and North Carolina."
   ]
  },
  {
   "cell_type": "markdown",
   "id": "a4b2f4e3",
   "metadata": {},
   "source": [
    " ## Quantative Data Exploratory Descriptive Statistics: Correlation coefficients "
   ]
  },
  {
   "cell_type": "code",
   "execution_count": 40,
   "id": "b2623cf1",
   "metadata": {},
   "outputs": [
    {
     "data": {
      "text/html": [
       "<div>\n",
       "<style scoped>\n",
       "    .dataframe tbody tr th:only-of-type {\n",
       "        vertical-align: middle;\n",
       "    }\n",
       "\n",
       "    .dataframe tbody tr th {\n",
       "        vertical-align: top;\n",
       "    }\n",
       "\n",
       "    .dataframe thead th {\n",
       "        text-align: right;\n",
       "    }\n",
       "</style>\n",
       "<table border=\"1\" class=\"dataframe\">\n",
       "  <thead>\n",
       "    <tr style=\"text-align: right;\">\n",
       "      <th></th>\n",
       "      <th>State_x</th>\n",
       "      <th>Unemployment Rate 2000</th>\n",
       "      <th>% HS Diploma, 2000</th>\n",
       "    </tr>\n",
       "  </thead>\n",
       "  <tbody>\n",
       "    <tr>\n",
       "      <th>0</th>\n",
       "      <td>AK</td>\n",
       "      <td>6.192708</td>\n",
       "      <td>27.375365</td>\n",
       "    </tr>\n",
       "    <tr>\n",
       "      <th>1</th>\n",
       "      <td>AL</td>\n",
       "      <td>4.631517</td>\n",
       "      <td>30.380827</td>\n",
       "    </tr>\n",
       "    <tr>\n",
       "      <th>2</th>\n",
       "      <td>AR</td>\n",
       "      <td>4.179000</td>\n",
       "      <td>34.104436</td>\n",
       "    </tr>\n",
       "    <tr>\n",
       "      <th>3</th>\n",
       "      <td>AZ</td>\n",
       "      <td>3.967340</td>\n",
       "      <td>24.277414</td>\n",
       "    </tr>\n",
       "    <tr>\n",
       "      <th>4</th>\n",
       "      <td>CA</td>\n",
       "      <td>4.905245</td>\n",
       "      <td>20.134617</td>\n",
       "    </tr>\n",
       "  </tbody>\n",
       "</table>\n",
       "</div>"
      ],
      "text/plain": [
       "  State_x  Unemployment Rate 2000  % HS Diploma, 2000\n",
       "0      AK                6.192708           27.375365\n",
       "1      AL                4.631517           30.380827\n",
       "2      AR                4.179000           34.104436\n",
       "3      AZ                3.967340           24.277414\n",
       "4      CA                4.905245           20.134617"
      ]
     },
     "execution_count": 40,
     "metadata": {},
     "output_type": "execute_result"
    }
   ],
   "source": [
    "# Examine if a correlation exists between unemployment and having less than a high school diploma\n",
    "\n",
    "# Use the df_data_by_state DataFrame to to examine the correlation between Unemployment Rate 2000 and \n",
    "# the Percent of adults with less than a high school diploma 2000\n",
    "df_data_by_state[['State_x', 'Unemployment Rate 2000','% HS Diploma, 2000']].head()\n",
    "                 "
   ]
  },
  {
   "cell_type": "code",
   "execution_count": 41,
   "id": "32baa5b3",
   "metadata": {},
   "outputs": [
    {
     "data": {
      "text/plain": [
       "Text(0.5, 1.0, 'Linear Regression Plot Showing % With a High School Diploma, 2000 vs % Unemployment 2000 ')"
      ]
     },
     "execution_count": 41,
     "metadata": {},
     "output_type": "execute_result"
    },
    {
     "data": {
      "image/png": "[encoded data removed]",
      "text/plain": [
       "<Figure size 1000x500 with 1 Axes>"
      ]
     },
     "metadata": {},
     "output_type": "display_data"
    }
   ],
   "source": [
    "# Set the size of the boxplot to 15 by 12\n",
    "sns.set(rc={'figure.figsize':(10,5)})\n",
    "\n",
    "# Create a linear regression plot to visualize unemployment and people with less than a high school diploma\n",
    "corr_p1 = sns.regplot(x=\"% HS Diploma, 2000\", y=\"Unemployment Rate 2000\", data=df_data_by_state)\n",
    "\n",
    "# Set the X-axis label\n",
    "corr_p1.set(xlabel='Percent of Adults With a High School Diploma, 2000')\n",
    "\n",
    "# Change the boxplot title\n",
    "corr_p1.set_title(\"Linear Regression Plot Showing % With a High School Diploma, 2000 vs % Unemployment 2000 \")"
   ]
  },
  {
   "cell_type": "markdown",
   "id": "b1a14e5e",
   "metadata": {},
   "source": [
    "**Conclusion:** The linear regression plot of Unemployment and percent of people with less a high school diploma has a negative slope. This indicates that the unemployment and percent of people with only a high school diploma are negatively correlated. The correlation coefficient must be calculated to find the strength of the correlation."
   ]
  },
  {
   "cell_type": "code",
   "execution_count": 42,
   "id": "ab6d0b18",
   "metadata": {},
   "outputs": [],
   "source": [
    "# Calcualte the Pearson standard correlation coefficient (r)\n",
    "r = df_data_by_state[\"% HS Diploma, 2000\"].corr(df_data_by_state[\"Unemployment Rate 2000\"],method='pearson')\n"
   ]
  },
  {
   "cell_type": "code",
   "execution_count": 43,
   "id": "3945e5b0",
   "metadata": {},
   "outputs": [
    {
     "name": "stdout",
     "output_type": "stream",
     "text": [
      "The correlation coefficient comparing High School Diploma 2000 (%) with Unemployment 2000 (%):  -0.07256875257203953\n"
     ]
    }
   ],
   "source": [
    "print(\"The correlation coefficient comparing High School Diploma 2000 (%) with Unemployment 2000 (%): \", r)\n"
   ]
  },
  {
   "cell_type": "markdown",
   "id": "a9e2d1e0",
   "metadata": {},
   "source": [
    "**Conclusion:** As shown in the previous plot, there is a slightly negative correlation between unemployment and percent of people with only than a high school diploma. The correlation coefficient was calculated to be approximately -0.0726. This is lower than -0.7, so there is a negative but weak correlation between unemployment rate and percent of people with only a high school diploma."
   ]
  },
  {
   "cell_type": "code",
   "execution_count": 44,
   "id": "9c490ad5",
   "metadata": {},
   "outputs": [
    {
     "data": {
      "text/html": [
       "<div>\n",
       "<style scoped>\n",
       "    .dataframe tbody tr th:only-of-type {\n",
       "        vertical-align: middle;\n",
       "    }\n",
       "\n",
       "    .dataframe tbody tr th {\n",
       "        vertical-align: top;\n",
       "    }\n",
       "\n",
       "    .dataframe thead th {\n",
       "        text-align: right;\n",
       "    }\n",
       "</style>\n",
       "<table border=\"1\" class=\"dataframe\">\n",
       "  <thead>\n",
       "    <tr style=\"text-align: right;\">\n",
       "      <th></th>\n",
       "      <th>State_x</th>\n",
       "      <th>Unemployment Rate 2000</th>\n",
       "      <th>% &gt;= Bachelors, 2000</th>\n",
       "    </tr>\n",
       "  </thead>\n",
       "  <tbody>\n",
       "    <tr>\n",
       "      <th>0</th>\n",
       "      <td>AK</td>\n",
       "      <td>6.192708</td>\n",
       "      <td>25.270935</td>\n",
       "    </tr>\n",
       "    <tr>\n",
       "      <th>1</th>\n",
       "      <td>AL</td>\n",
       "      <td>4.631517</td>\n",
       "      <td>19.034703</td>\n",
       "    </tr>\n",
       "    <tr>\n",
       "      <th>2</th>\n",
       "      <td>AR</td>\n",
       "      <td>4.179000</td>\n",
       "      <td>16.660582</td>\n",
       "    </tr>\n",
       "    <tr>\n",
       "      <th>3</th>\n",
       "      <td>AZ</td>\n",
       "      <td>3.967340</td>\n",
       "      <td>23.596865</td>\n",
       "    </tr>\n",
       "    <tr>\n",
       "      <th>4</th>\n",
       "      <td>CA</td>\n",
       "      <td>4.905245</td>\n",
       "      <td>26.620933</td>\n",
       "    </tr>\n",
       "  </tbody>\n",
       "</table>\n",
       "</div>"
      ],
      "text/plain": [
       "  State_x  Unemployment Rate 2000  % >= Bachelors, 2000\n",
       "0      AK                6.192708             25.270935\n",
       "1      AL                4.631517             19.034703\n",
       "2      AR                4.179000             16.660582\n",
       "3      AZ                3.967340             23.596865\n",
       "4      CA                4.905245             26.620933"
      ]
     },
     "execution_count": 44,
     "metadata": {},
     "output_type": "execute_result"
    }
   ],
   "source": [
    "# Examine if a correlation exists between unemployment and having a bachelor's degree\n",
    "\n",
    "# Use the df_data_by_state DataFrame to to examine the correlation between Unemployment Rate 2000 and \n",
    "# the Percent of adults with a bachelor's degree or higher 2000\n",
    "df_data_by_state[['State_x', 'Unemployment Rate 2000',\"% >= Bachelors, 2000\"]].head()"
   ]
  },
  {
   "cell_type": "code",
   "execution_count": 45,
   "id": "1c42af0c",
   "metadata": {},
   "outputs": [
    {
     "data": {
      "text/plain": [
       "Text(0.5, 1.0, \"Linear Regression Plot Showing % of adults with a bachelor's degree or higher, 2000 vs % Unemployment 2000 \")"
      ]
     },
     "execution_count": 45,
     "metadata": {},
     "output_type": "execute_result"
    },
    {
     "data": {
      "image/png": "[encoded data removed]",
      "text/plain": [
       "<Figure size 1000x500 with 1 Axes>"
      ]
     },
     "metadata": {},
     "output_type": "display_data"
    }
   ],
   "source": [
    "# Set the size of the boxplot to 15 by 12\n",
    "sns.set(rc={'figure.figsize':(10,5)})\n",
    "\n",
    "# Create a linear regression plot to visualize Unemployment Rate 2000 and Percent of adults with a bachelor's degree or higher 2000\n",
    "corr_p1 = sns.regplot(x=\"% >= Bachelors, 2000\", y=\"Unemployment Rate 2000\", data=df_data_by_state)\n",
    "\n",
    "# Set the X-axis label\n",
    "corr_p1.set(xlabel=\"Percent of Adults With a Bachelor's Degree or Higher, 2000\")\n",
    "\n",
    "# Change the boxplot title\n",
    "corr_p1.set_title(\"Linear Regression Plot Showing % of adults with a bachelor's degree or higher, 2000 vs % Unemployment 2000 \")\n"
   ]
  },
  {
   "cell_type": "markdown",
   "id": "c07e690b",
   "metadata": {},
   "source": [
    "**Conclusion:** The linear regression plot of Unemployment and percent of people with a bachelor’s degree or higher has a negative slope. This indicates that the unemployment rate and percent of people with a bachelor’s degree  are negatively correlated. The correlation coefficient must be calculated to find the strength of the correlation.\n"
   ]
  },
  {
   "cell_type": "code",
   "execution_count": 46,
   "id": "4530305e",
   "metadata": {},
   "outputs": [],
   "source": [
    "# Calcualte the Pearson standard correlation coefficient (r)\n",
    "r = df_data_by_state[\"% >= Bachelors, 2000\"].corr(df_data_by_state[\"Unemployment Rate 2000\"],method='pearson')\n"
   ]
  },
  {
   "cell_type": "code",
   "execution_count": 47,
   "id": "8bedf501",
   "metadata": {
    "scrolled": true
   },
   "outputs": [
    {
     "name": "stdout",
     "output_type": "stream",
     "text": [
      "The correlation coefficient comparing % Bachelor's Degree or Higher with Unemployment 2000 (%):  -0.3809390258255997\n"
     ]
    }
   ],
   "source": [
    "print(\"The correlation coefficient comparing % Bachelor's Degree or Higher with Unemployment 2000 (%): \", r)"
   ]
  },
  {
   "cell_type": "markdown",
   "id": "853b2763",
   "metadata": {},
   "source": [
    "**Conclusion:** As shown in the previous plot, there is a negative correlation between unemployment and percent of people with a bachelor’s degree or better. The correlation coefficient was calculated to be approximately -0.38. This is closer to 0 than -0.7, so there is a negative but weak correlation between unemployment rate and percent of people with a bachelor’s degree or higher."
   ]
  },
  {
   "cell_type": "markdown",
   "id": "5a4721c4",
   "metadata": {},
   "source": [
    "## Hypothesis Testing (not finished yet)"
   ]
  },
  {
   "cell_type": "markdown",
   "id": "28743fe6",
   "metadata": {},
   "source": [
    "### Normal Test"
   ]
  },
  {
   "cell_type": "code",
   "execution_count": 48,
   "id": "604b93b8",
   "metadata": {
    "scrolled": false
   },
   "outputs": [
    {
     "data": {
      "text/plain": [
       "[Text(0.5, 0, 'Unemployment Rate, 2000')]"
      ]
     },
     "execution_count": 48,
     "metadata": {},
     "output_type": "execute_result"
    },
    {
     "data": {
      "image/png": "[encoded data removed]",
      "text/plain": [
       "<Figure size 1000x500 with 2 Axes>"
      ]
     },
     "metadata": {},
     "output_type": "display_data"
    }
   ],
   "source": [
    "# Prepare two subplots to show the disbtribution of data for \"Percent of adults with a bachelor's degree or higher, 2000\"\n",
    "# and \"Unemployment rate 2000\"\n",
    "fig, ax = plt.subplots(1,2)\n",
    "\n",
    "# Create a distplot for \"Percent of adults with a bachelor's degree or higher, 2000\"\n",
    "sns.distplot(df_merged[\"% >= Bachelors, 2000\"],fit=stats.norm,kde=False, ax=ax[0])\n",
    "# Set the X-axis label\n",
    "ax[0].set(xlabel=\"Percent of Adults With a Bachelor's Degree or Higher, 2000\")\n",
    "\n",
    "# Create a distplot for \"Unemployment rate 2000\"\n",
    "sns.distplot(df_merged[\"Unemployment rate 2000\"],fit=stats.norm,kde=False, ax=ax[1])\n",
    "ax[1].set(xlabel=\"Unemployment Rate, 2000\")\n"
   ]
  },
  {
   "cell_type": "markdown",
   "id": "f7451517",
   "metadata": {},
   "source": [
    "**Conclusion:** The data \"Percent of adults with a bachelor's degree or higher, 2000\" and \"Unemployment rate 2000\" visually appear to be close to normally distributed, but the normal test should be run to verify."
   ]
  },
  {
   "cell_type": "code",
   "execution_count": 49,
   "id": "0c7f78ab",
   "metadata": {},
   "outputs": [
    {
     "data": {
      "text/plain": [
       "NormaltestResult(statistic=1103.6947814470946, pvalue=2.1663237251888e-240)"
      ]
     },
     "execution_count": 49,
     "metadata": {},
     "output_type": "execute_result"
    }
   ],
   "source": [
    "# Use stats.normaltest() to see if the data for \"Percent of adults with a bachelor's degree or higher, 2000\" if normally \n",
    "# distibuted.\n",
    "stats.normaltest(df_merged[\"% >= Bachelors, 2000\"])"
   ]
  },
  {
   "cell_type": "code",
   "execution_count": 50,
   "id": "c18d475f",
   "metadata": {},
   "outputs": [
    {
     "data": {
      "text/plain": [
       "NormaltestResult(statistic=1204.350632751332, pvalue=3.010114111302691e-262)"
      ]
     },
     "execution_count": 50,
     "metadata": {},
     "output_type": "execute_result"
    }
   ],
   "source": [
    "# Use stats.normaltest() to see if the data for \"Unemployment rate 2000\" if normally distibuted.\n",
    "stats.normaltest(df_merged[\"Unemployment rate 2000\"])"
   ]
  },
  {
   "cell_type": "markdown",
   "id": "5bad3e48",
   "metadata": {},
   "source": [
    "**Conclusion:** The ‘statistic’ returns s^2 + k^2; s is the z-score from the skew test, while k is the z-score from the kurtosis test. The p-value is the two-sided chi-squared probability of the hypothesis test. The null hypothesis (***H<sub>0</sub>***) is “The data comes from a normal distribution” while the alternate hypothesis (***H<sub>a</sub>***) is “The data does not come from a normal distribution.”\n",
    "\n",
    "\n",
    " ***H<sub>0</sub>***: “The data comes from a normal distribution”<br>\n",
    " ***H<sub>a</sub>***: “The  data  does  not  come  from  a  normal  distribution.\"<br>\n",
    "\n",
    "\n",
    "Since p < 0.05 for both columns of data, we reject the null hypothesis (***H<sub>0</sub>***) that the data comes from a normal distribution. However, because there are so many data points (about 3,000 rows of data), the Central Limit Theorem can be applied and the data can be treated as a normal distribution.\n"
   ]
  },
  {
   "cell_type": "markdown",
   "id": "d8f73fb0",
   "metadata": {},
   "source": [
    "### Z-test"
   ]
  },
  {
   "cell_type": "code",
   "execution_count": 51,
   "id": "88e81d9e",
   "metadata": {},
   "outputs": [
    {
     "name": "stdout",
     "output_type": "stream",
     "text": [
      "Test statistic: -3.4290387934866184, P-value: 0.0003028614711704304\n"
     ]
    }
   ],
   "source": [
    "# Utilize the Z-test to test the mean of the distribution for \"Percent of adults with a bachelor's degree or higher, 2000\"\n",
    "# The Z-test can be used because the popultion standard deviation is known and there are more than 30 data points.\n",
    "\n",
    "# H0: The average percentage of adults with a bachelor's degree or higher in the year 2000 for all counties in the USA\n",
    "#     is 17%\n",
    "\n",
    "# H1: The average percentage of adults with a bachelor's degree or higher in the year 2000 for all counties in the USA\n",
    "#     is less than 17%\n",
    "\n",
    "test_stat, pval = ztest(df_merged[\"% >= Bachelors, 2000\"], value=17, alternative='smaller', ddof=1.0)\n",
    "print(f\"Test statistic: {test_stat}, P-value: {pval}\")"
   ]
  },
  {
   "cell_type": "markdown",
   "id": "a4d25d7e",
   "metadata": {},
   "source": [
    "**Conclusion:** The Z-test is a statistical test on data that can be treated as normally distributed. It produces a test statistic on how the mean of the data test against a null hypothesis. The Z-test was selected over the Student’s T-test because the critical values used for the T-Test are defined by the sample size and is less convenient.\n",
    "\n",
    "The null hypothesis under test (***H<sub>0</sub>***) states “The average percentage of adults with a bachelor's degree or higher in the year 2000 for all counties in the USA is 17%”, while the alternate hypothesis (***H<sub>a</sub>***) states “The average percentage of adults with a bachelor's degree or higher in the year 2000 for all counties in the USA is less than 17%.”\n",
    "\n",
    "***H<sub>0</sub>***: “The average percentage of adults with a bachelor's degree or higher in the year 2000 for all counties in the USA is 17%”.\n",
    "\n",
    "***H<sub>a</sub>***: “The average percentage of adults with a bachelor's degree or higher in the year 2000 for all counties in the USA is less than 17%.”\n",
    "\n",
    "Because the P-value of the Z-test is less than 0.05 (0.0003028614711704304), there is evidence to reject the null hypothesis. This means that there is not enough evidence to support the claim that the average percentage of adults with a bachelor's degree or higher in the year 2000 for all counties in the USA is 17%.\n",
    "\n"
   ]
  },
  {
   "cell_type": "markdown",
   "id": "785c4216",
   "metadata": {},
   "source": [
    "### Correlation Test"
   ]
  },
  {
   "cell_type": "code",
   "execution_count": 52,
   "id": "2c5899c0",
   "metadata": {},
   "outputs": [
    {
     "data": {
      "text/plain": [
       "0.48525791224159837"
      ]
     },
     "execution_count": 52,
     "metadata": {},
     "output_type": "execute_result"
    }
   ],
   "source": [
    "# the pandas.DataFrame.corr() method returns the correlation between the columns of interest.\n",
    "# Examine the correlation between \"Unemployment rate 2000\" and \"Percent of adults with less than a high school diploma, 2000\"\n",
    "\n",
    "df_merged[\"Unemployment rate 2000\"].corr(df_merged[\"% < HS Diploma, 2000\"], method='pearson')\n"
   ]
  },
  {
   "cell_type": "code",
   "execution_count": 53,
   "id": "dfcbd746",
   "metadata": {},
   "outputs": [
    {
     "name": "stdout",
     "output_type": "stream",
     "text": [
      "Correlation coefficient: 0.4852579122415992, P-value: 7.09738205236667e-184\n"
     ]
    }
   ],
   "source": [
    "# The SciPy pearsonr() method returns a tuple with two values: the correlation coefficient and a P-value that represents\n",
    "# the probability of two unrelated processes producing that correlation coeffiecient. \n",
    "\n",
    "# The Correlation Test examines two series in the DataFrame to see how they are correlated. The P-value returned \n",
    "# by the Correlation Test provides insight into the evidence of there being a correlation between two series:\n",
    "\n",
    "# P-value < 0.001: The evidence for correlation is strong\n",
    "# P-value < 0.05: The evidence for correlation is moderate\n",
    "# P-value < 0.1: The evidece for correlation is weak\n",
    "# P-value > 0.1: There is no evidence of correlation\n",
    "\n",
    "# H0: There is no correlation between \"Unemployment rate 2000\" and \"Percent of adults with less than a high school diploma, 2000\"\n",
    "\n",
    "# H1: There is a correlation between \"Unemployment rate 2000\" and \"Percent of adults with less than a high school diploma, 2000\n",
    "\n",
    "corr, p = pearsonr(df_merged[\"Unemployment rate 2000\"], df_merged[\"% < HS Diploma, 2000\"])\n",
    "\n",
    "\n",
    "print(f\"Correlation coefficient: {corr}, P-value: {p}\")"
   ]
  },
  {
   "cell_type": "markdown",
   "id": "d474963d",
   "metadata": {},
   "source": [
    "**Conclusion:** The correlation coefficient for the pandas.DataFrame.corr() method and the scipy.stats.pearsonr() method both returned a value of 0.485, which is a moderate positive correlation. The P-value returned from scipy.stats.pearsonr() is a small value close to 0.  When p > 0.05, the data sets being studied are probably independent. There is enough evidence to reject the null hypothesis (***H<sub>0</sub>***) that there is no correlation between \"Unemployment rate 2000\" and \"Percent of adults with less than a high school diploma, 2000.\" Both the correlation coefficient and P-value indicate that the data is correlated."
   ]
  },
  {
   "cell_type": "markdown",
   "id": "54bcd3db",
   "metadata": {},
   "source": [
    "### Chi-squared Test"
   ]
  },
  {
   "cell_type": "code",
   "execution_count": 54,
   "id": "68b04089",
   "metadata": {},
   "outputs": [],
   "source": [
    "# The Chi-squared Test compares an expected value with an observed value of categorial data. It produces a statistic that can\n",
    "# be used to evaulate a null hypothesis (H0).\n",
    "\n",
    "# H0: \"Percent of adults with less than a high school diploma, 2000\" and \"Unemployment rate 2000\" are independent.\n",
    "\n",
    "# H1: \"Percent of adults with less than a high school diploma, 2000\" and \"Unemployment rate 2000\" are dependent."
   ]
  },
  {
   "cell_type": "code",
   "execution_count": 55,
   "id": "5f194583",
   "metadata": {},
   "outputs": [
    {
     "name": "stdout",
     "output_type": "stream",
     "text": [
      "Test statistic:  1713.9652606813252\n",
      "P-value:  1.0\n",
      "Degrees of freedom (dof): 3116\n",
      "expected values: [[35.37540301 27.74705781 31.93845627 ... 16.346454   18.19066932\n",
      "  13.66395898]\n",
      " [ 6.82459699  5.35294219  6.16154373 ...  3.153546    3.50933068\n",
      "   2.63604102]]\n",
      "Probability:  0.95\n",
      "Critical value:  3246.976756354243\n",
      "Evaluate the test statistic:\n",
      "Independent (fail to reject H0)\n",
      "Evaluate the P-value:\n",
      "Significance:  0.050000000000000044\n",
      "Independent (fail to reject H0)\n"
     ]
    }
   ],
   "source": [
    "\n",
    "\n",
    "# Build a table to hold the data. The first element in this example is treated as the expected value, \n",
    "# while the second value is the observed value.\n",
    "\n",
    "table = df_merged[\"% < HS Diploma, 2000\"], df_merged[\"Unemployment rate 2000\"]\n",
    "\n",
    "# The scipy.stats Chi-square Test returns a tuple with the following values: stat, p, dof, and show the expected value\n",
    "# stat: The test statistic\n",
    "# p: The P-value of the test\n",
    "# dof: The degrees of freedom of the data, which is the number of categories - 1\n",
    "#      The Chi-squared test is used with categorical data, and in this examole each U.S. county is a category\n",
    "# expected: The expected frequencies calculated from the margin totals of the table\n",
    "stat, p, dof, expected = chi2_contingency(table)\n",
    "\n",
    "# Print out the returned values\n",
    "print('Test statistic: ', stat)\n",
    "print('P-value: ', p)\n",
    "print('Degrees of freedom (dof):', dof)\n",
    "print('expected values:', expected)\n",
    "\n",
    "# Set the probability at 95%\n",
    "prob = 0.95\n",
    "\n",
    "# Calculate the critical value based on the desired probability and degrees of freedom\n",
    "# (this is equivalent to using a Chi-squared table lookup to find the critical value)\n",
    "critical_value = chi2.ppf(prob, dof)\n",
    "\n",
    "# Print the probability, critical value\n",
    "print('Probability: ', prob)\n",
    "print('Critical value: ', critical_value)\n",
    "\n",
    "# Evaluate the test statistic\n",
    "print('Evaluate the test statistic:')\n",
    "if abs(stat) >= critical_value:\n",
    "  print('Dependent (reject H0)')\n",
    "else:\n",
    "  print('Independent (fail to reject H0)')\n",
    "\n",
    "# Evaluate the P-value\n",
    "print('Evaluate the P-value:')\n",
    "alpha = 1.0 - prob\n",
    "print('Significance: ', alpha)\n",
    "if p <= alpha:\n",
    "  print('Dependent (reject H0)')\n",
    "else:\n",
    "  print('Independent (fail to reject H0)')"
   ]
  },
  {
   "cell_type": "markdown",
   "id": "a555d4fe",
   "metadata": {},
   "source": [
    "**Conclusion:** The Chi-squared test produced a test statistic and P-value. The test statistic (1713.96) was less than the critical value (3246.97), so we fail to reject the null hypothesis (***H<sub>0</sub>***) that \"Percent of adults with less than a high school diploma, 2000\" and \"Unemployment rate 2000\" are independent. "
   ]
  },
  {
   "cell_type": "markdown",
   "id": "fec0feb8",
   "metadata": {},
   "source": [
    "### ANOVA: Analysis of Variance"
   ]
  },
  {
   "cell_type": "markdown",
   "id": "9385c1fe",
   "metadata": {},
   "source": [
    "**Comment:** ANOVA (Analysis of Variance) is a technique used to compare the means of more than two sets of data. The means of the data sets do not have to be equal; ANOVA measures how likely the means represent data from the same overall population. It is still possible to use pair-wise statistical tests on data to compare the sample means, but this causes the errors to compound for each test. Put another way, ANOVA is a variability ratio where the variance between means is divided by the variance within the means. If the variance between means is large comparted to a smaller variance within means, the null hypothesis (***H<sub>0</sub>***) is rejected. If the variance between means is similar to the variance within means, or if the variance between means is small and the variance within means is large, then we fail to reject the null hypothesis (***H<sub>0</sub>***)."
   ]
  },
  {
   "cell_type": "code",
   "execution_count": 56,
   "id": "c9d80235",
   "metadata": {},
   "outputs": [],
   "source": [
    "# Create a DataFrame to use with the ANOVA test using \"Percent of adults with less than a high school diploma, 2000\" \n",
    "# and area (\"City/Suburb/Town/Rural 2013\")\n",
    "df_anova = df_merged[[\"City/Suburb/Town/Rural 2013\",\"% < HS Diploma, 2000\"]]\n",
    "\n",
    "# Group the annova dataframe by area type (City/Suburb/Town/Rural 2013)\n",
    "df_anova_groupby_area = df_anova.groupby(['City/Suburb/Town/Rural 2013'])\n"
   ]
  },
  {
   "cell_type": "code",
   "execution_count": 57,
   "id": "af73de0f",
   "metadata": {},
   "outputs": [
    {
     "name": "stdout",
     "output_type": "stream",
     "text": [
      "ANOVA results: F= F_onewayResult(statistic=60.470231199169056, pvalue=5.416271238168328e-38)\n"
     ]
    }
   ],
   "source": [
    "# Perform the ANOVA calculation using the SciPy f_oneway method to calculate the F statistic using a one-way\n",
    "# ANOVA test and create the null hypothesis\n",
    "\n",
    "# H0: There is no difference in the mean percentage of adults with less than a high school diploma when broken\n",
    "#     down by City, Suburb, Rural, and Town areas.\n",
    "\n",
    "# Ha: There is a difference in the mean percentage of adults with less than a high school diploma when broken\n",
    "#     down by City, Suburb, Rural, and Town areas.\n",
    "\n",
    "anova_result_1 = stats.f_oneway(df_anova_groupby_area.get_group(\"City\")[\"% < HS Diploma, 2000\"], \n",
    "                                df_anova_groupby_area.get_group(\"Suburb\")[\"% < HS Diploma, 2000\"],\n",
    "                                df_anova_groupby_area.get_group(\"Rural\")[\"% < HS Diploma, 2000\"],\n",
    "                                df_anova_groupby_area.get_group(\"Town\")[\"% < HS Diploma, 2000\"])\n",
    "\n",
    "print( \"ANOVA results: F=\",anova_result_1)"
   ]
  },
  {
   "cell_type": "markdown",
   "id": "8ec41252",
   "metadata": {},
   "source": [
    "**Conclusion:** The result of the one-way ANOVA calculation produced a F-statistic significantly larger than 1 and a P-value much less than 0.05; this is statistically significant and is evidence to reject the null hypothesis (***H<sub>0</sub>***) that there is no difference in the mean percentage of adults with less than a high school diploma when broken down by City, Suburb, Rural, and Town areas. "
   ]
  },
  {
   "cell_type": "code",
   "execution_count": null,
   "id": "903c59ac",
   "metadata": {},
   "outputs": [],
   "source": []
  },
  {
   "cell_type": "markdown",
   "id": "74a7e961",
   "metadata": {},
   "source": [
    "## Project Summary: Answers to the Stated Questions"
   ]
  },
  {
   "cell_type": "markdown",
   "id": "71b0af84",
   "metadata": {},
   "source": [
    "#### 1\\. Even in U.S. states with low or moderate unemployment rates, are there counties with unusually high or low unemployment? (Paul)\n",
    "Yes. In the chart “Boxplot Showing County Ranges of Unemployment, 2000” it is clear that several states have counties representing outliers for high unemployment. Notably Texas with a median unemployment rate of about 5%, there are counties with double-digit unemployment, with one county as high as 17%.  However, in all fifty states, only Massachusetts and Wyoming had outliers representing counties with unusually low unemployment rates compared with the state median unemployment rate.\n",
    "\n",
    "#### 2\\. A charity organization wants to explore which communities have residents that need help in completing their high school education. Which communities should they look at to do the most good? (Paul)  \n",
    "The results of the ANOVA test show that there is a significant difference in City, Suburb, Rural and Town areas when looking for people with less than a high school diploma. The results of the Pearson Correlation test show a correlation between a county’s unemployment rate and residents having less than a high school diploma. Looking at the U.S. map, one can see that Louisiana, Mississippi, Tennessee and Kentucky all have a large percentage of residents with less than a high school diploma, and also have high unemployment. The residents in those states show the greatest need. \n",
    "\n",
    "#### 3\\. Does low unemployment correlate better with having a bachelor's degree (or higher) or just a high school diploma? (Paul)\n",
    "Having a bachelor's degree (or higher) correlates better with lower unemployment.  Unemployment is negatively correlated with having a bachelor's degree (-0.381) and having only a high school diploma (-0.0725). but the negative correlation is stronger for having the bachelor’s degree or higher.\n",
    "\n",
    "In other words, the higher the level of education in a county, the lower the unemployment rate will be. \n",
    "\n",
    "#### 4\\. Which years have the highest and lowest unemployment rate over the course of 21 years? (Fiona)\n",
    "From year 2000 to 2020, 2010 has the highest unemployment rate 9.64%, while 2019 has the lowest unemployment rate 3.66%. However, there was a great increase on unemployment rate in year 2020.\n",
    "\n",
    "#### 5\\. Which states contribute the most and the least for the unemployment change from year 2019 to 2020?\n",
    "All The states have increased unemployment rate from year 2019 to 2020. The five states that have the highest unemployment rate increases are Hawaii, Nevada, Massachusetts, New Jersey, Colorado. While the five states that have the lowest unemployment rate increases are Nebraska, Alaska, Mississippi, South Dakota, and Wyoming. The ECDF plot shows almost 50% of the states have unemployment rate changes which are higher than 100%.\n",
    "\n",
    "#### 6\\. Is there a significant change regarding percentages of people completing different diplomas between year 2000 and year 2015-2019? (Fiona)\n",
    "There is a significant change in the percentages of people completing different diplomas between year 2000 and year 2015-2019, with more people having bachelor's degree or higher, and fewer people having less than a high school diploma. However, the percentages of people with high school diploma only and college or associate's degree don't have too much difference.  \n",
    "\n",
    "#### 7\\. What is the correlation between the adults with less than a high school diploma 2000 and unemployment rate in the year of 2000? (Ping)\n",
    "(Answer)\n",
    "#### 8\\. What will happen if the adults completing some college or even completing a bachelor's degree or higher 2000? (Ping)\n",
    "(Answer)\n",
    "#### 9\\. How has civilian labor force changed in City/Suburb/Town/Rural areas from 2000, 2010 and 2019? (Ping)\n",
    "(Answer)\n",
    "\n"
   ]
  },
  {
   "cell_type": "code",
   "execution_count": null,
   "id": "445ab6f6",
   "metadata": {},
   "outputs": [],
   "source": []
  }
 ],
 "metadata": {
  "kernelspec": {
   "display_name": "Python 3",
   "language": "python",
   "name": "python3"
  },
  "language_info": {
   "codemirror_mode": {
    "name": "ipython",
    "version": 3
   },
   "file_extension": ".py",
   "mimetype": "text/x-python",
   "name": "python",
   "nbconvert_exporter": "python",
   "pygments_lexer": "ipython3",
   "version": "3.8.8"
  }
 },
 "nbformat": 4,
 "nbformat_minor": 5
}
